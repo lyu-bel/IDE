{
 "cells": [
  {
   "cell_type": "code",
   "execution_count": 1,
   "metadata": {},
   "outputs": [
    {
     "name": "stdout",
     "output_type": "stream",
     "text": [
      "Вы угадали число! Это число = 91, за 5 попыток\n"
     ]
    }
   ],
   "source": [
    "#guess the number РАБОЧАЯ ВЕРСИЯ БЕЗ ОГРАНИЧЕНИЙ ПО ДИАПАЗОНУ\n",
    "import numpy as np\n",
    "n = 100\n",
    "number = np.random.randint(1, n+1) # загадываем число\n",
    "count=1\n",
    "predict_number=n/2\n",
    "if number>50:\n",
    "    nd=50\n",
    "    kd=101\n",
    "if number<50:\n",
    "    nd=0\n",
    "    kd=50\n",
    "while True:\n",
    "    if predict_number==number:\n",
    "        print(f\"Вы угадали число! Это число = {number}, за {count} попыток\") \n",
    "        break  \n",
    "    while predict_number<number:\n",
    "        ub=predict_number\n",
    "        predict_number=(nd+kd)//2\n",
    "        nd=predict_number\n",
    "        count +=1\n",
    "        if predict_number>number:\n",
    "            nd=ub\n",
    "            kd=predict_number\n",
    "            break\n",
    "    while predict_number>number:\n",
    "        ub=predict_number\n",
    "        predict_number=(nd+kd)//2\n",
    "        kd=predict_number\n",
    "        count +=1\n",
    "        if predict_number<number:\n",
    "            nd=predict_number\n",
    "            kd=ub\n",
    "            break"
   ]
  },
  {
   "cell_type": "markdown",
   "metadata": {},
   "source": [
    "#задаем границы диапазонов"
   ]
  }
 ],
 "metadata": {
  "kernelspec": {
   "display_name": "Python 3",
   "language": "python",
   "name": "python3"
  },
  "language_info": {
   "codemirror_mode": {
    "name": "ipython",
    "version": 3
   },
   "file_extension": ".py",
   "mimetype": "text/x-python",
   "name": "python",
   "nbconvert_exporter": "python",
   "pygments_lexer": "ipython3",
   "version": "3.11.0"
  },
  "orig_nbformat": 4,
  "vscode": {
   "interpreter": {
    "hash": "e1d16d5a1ec97294322526250a12683f22a7478b9e5179e33780abaace6694ec"
   }
  }
 },
 "nbformat": 4,
 "nbformat_minor": 2
}
