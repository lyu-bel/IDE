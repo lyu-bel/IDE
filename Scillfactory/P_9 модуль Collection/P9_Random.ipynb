{
 "cells": [
  {
   "attachments": {},
   "cell_type": "markdown",
   "metadata": {},
   "source": [
    "Модуль NumPy. Случайные числа\n",
    "Случайное число — это число, которое возникает в результате случайного процесса."
   ]
  },
  {
   "attachments": {},
   "cell_type": "markdown",
   "metadata": {},
   "source": [
    "Вместо случайных чисел обычный компьютер (или даже большой мощный сервер) генерирует псевдослучайные числа.\n",
    "\n",
    "Псевдослучайные числа — это такая последовательность чисел, которая возникает с помощью применения математических формул к какому-то исходному числу (например, текущему времени в микросекундах). Элементы, получаемые таким образом, почти не зависят друг от друга: например, при генерации следующего 0 или 1 не имеет значения, что выпало ранее — 0 или 1."
   ]
  },
  {
   "attachments": {},
   "cell_type": "markdown",
   "metadata": {},
   "source": [
    "СЛУЧАЙНЫЕ ЧИСЛА В NUMPY"
   ]
  },
  {
   "attachments": {},
   "cell_type": "markdown",
   "metadata": {},
   "source": [
    "ГЕНЕРАЦИЯ FLOAT\n",
    "Для генерации псевдослучайных чисел в NumPy существует подмодуль random."
   ]
  },
  {
   "cell_type": "code",
   "execution_count": 24,
   "metadata": {},
   "outputs": [
    {
     "data": {
      "text/plain": [
       "0.2554058462176576"
      ]
     },
     "execution_count": 24,
     "metadata": {},
     "output_type": "execute_result"
    }
   ],
   "source": [
    "#Самой «базовой» функцией в нём можно считать функцию rand. \n",
    "#По умолчанию она генерирует число с плавающей точкой между 0 (включительно) и 1 (не включительно):\n",
    "\n",
    "import numpy as np\n",
    "np.random.rand()\n",
    "# 0.06600758835806675"
   ]
  },
  {
   "cell_type": "code",
   "execution_count": 25,
   "metadata": {},
   "outputs": [
    {
     "data": {
      "text/plain": [
       "32.379332924366174"
      ]
     },
     "execution_count": 25,
     "metadata": {},
     "output_type": "execute_result"
    }
   ],
   "source": [
    "#Чтобы получить случайное число в диапазоне, например, от 0 до 100, достаточно просто умножить генерируемое число на 100:\n",
    "\n",
    "np.random.rand() * 100\n",
    "# 69.76076924077643"
   ]
  },
  {
   "cell_type": "code",
   "execution_count": 26,
   "metadata": {},
   "outputs": [
    {
     "data": {
      "text/plain": [
       "array([0.43349146, 0.25378796, 0.48701125, 0.09118228, 0.17817388])"
      ]
     },
     "execution_count": 26,
     "metadata": {},
     "output_type": "execute_result"
    }
   ],
   "source": [
    "#На самом деле rand умеет генерировать не только отдельные числа — функция принимает в качестве аргументов через запятую целые числа, \n",
    "# которые задают форму генерируемого массива. Например, получим массив из пяти случайных чисел:\n",
    "\n",
    "np.random.rand(5)\n",
    "# array([0.83745099, 0.58426808, 0.89206204, 0.41149807, 0.42445145])"
   ]
  },
  {
   "cell_type": "code",
   "execution_count": 27,
   "metadata": {},
   "outputs": [
    {
     "data": {
      "text/plain": [
       "array([[0.12645385, 0.49550277, 0.56705236],\n",
       "       [0.24397289, 0.85519602, 0.31984852]])"
      ]
     },
     "execution_count": 27,
     "metadata": {},
     "output_type": "execute_result"
    }
   ],
   "source": [
    "#Массив из двух случайных строк и трёх столбцов:\n",
    "\n",
    "np.random.rand(2, 3)\n",
    "# array([[0.94931212, 0.06680018, 0.26707599],\n",
    "#      [0.67908873, 0.18001743, 0.97732239]])"
   ]
  },
  {
   "cell_type": "code",
   "execution_count": 28,
   "metadata": {},
   "outputs": [],
   "source": [
    "#Функция rand может принимать неограниченное число целых чисел для задания формы массива:\n",
    "\n",
    "#np.random.rand(2, 3, 4, 10, 12, 23)\n",
    "#Результата вывода порождаемого шестимерного массива мы не приводим для экономии места, но вы можете ради интереса запустить этот код \n",
    "# у себя в ноутбуке и увидеть результат."
   ]
  },
  {
   "attachments": {},
   "cell_type": "markdown",
   "metadata": {},
   "source": [
    "Обратите внимание, что обычно форму массивов мы задавали в функциях NumPy одним числом или кортежем, а не перечисляли её в виде аргументов через запятую."
   ]
  },
  {
   "cell_type": "code",
   "execution_count": 29,
   "metadata": {},
   "outputs": [
    {
     "ename": "TypeError",
     "evalue": "'tuple' object cannot be interpreted as an integer",
     "output_type": "error",
     "traceback": [
      "\u001b[1;31m---------------------------------------------------------------------------\u001b[0m",
      "\u001b[1;31mTypeError\u001b[0m                                 Traceback (most recent call last)",
      "\u001b[1;32md:\\IDE\\Scillfactory\\P_9 модуль Collection\\P9_Random.ipynb Cell 11\u001b[0m in \u001b[0;36m4\n\u001b[0;32m      <a href='vscode-notebook-cell:/d%3A/IDE/Scillfactory/P_9%20%D0%BC%D0%BE%D0%B4%D1%83%D0%BB%D1%8C%20Collection/P9_Random.ipynb#X14sZmlsZQ%3D%3D?line=0'>1</a>\u001b[0m \u001b[39m#Если передать в rand кортеж, возникнет ошибка:\u001b[39;00m\n\u001b[0;32m      <a href='vscode-notebook-cell:/d%3A/IDE/Scillfactory/P_9%20%D0%BC%D0%BE%D0%B4%D1%83%D0%BB%D1%8C%20Collection/P9_Random.ipynb#X14sZmlsZQ%3D%3D?line=2'>3</a>\u001b[0m shape \u001b[39m=\u001b[39m (\u001b[39m3\u001b[39m, \u001b[39m4\u001b[39m)\n\u001b[1;32m----> <a href='vscode-notebook-cell:/d%3A/IDE/Scillfactory/P_9%20%D0%BC%D0%BE%D0%B4%D1%83%D0%BB%D1%8C%20Collection/P9_Random.ipynb#X14sZmlsZQ%3D%3D?line=3'>4</a>\u001b[0m np\u001b[39m.\u001b[39;49mrandom\u001b[39m.\u001b[39;49mrand(shape)\n\u001b[0;32m      <a href='vscode-notebook-cell:/d%3A/IDE/Scillfactory/P_9%20%D0%BC%D0%BE%D0%B4%D1%83%D0%BB%D1%8C%20Collection/P9_Random.ipynb#X14sZmlsZQ%3D%3D?line=4'>5</a>\u001b[0m \u001b[39m# TypeError: 'tuple' object cannot be interpreted as an integer\u001b[39;00m\n\u001b[0;32m      <a href='vscode-notebook-cell:/d%3A/IDE/Scillfactory/P_9%20%D0%BC%D0%BE%D0%B4%D1%83%D0%BB%D1%8C%20Collection/P9_Random.ipynb#X14sZmlsZQ%3D%3D?line=5'>6</a>\u001b[0m \u001b[39m# Ошибка типов: кортеж не может быть интерпретирован как целое число.\u001b[39;00m\n",
      "File \u001b[1;32mmtrand.pyx:1182\u001b[0m, in \u001b[0;36mnumpy.random.mtrand.RandomState.rand\u001b[1;34m()\u001b[0m\n",
      "File \u001b[1;32mmtrand.pyx:425\u001b[0m, in \u001b[0;36mnumpy.random.mtrand.RandomState.random_sample\u001b[1;34m()\u001b[0m\n",
      "File \u001b[1;32m_common.pyx:307\u001b[0m, in \u001b[0;36mnumpy.random._common.double_fill\u001b[1;34m()\u001b[0m\n",
      "\u001b[1;31mTypeError\u001b[0m: 'tuple' object cannot be interpreted as an integer"
     ]
    }
   ],
   "source": [
    "#Если передать в rand кортеж, возникнет ошибка:\n",
    "\n",
    "shape = (3, 4)\n",
    "np.random.rand(shape)\n",
    "# TypeError: 'tuple' object cannot be interpreted as an integer\n",
    "# Ошибка типов: кортеж не может быть интерпретирован как целое число."
   ]
  },
  {
   "cell_type": "code",
   "execution_count": null,
   "metadata": {},
   "outputs": [
    {
     "data": {
      "text/plain": [
       "array([[0.39634074, 0.06113752, 0.91608122, 0.98814496],\n",
       "       [0.79515694, 0.59988503, 0.77392529, 0.5507553 ],\n",
       "       [0.33350433, 0.95820783, 0.72031162, 0.21675103]])"
      ]
     },
     "execution_count": 15,
     "metadata": {},
     "output_type": "execute_result"
    }
   ],
   "source": [
    "#Конечно, можно было бы распаковать кортеж, чтобы избавиться от ошибки:\n",
    "\n",
    "shape = (3, 4)\n",
    "np.random.rand(*shape)\n",
    "# array([[0.66169176, 0.19455777, 0.06451088, 0.31919608],\n",
    "#        [0.73536951, 0.67104408, 0.4762727 , 0.88153576],\n",
    "#        [0.70672971, 0.96677145, 0.09273995, 0.86356465]])"
   ]
  },
  {
   "cell_type": "code",
   "execution_count": null,
   "metadata": {},
   "outputs": [
    {
     "data": {
      "text/plain": [
       "array([[0.89552057, 0.41003079, 0.10870562],\n",
       "       [0.15086459, 0.32453797, 0.14833452]])"
      ]
     },
     "execution_count": 16,
     "metadata": {},
     "output_type": "execute_result"
    }
   ],
   "source": [
    "#Но в NumPy есть и другая функция, генерирующая массивы случайных чисел от 0 до 1, \n",
    "# которая принимает в качестве аргумента именно кортеж без распаковки. Она называется sample:\n",
    "\n",
    "shape = (2, 3)\n",
    "np.random.sample(shape)\n",
    "# array([[0.39756103, 0.01995168, 0.2768951 ],\n",
    "#       [0.82195372, 0.26435273, 0.00957881]])"
   ]
  },
  {
   "attachments": {},
   "cell_type": "markdown",
   "metadata": {},
   "source": [
    "Возможно, именно функция sample покажется вам удобнее, поскольку информацию о форме массива обычно удобнее хранить в коде в виде кортежа и не задумываться потом о его распаковке. В остальном функция sample не отличается от rand."
   ]
  },
  {
   "attachments": {},
   "cell_type": "markdown",
   "metadata": {},
   "source": [
    "#Не всегда требуются числа в диапазоне именно от 0 до 1. На самом деле с помощью специальных формул можно из диапазона от 0 до 1 \n",
    "# получить любой другой желаемый диапазон, однако это не требуется делать самостоятельно — в NumPy доступна функция uniform:\n",
    "\n",
    "#uniform(low=0.0, high=1.0, size=None)\n",
    "#Первые два аргумента — нижняя и верхняя границы диапазона в формате float, третий опциональный аргумент — \n",
    "# форма массива (если не задан, возвращается одно число). Форма массива задаётся кортежем или одним числом.\n",
    "Первые два аргумента — нижняя и верхняя границы диапазона в формате float, третий опциональный аргумент — форма массива (если не задан, возвращается одно число). Форма массива задаётся кортежем или одним числом."
   ]
  },
  {
   "cell_type": "code",
   "execution_count": 32,
   "metadata": {},
   "outputs": [
    {
     "data": {
      "text/plain": [
       "0.005304633686739169"
      ]
     },
     "execution_count": 32,
     "metadata": {},
     "output_type": "execute_result"
    }
   ],
   "source": [
    "#Запуск без аргументов эквивалентен работе функций rand или sample:\n",
    "\n",
    "np.random.uniform()\n",
    "# 0.951557685543591"
   ]
  },
  {
   "cell_type": "code",
   "execution_count": 33,
   "metadata": {},
   "outputs": [
    {
     "data": {
      "text/plain": [
       "-6.009807847836981"
      ]
     },
     "execution_count": 33,
     "metadata": {},
     "output_type": "execute_result"
    }
   ],
   "source": [
    "#Зададим границы диапазона от -30 до 50:\n",
    "\n",
    "np.random.uniform(-30, 50)\n",
    "# 38.47365525953661"
   ]
  },
  {
   "cell_type": "code",
   "execution_count": 34,
   "metadata": {},
   "outputs": [
    {
     "data": {
      "text/plain": [
       "array([0.55517314, 0.701292  , 0.53341999, 0.59903434, 0.63888316])"
      ]
     },
     "execution_count": 34,
     "metadata": {},
     "output_type": "execute_result"
    }
   ],
   "source": [
    "#Получим пять чисел в интервале от 0.5 до 0.75:\n",
    "\n",
    "np.random.uniform(0.5, 0.75, size=5)\n",
    "# array([0.58078945, 0.58860342, 0.73790553, 0.63448265, 0.70920297])"
   ]
  },
  {
   "cell_type": "code",
   "execution_count": 35,
   "metadata": {},
   "outputs": [
    {
     "data": {
      "text/plain": [
       "array([[-848.59078792,  128.68593523,    2.41729599],\n",
       "       [ 159.86074424, -113.80689419, -703.81529874]])"
      ]
     },
     "execution_count": 35,
     "metadata": {},
     "output_type": "execute_result"
    }
   ],
   "source": [
    "#Получим массив из двух строк и трёх столбцов из чисел в интервале от -1000 до 500:\n",
    "\n",
    "np.random.uniform(-1000, 500, size=(2, 3))\n",
    "# array([[ 129.22164163,   77.69090611, -132.9656972 ],\n",
    "#        [  18.65802226, -317.14793906,   85.3613547 ]])"
   ]
  },
  {
   "attachments": {},
   "cell_type": "markdown",
   "metadata": {},
   "source": [
    "ГЕНЕРАЦИЯ INT"
   ]
  },
  {
   "attachments": {},
   "cell_type": "markdown",
   "metadata": {},
   "source": [
    "Для генерации целых чисел используется функция random.randint:\n",
    "\n",
    "randint(low, high=None, size=None, dtype=int)\n",
    "Функцию randint нельзя запустить совсем без параметров, необходимо указать хотя бы одно число.\n",
    "\n",
    "Если указан только аргумент low, числа будут генерироваться от 0 до low-1, то есть верхняя граница не включается.\n",
    "Если задать low и high, числа будут генерироваться от low (включительно) до high (не включительно).\n",
    "size задаёт форму массива уже привычным для вас образом: одним числом — для одномерного или кортежем — для многомерного.\n",
    "dtype позволяет задать конкретный тип данных, который должен быть использован в массиве."
   ]
  },
  {
   "cell_type": "code",
   "execution_count": 36,
   "metadata": {},
   "outputs": [
    {
     "data": {
      "text/plain": [
       "array([[3, 0, 0],\n",
       "       [2, 1, 3]])"
      ]
     },
     "execution_count": 36,
     "metadata": {},
     "output_type": "execute_result"
    }
   ],
   "source": [
    "#Сгенерируем таблицу 2x3 от 0 до 3 включительно:\n",
    "\n",
    "np.random.randint(4, size=(2,3))\n",
    "# array([[3, 0, 1],\n",
    "#       [2, 1, 3]])"
   ]
  },
  {
   "cell_type": "code",
   "execution_count": 37,
   "metadata": {},
   "outputs": [
    {
     "data": {
      "text/plain": [
       "array([[ 7, 10,  7],\n",
       "       [ 8,  6, 11],\n",
       "       [ 8,  8,  8]])"
      ]
     },
     "execution_count": 37,
     "metadata": {},
     "output_type": "execute_result"
    }
   ],
   "source": [
    "#Чтобы задать и нижнюю, и верхнюю границы самостоятельно, передадим два числа, а затем форму:\n",
    "\n",
    "np.random.randint(6, 12, size=(3,3))\n",
    "# array([[ 9,  6, 10],\n",
    "#        [10, 11, 10],\n",
    "#        [ 7, 10, 11]])"
   ]
  },
  {
   "attachments": {},
   "cell_type": "markdown",
   "metadata": {},
   "source": [
    "Как и ожидалось, мы получили случайные числа от 6 до 11. Число 12 при этом никогда не было бы сгенерировано, так как верхняя граница диапазона не включена в генерацию."
   ]
  },
  {
   "attachments": {},
   "cell_type": "markdown",
   "metadata": {},
   "source": [
    "ГЕНЕРАЦИЯ ВЫБОРОК"
   ]
  },
  {
   "attachments": {},
   "cell_type": "markdown",
   "metadata": {},
   "source": [
    " Случайные числа можно использовать и для работы с уже существующими данными. Иногда для проверки гипотез о данных бывает удобно перемешать значения, чтобы проверить, является ли наблюдаемая закономерность случайной.\n",
    "\n",
    "→\n",
    "Просто перемешать все числа в массиве позволяет функция random.shuffle.\n",
    "\n",
    "Вспомните, во многих сервисах для прослушивания музыки есть функция shuffle для перемешивания композиций в плейлисте."
   ]
  },
  {
   "cell_type": "code",
   "execution_count": 38,
   "metadata": {},
   "outputs": [
    {
     "name": "stdout",
     "output_type": "stream",
     "text": [
      "[0 1 2 3 4 5]\n",
      "None\n"
     ]
    },
    {
     "data": {
      "text/plain": [
       "array([5, 2, 4, 1, 3, 0])"
      ]
     },
     "execution_count": 38,
     "metadata": {},
     "output_type": "execute_result"
    }
   ],
   "source": [
    "#Возьмём массив из целых чисел от 0 до 5 и перемешаем его:\n",
    "\n",
    "arr = np.arange(6)\n",
    "print(arr)\n",
    "# [0 1 2 3 4 5]\n",
    "print(np.random.shuffle(arr))\n",
    "# None\n",
    "arr\n",
    "# array([0, 5, 1, 3, 2, 4])"
   ]
  },
  {
   "attachments": {},
   "cell_type": "markdown",
   "metadata": {},
   "source": [
    "Функция random.shuffle перемешивает тот массив, к которому применяется, и возвращает None.\n",
    "\n",
    "Чтобы получить новый перемешанный массив, а исходный оставить без изменений, можно использовать функцию random.permutation. Она принимает на вход один аргумент — или массив целиком, или одно число:"
   ]
  },
  {
   "cell_type": "code",
   "execution_count": 39,
   "metadata": {},
   "outputs": [
    {
     "name": "stdout",
     "output_type": "stream",
     "text": [
      "['Pink Floyd' 'Deep Purple' 'The Beatles' 'ACDC']\n",
      "['The Beatles', 'Pink Floyd', 'ACDC', 'Deep Purple']\n"
     ]
    }
   ],
   "source": [
    "playlist = [\"The Beatles\", \"Pink Floyd\", \"ACDC\", \"Deep Purple\"]\n",
    "shuffled = np.random.permutation(playlist)\n",
    "print(shuffled)\n",
    "# ['The Beatles' 'Pink Floyd' 'Deep Purple' 'ACDC']\n",
    "print(playlist)\n",
    "# ['The Beatles', 'Pink Floyd', 'ACDC', 'Deep Purple']"
   ]
  },
  {
   "attachments": {},
   "cell_type": "markdown",
   "metadata": {},
   "source": [
    "Обратите внимание, что необязательно передавать в функцию сразу массив: в этот раз мы передали в качестве аргумента список и ошибки не возникло. При этом на выходе получился уже NumPy-массив (это заметно по отсутствию запятых при печати массива). Сам список playlist при этом остался без изменений."
   ]
  },
  {
   "cell_type": "code",
   "execution_count": 41,
   "metadata": {},
   "outputs": [
    {
     "data": {
      "text/plain": [
       "array([ 5, 12,  7, 10,  9,  2, 13, 15,  1,  0, 14,  4,  8,  6,  3, 11, 17,\n",
       "       16])"
      ]
     },
     "execution_count": 41,
     "metadata": {},
     "output_type": "execute_result"
    }
   ],
   "source": [
    "#Перемешать набор чисел от 0 до n-1 можно с помощью записи np.random.permutation(n), \n",
    "# где n — верхняя граница, которая бы использовалась для генерации набора чисел функцией arange.\n",
    "\n",
    "np.random.permutation(18)\n",
    "# array([7, 8, 2, 9, 4, 3, 1, 0, 5, 6])\n",
    "# По сути, вначале создаётся массив из чисел с помощью arange, а затем он перемешивается. \n",
    "# С помощью permutation можно избежать совершения этого дополнительного действия."
   ]
  },
  {
   "attachments": {},
   "cell_type": "markdown",
   "metadata": {},
   "source": [
    "Чтобы получить случайный набор объектов из массива, используется функция random.choice:\n",
    "\n",
    "choice(a, size=None, replace=True)\n",
    "a — одномерный массив или число для генерации arange(a);\n",
    "size — желаемая форма массива (число для получения одномерного массива, кортеж — для многомерного; если параметр не задан, возвращается один объект);\n",
    "replace — параметр, задающий, могут ли элементы повторяться (по умолчанию могут)."
   ]
  },
  {
   "cell_type": "code",
   "execution_count": 43,
   "metadata": {},
   "outputs": [
    {
     "name": "stdout",
     "output_type": "stream",
     "text": [
      "['Maria' 'Kate']\n"
     ]
    }
   ],
   "source": [
    "#Выберем случайным образом из списка двоих человек, которые должны будут выступить с отчётом на этой неделе. \n",
    "# Для этого из списка имён (опять же, можно передавать в функцию choice не NumPy-массив, а список)\n",
    "# получим два случайных объекта без повторений (логично, что нужно выбрать двух разных людей). \n",
    "# Сделать это можно вот так:\n",
    "\n",
    "workers = ['Ivan', 'Nikita', 'Maria', 'John', 'Kate']\n",
    " \n",
    "choice = np.random.choice(workers, size=2, replace=False)\n",
    "print(choice)\n",
    "#На выходе получили массив из двух имён без повторений. "
   ]
  },
  {
   "cell_type": "code",
   "execution_count": 44,
   "metadata": {},
   "outputs": [
    {
     "ename": "ValueError",
     "evalue": "Cannot take a larger sample than population when 'replace=False'",
     "output_type": "error",
     "traceback": [
      "\u001b[1;31m---------------------------------------------------------------------------\u001b[0m",
      "\u001b[1;31mValueError\u001b[0m                                Traceback (most recent call last)",
      "\u001b[1;32md:\\IDE\\Scillfactory\\P_9 модуль Collection\\P9_Random.ipynb Cell 34\u001b[0m in \u001b[0;36m4\n\u001b[0;32m      <a href='vscode-notebook-cell:/d%3A/IDE/Scillfactory/P_9%20%D0%BC%D0%BE%D0%B4%D1%83%D0%BB%D1%8C%20Collection/P9_Random.ipynb#X50sZmlsZQ%3D%3D?line=0'>1</a>\u001b[0m \u001b[39m#Если попытаться получить без повторений массив большего размера, чем имеется объектов в исходном, возникнет ошибка:\u001b[39;00m\n\u001b[0;32m      <a href='vscode-notebook-cell:/d%3A/IDE/Scillfactory/P_9%20%D0%BC%D0%BE%D0%B4%D1%83%D0%BB%D1%8C%20Collection/P9_Random.ipynb#X50sZmlsZQ%3D%3D?line=2'>3</a>\u001b[0m workers \u001b[39m=\u001b[39m [\u001b[39m'\u001b[39m\u001b[39mIvan\u001b[39m\u001b[39m'\u001b[39m, \u001b[39m'\u001b[39m\u001b[39mNikita\u001b[39m\u001b[39m'\u001b[39m, \u001b[39m'\u001b[39m\u001b[39mMaria\u001b[39m\u001b[39m'\u001b[39m, \u001b[39m'\u001b[39m\u001b[39mJohn\u001b[39m\u001b[39m'\u001b[39m, \u001b[39m'\u001b[39m\u001b[39mKate\u001b[39m\u001b[39m'\u001b[39m]\n\u001b[1;32m----> <a href='vscode-notebook-cell:/d%3A/IDE/Scillfactory/P_9%20%D0%BC%D0%BE%D0%B4%D1%83%D0%BB%D1%8C%20Collection/P9_Random.ipynb#X50sZmlsZQ%3D%3D?line=3'>4</a>\u001b[0m choice \u001b[39m=\u001b[39m np\u001b[39m.\u001b[39;49mrandom\u001b[39m.\u001b[39;49mchoice(workers, size\u001b[39m=\u001b[39;49m\u001b[39m10\u001b[39;49m, replace\u001b[39m=\u001b[39;49m\u001b[39mFalse\u001b[39;49;00m)\n\u001b[0;32m      <a href='vscode-notebook-cell:/d%3A/IDE/Scillfactory/P_9%20%D0%BC%D0%BE%D0%B4%D1%83%D0%BB%D1%8C%20Collection/P9_Random.ipynb#X50sZmlsZQ%3D%3D?line=4'>5</a>\u001b[0m \u001b[39mprint\u001b[39m(choice)\n\u001b[0;32m      <a href='vscode-notebook-cell:/d%3A/IDE/Scillfactory/P_9%20%D0%BC%D0%BE%D0%B4%D1%83%D0%BB%D1%8C%20Collection/P9_Random.ipynb#X50sZmlsZQ%3D%3D?line=5'>6</a>\u001b[0m \u001b[39m# ValueError: Cannot take a larger sample than population when 'replace=False'\u001b[39;00m\n\u001b[0;32m      <a href='vscode-notebook-cell:/d%3A/IDE/Scillfactory/P_9%20%D0%BC%D0%BE%D0%B4%D1%83%D0%BB%D1%8C%20Collection/P9_Random.ipynb#X50sZmlsZQ%3D%3D?line=6'>7</a>\u001b[0m \u001b[39m# Ошибка значения: нельзя получить выборку больше, чем популяция (популяция — весь доступный набор объектов, \u001b[39;00m\n\u001b[0;32m      <a href='vscode-notebook-cell:/d%3A/IDE/Scillfactory/P_9%20%D0%BC%D0%BE%D0%B4%D1%83%D0%BB%D1%8C%20Collection/P9_Random.ipynb#X50sZmlsZQ%3D%3D?line=7'>8</a>\u001b[0m \u001b[39m# из которого получаем выборку), если replace=False (то есть выборка без повторений)\u001b[39;00m\n",
      "File \u001b[1;32mmtrand.pyx:965\u001b[0m, in \u001b[0;36mnumpy.random.mtrand.RandomState.choice\u001b[1;34m()\u001b[0m\n",
      "\u001b[1;31mValueError\u001b[0m: Cannot take a larger sample than population when 'replace=False'"
     ]
    }
   ],
   "source": [
    "#Если попытаться получить без повторений массив большего размера, чем имеется объектов в исходном, возникнет ошибка:\n",
    "\n",
    "workers = ['Ivan', 'Nikita', 'Maria', 'John', 'Kate']\n",
    "choice = np.random.choice(workers, size=10, replace=False)\n",
    "print(choice)\n",
    "# ValueError: Cannot take a larger sample than population when 'replace=False'\n",
    "# Ошибка значения: нельзя получить выборку больше, чем популяция (популяция — весь доступный набор объектов, \n",
    "# из которого получаем выборку), если replace=False (то есть выборка без повторений)"
   ]
  },
  {
   "attachments": {},
   "cell_type": "markdown",
   "metadata": {},
   "source": [
    "Выборка с повторениями используется по умолчанию. Она применяется в том случае, когда мы допускаем, что объекты могут повторяться."
   ]
  },
  {
   "cell_type": "code",
   "execution_count": 48,
   "metadata": {},
   "outputs": [
    {
     "name": "stdout",
     "output_type": "stream",
     "text": [
      "[1 4 6 1 5 5 4 3 5 2]\n"
     ]
    }
   ],
   "source": [
    "#Например, получим случайную последовательность, которая образуется в результате десяти подбрасываний игральной кости:\n",
    "\n",
    "choice = np.random.choice([1,2,3,4,5,6], size=10)\n",
    "print(choice)\n",
    "# [3 5 5 6 6 4 2 2 1 3]\n",
    "#В данном случае ошибка не возникает за счёт того, что объекты могут повторяться."
   ]
  },
  {
   "attachments": {},
   "cell_type": "markdown",
   "metadata": {},
   "source": [
    "SEED ГЕНЕРАТОРА ПСЕВДОСЛУЧАЙНЫХ ЧИСЕЛ\n",
    "\n",
    "→ Как уже было сказано ранее, NumPy генерирует не истинные случайные числа (такие числа получаются в результате случайных процессов), а псевдослучайные, которые получаются с помощью особых преобразований какого-либо исходного числа. Обычно компьютер берёт это число автоматически, например, из текущего времени в микросекундах (на самом деле используются другие ещё менее предсказуемые числа). Такое число называют seed (от англ. — «зерно»).\n",
    "\n",
    "Иногда бывает необходимо получать одинаковые воспроизводимые последовательности случайных чисел, например чтобы проверить результаты вычислений, для которых использовались случайные числа, на предмет ошибок.\n",
    "\n",
    "Самостоятельно задать seed в NumPy можно с помощью функции np.random.seed(<np.uint32>). Число в скобках должно быть в пределах от 0 до 2**32 - 1 (=4294967295)."
   ]
  },
  {
   "cell_type": "code",
   "execution_count": 52,
   "metadata": {},
   "outputs": [
    {
     "data": {
      "text/plain": [
       "array([[3, 6, 8, 9],\n",
       "       [6, 8, 7, 9],\n",
       "       [3, 6, 1, 2]])"
      ]
     },
     "execution_count": 52,
     "metadata": {},
     "output_type": "execute_result"
    }
   ],
   "source": [
    "#Зададим seed и посмотрим, что получится:\n",
    "\n",
    "np.random.seed(23)\n",
    "np.random.randint(10, size=(3,4))\n",
    "# array([[3, 6, 8, 9],\n",
    "#        [6, 8, 7, 9],\n",
    "#        [3, 6, 1, 2]])"
   ]
  },
  {
   "cell_type": "code",
   "execution_count": 56,
   "metadata": {},
   "outputs": [
    {
     "name": "stdout",
     "output_type": "stream",
     "text": [
      "[8 8 3]\n",
      "[7 7 0]\n",
      "[4 2 5]\n"
     ]
    }
   ],
   "source": [
    "#Если вы запустите этот код на своём компьютере, то, скорее всего, увидите тот же самый набор чисел!\n",
    "\n",
    "np.random.seed(100)\n",
    "print(np.random.randint(10, size=3))\n",
    "# [8 8 3]\n",
    "print(np.random.randint(10, size=3))\n",
    "# [7 7 0]\n",
    "print(np.random.randint(10, size=3))\n",
    "# [4 2 5]"
   ]
  },
  {
   "attachments": {},
   "cell_type": "markdown",
   "metadata": {},
   "source": [
    "При этом запуск одной и той же функции генерации случайных чисел несколько  раз после задания seed не приводит к генерации одних и тех же чисел. Однако итоговый результат работы всегда будет одинаковый в совокупности."
   ]
  }
 ],
 "metadata": {
  "kernelspec": {
   "display_name": "Python 3",
   "language": "python",
   "name": "python3"
  },
  "language_info": {
   "codemirror_mode": {
    "name": "ipython",
    "version": 3
   },
   "file_extension": ".py",
   "mimetype": "text/x-python",
   "name": "python",
   "nbconvert_exporter": "python",
   "pygments_lexer": "ipython3",
   "version": "3.11.0"
  },
  "orig_nbformat": 4
 },
 "nbformat": 4,
 "nbformat_minor": 2
}
