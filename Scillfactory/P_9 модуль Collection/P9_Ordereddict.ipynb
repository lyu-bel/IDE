{
 "cells": [
  {
   "attachments": {},
   "cell_type": "markdown",
   "metadata": {},
   "source": [
    "ORDEREDDICT"
   ]
  },
  {
   "cell_type": "code",
   "execution_count": 1,
   "metadata": {},
   "outputs": [
    {
     "name": "stdout",
     "output_type": "stream",
     "text": [
      "{'Ivan': 19, 'Mark': 25, 'Andrey': 23, 'Maria': 20}\n"
     ]
    }
   ],
   "source": [
    "# В далёкие времена (а точнее, до 2018 года) словари в Python не сохраняли порядок ключей, которые в них добавляли. \n",
    "# Попробуйте в Codeboard создать несколько раз словарь с одними и теми же ключами и значениями и напечатать его:\n",
    "\n",
    "# Напоминаем способ создания словаря через список кортежей\n",
    "# (ключ, значение)\n",
    "data = [('Ivan', 19),('Mark', 25),('Andrey', 23),('Maria', 20)]\n",
    "client_ages = dict(data)\n",
    "print(client_ages)\n",
    "# По результатам 3 повторов получились вот такие результаты:\n",
    "# {'Maria': 20, 'Mark': 25, 'Ivan': 19, 'Andrey': 23}\n",
    "# {'Ivan': 19, 'Andrey': 23, 'Mark': 25, 'Maria': 20}\n",
    "# {'Andrey': 23, 'Mark': 25, 'Maria': 20, 'Ivan': 19}"
   ]
  },
  {
   "attachments": {},
   "cell_type": "markdown",
   "metadata": {},
   "source": [
    "Как видите, каждый раз при повторном запуске кода порядок элементов меняется. Изначально объект dict не гарантировал выдачу ключей и значений в порядке их добавления.\n",
    "\n",
    "Сохранение ключей в словаре в порядке добавления не всегда является существенным, но при необходимости словарь с таким функционалом можно получить из модуля collections."
   ]
  },
  {
   "cell_type": "code",
   "execution_count": 2,
   "metadata": {},
   "outputs": [
    {
     "name": "stdout",
     "output_type": "stream",
     "text": [
      "OrderedDict([('Ivan', 19), ('Mark', 25), ('Andrey', 23), ('Maria', 20)])\n"
     ]
    }
   ],
   "source": [
    "#Специальный словарь, который гарантирует сохранение ключей в порядке их добавления, называется OrderedDict:\n",
    "\n",
    "from collections import OrderedDict\n",
    "data = [('Ivan', 19),('Mark', 25),('Andrey', 23),('Maria', 20)]\n",
    "ordered_client_ages = OrderedDict(data)\n",
    "print(ordered_client_ages)\n",
    "# По результатам 3 повторов получились вот такие результаты:\n",
    "# OrderedDict([('Ivan', 19), ('Mark', 25), ('Andrey', 23), ('Maria', 20)])\n",
    "# OrderedDict([('Ivan', 19), ('Mark', 25), ('Andrey', 23), ('Maria', 20)])\n",
    "# OrderedDict([('Ivan', 19), ('Mark', 25), ('Andrey', 23), ('Maria', 20)])"
   ]
  },
  {
   "attachments": {},
   "cell_type": "markdown",
   "metadata": {},
   "source": [
    "Как видите, порядок добавленных ключей сохраняется. Также при выводе словаря на экран печатается тип данных (OrderedDict), к которому он относится.\n",
    "\n",
    "Можно, например, отсортировать с помощью функции sorted список кортежей при создании из него OrderedDict, и объекты будут добавлены в порядке сортировки:"
   ]
  },
  {
   "cell_type": "code",
   "execution_count": 3,
   "metadata": {},
   "outputs": [
    {
     "name": "stdout",
     "output_type": "stream",
     "text": [
      "OrderedDict([('Ivan', 19), ('Maria', 20), ('Andrey', 23), ('Mark', 25)])\n"
     ]
    }
   ],
   "source": [
    "data = [('Ivan', 19),('Mark', 25),('Andrey', 23),('Maria', 20)]\n",
    "# Сортируем по второму значению из кортежа, то есть по возрасту\n",
    "ordered_client_ages = OrderedDict(sorted(data, key=lambda x: x[1]))\n",
    "print(ordered_client_ages)\n",
    "# OrderedDict([('Ivan', 19), ('Maria', 20), ('Andrey', 23), ('Mark', 25)])"
   ]
  },
  {
   "cell_type": "code",
   "execution_count": 4,
   "metadata": {},
   "outputs": [
    {
     "name": "stdout",
     "output_type": "stream",
     "text": [
      "OrderedDict([('Ivan', 19), ('Maria', 20), ('Andrey', 23), ('Mark', 25), ('Nikita', 18)])\n"
     ]
    }
   ],
   "source": [
    "#Если теперь добавить нового человека в словарь, новая запись окажется в конце:\n",
    "\n",
    "ordered_client_ages['Nikita'] = 18\n",
    "print(ordered_client_ages)\n",
    "# OrderedDict([('Ivan', 19), ('Maria', 20), ('Andrey', 23), ('Mark', 25), ('Nikita', 18)])"
   ]
  },
  {
   "cell_type": "code",
   "execution_count": 5,
   "metadata": {},
   "outputs": [
    {
     "name": "stdout",
     "output_type": "stream",
     "text": [
      "OrderedDict([('Ivan', 19), ('Maria', 20), ('Mark', 25), ('Nikita', 18)])\n",
      "OrderedDict([('Ivan', 19), ('Maria', 20), ('Mark', 25), ('Nikita', 18), ('Andrey', 23)])\n"
     ]
    }
   ],
   "source": [
    "#Если удалить элемент, а затем добавить его снова, он также окажется в конце:\n",
    "\n",
    "del ordered_client_ages['Andrey']\n",
    "print(ordered_client_ages)\n",
    "# OrderedDict([('Ivan', 19), ('Mark', 25), ('Maria', 20), ('Nikita', 18)])\n",
    "ordered_client_ages['Andrey'] = 23\n",
    "print(ordered_client_ages)\n",
    "# OrderedDict([('Ivan', 19), ('Mark', 25), ('Maria', 20), ('Nikita', 18), ('Andrey', 23)])"
   ]
  },
  {
   "cell_type": "code",
   "execution_count": 7,
   "metadata": {},
   "outputs": [
    {
     "name": "stdout",
     "output_type": "stream",
     "text": [
      "3.11.0 (main, Oct 24 2022, 18:26:48) [MSC v.1933 64 bit (AMD64)]\n"
     ]
    }
   ],
   "source": [
    "#Узнать версию Python в коде можно из переменной version из модуля sys.\n",
    "\n",
    "import sys\n",
    "print(sys.version)"
   ]
  }
 ],
 "metadata": {
  "kernelspec": {
   "display_name": "Python 3",
   "language": "python",
   "name": "python3"
  },
  "language_info": {
   "codemirror_mode": {
    "name": "ipython",
    "version": 3
   },
   "file_extension": ".py",
   "mimetype": "text/x-python",
   "name": "python",
   "nbconvert_exporter": "python",
   "pygments_lexer": "ipython3",
   "version": "3.11.0"
  },
  "orig_nbformat": 4
 },
 "nbformat": 4,
 "nbformat_minor": 2
}
