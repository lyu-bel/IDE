{
 "cells": [
  {
   "attachments": {},
   "cell_type": "markdown",
   "metadata": {},
   "source": [
    "DEFAULTDICT\n",
    "объект defaultdict из модуля collections. \n",
    "Он позволяет задавать тот тип данных, который хранится в словаре по умолчанию (в нашем случае это должен быть список). Это бывает удобно в том случае, если приходится заполнять одну и ту же структуру данных, экземпляр которой должен храниться по каждому ключу в словаре."
   ]
  },
  {
   "attachments": {},
   "cell_type": "markdown",
   "metadata": {},
   "source": [
    "Например, чтобы сохранить информацию о колебании курсов валют за последний месяц, можно создать словарь из валютных пар (USD/RUB, EUR/RUB и т. д.), а по ключам разместить списки из стоимости валюты по курсу ЦБ за последние 30 дней. В таком словаре по каждому ключу должен быть доступен список.\n",
    "\n",
    "Создадим defaultdict, в котором при обращении по несуществующему ключу будет автоматически создаваться новый список. Для этого при создании объекта defaultdict в круглых скобках передадим параметр list:"
   ]
  },
  {
   "cell_type": "code",
   "execution_count": 2,
   "metadata": {},
   "outputs": [],
   "source": [
    "from collections import defaultdict\n",
    "groups = defaultdict(list)\n",
    "students = [('Ivanov',1),('Smirnov',4),('Petrov',3),('Kuznetsova',1),\n",
    "            ('Nikitina',2),('Markov',3),('Pavlov',2)]"
   ]
  },
  {
   "attachments": {},
   "cell_type": "markdown",
   "metadata": {},
   "source": [
    "Обратите внимание, что в скобках мы передаём именно указатель на класс объекта (например list; также можно было бы применить set, dict) без круглых скобок, которые используются для создания нового экземпляра объекта.\n",
    "\n",
    "Теперь тот же код, который вызывал ошибку при работе с обычным словарём, сработает так, как ожидается:"
   ]
  },
  {
   "cell_type": "code",
   "execution_count": 3,
   "metadata": {},
   "outputs": [
    {
     "name": "stdout",
     "output_type": "stream",
     "text": [
      "defaultdict(<class 'list'>, {1: ['Ivanov', 'Kuznetsova'], 4: ['Smirnov'], 3: ['Petrov', 'Markov'], 2: ['Nikitina', 'Pavlov']})\n"
     ]
    }
   ],
   "source": [
    "for student, group in students:\n",
    "    groups[group].append(student)\n",
    " \n",
    "print(groups)\n",
    "# defaultdict(<class 'list'>, {1: ['Ivanov', 'Kuznetsova'], 4: ['Smirnov'], 3: ['Petrov', 'Markov'], 2: ['Nikitina', 'Pavlov']})"
   ]
  },
  {
   "attachments": {},
   "cell_type": "markdown",
   "metadata": {},
   "source": [
    "В выводе есть небольшое отличие от обычного словаря: печатаются не только элементы словаря, но и само название объекта defaultdict, а также класс объекта, который задан по умолчанию. В данном случае это <class 'list'>. "
   ]
  },
  {
   "cell_type": "code",
   "execution_count": 4,
   "metadata": {},
   "outputs": [
    {
     "name": "stdout",
     "output_type": "stream",
     "text": [
      "['Petrov', 'Markov']\n"
     ]
    }
   ],
   "source": [
    "#Получить элемент из defaultdict по ключу можно так же, как и из обычного словаря:\n",
    "\n",
    "print(groups[3])\n",
    "# ['Petrov', 'Markov']"
   ]
  },
  {
   "cell_type": "code",
   "execution_count": 6,
   "metadata": {},
   "outputs": [
    {
     "name": "stdout",
     "output_type": "stream",
     "text": [
      "[]\n",
      "defaultdict(<class 'list'>, {1: ['Ivanov', 'Kuznetsova'], 4: ['Smirnov'], 3: ['Petrov', 'Markov'], 2: ['Nikitina', 'Pavlov'], 2021: []})\n"
     ]
    }
   ],
   "source": [
    "#Если запрашиваемого ключа нет в словаре, KeyError не возникнет. Вместо этого будет напечатан пустой элемент, который создаётся в словаре по умолчанию:\n",
    "\n",
    "print(groups[2021])\n",
    "# Теперь в словаре groups автоматически появился элемент 2021 с пустым списком внутри, несмотря на то что мы его не создавали:\n",
    "\n",
    "print(groups)\n",
    "# defaultdict(<class 'list'>, {1: ['Ivanov', 'Kuznetsova'], 4: ['Smirnov'], 3: ['Petrov', 'Markov'], 2: ['Nikitina', 'Pavlov'], 2021: []})"
   ]
  },
  {
   "cell_type": "code",
   "execution_count": 7,
   "metadata": {},
   "outputs": [
    {
     "name": "stdout",
     "output_type": "stream",
     "text": [
      "<class 'dict'>\n",
      "<class 'collections.defaultdict'>\n"
     ]
    }
   ],
   "source": [
    "#Итак, вы обратили внимание, что поведение defaultdict в коде отличается от обычного словаря dict. \n",
    "# Узнать, с каким именно словарём мы имеем дело в коде, можно с помощью встроенной функции type:\n",
    "\n",
    "dict_object = dict()\n",
    "defaultdict_object = defaultdict()\n",
    " \n",
    "print(type(dict_object))\n",
    "# <class 'dict'>\n",
    "print(type(defaultdict_object))\n",
    "# <class 'collections.defaultdict'>"
   ]
  },
  {
   "cell_type": "code",
   "execution_count": 8,
   "metadata": {},
   "outputs": [
    {
     "name": "stdout",
     "output_type": "stream",
     "text": [
      "{}\n",
      "defaultdict(None, {})\n"
     ]
    }
   ],
   "source": [
    "#Видно, что типы переменных dict_object и defaultdict_object отличаются.\n",
    "\n",
    "print(dict_object)\n",
    "# {}\n",
    "print(defaultdict_object)\n",
    "# defaultdict(None, {})\n",
    "#Заметьте, что в этом примере мы не задавали объект, который по умолчанию хранится в экземпляре defaultdict, поэтому объектом по умолчанию является None."
   ]
  }
 ],
 "metadata": {
  "kernelspec": {
   "display_name": "Python 3",
   "language": "python",
   "name": "python3"
  },
  "language_info": {
   "codemirror_mode": {
    "name": "ipython",
    "version": 3
   },
   "file_extension": ".py",
   "mimetype": "text/x-python",
   "name": "python",
   "nbconvert_exporter": "python",
   "pygments_lexer": "ipython3",
   "version": "3.11.0"
  },
  "orig_nbformat": 4
 },
 "nbformat": 4,
 "nbformat_minor": 2
}
