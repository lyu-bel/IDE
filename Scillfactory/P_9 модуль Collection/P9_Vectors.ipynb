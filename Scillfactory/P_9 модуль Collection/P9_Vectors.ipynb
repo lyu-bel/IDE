{
 "cells": [
  {
   "attachments": {},
   "cell_type": "markdown",
   "metadata": {},
   "source": [
    "Векторы\n",
    "вектором называют одномерный проиндексированный набор данных, другими словами — одномерный массив."
   ]
  },
  {
   "attachments": {},
   "cell_type": "markdown",
   "metadata": {},
   "source": [
    "ВЕКТОРЫ В NUMPY И АРИФМЕТИКА\n",
    "С векторами в NumPy можно производить арифметические операции: складывать, вычитать, умножать друг на друга, возводить один вектор в степень другого и т. д.\n",
    "\n",
    "Операция, применённая к двум векторам, на самом деле применяется поэлементно. То есть при сложении двух векторов первым элементом нового вектора будет сумма первых элементов исходных векторов, вторым — сумма вторых элементов и т. д."
   ]
  },
  {
   "cell_type": "code",
   "execution_count": 1,
   "metadata": {},
   "outputs": [
    {
     "data": {
      "text/plain": [
       "array([14. , 10. , 10.6, 15.5])"
      ]
     },
     "execution_count": 1,
     "metadata": {},
     "output_type": "execute_result"
    }
   ],
   "source": [
    "\n",
    "#Произведём сложение двух векторов:\n",
    "\n",
    "import numpy as np\n",
    "vec1 = np.array([2, 4, 7, 2.5])\n",
    "vec2 = np.array([12, 6, 3.6, 13])\n",
    "vec1 + vec2\n",
    "# array([14. , 10. , 10.6, 15.5])"
   ]
  },
  {
   "cell_type": "code",
   "execution_count": 2,
   "metadata": {},
   "outputs": [
    {
     "data": {
      "text/plain": [
       "[2, 4, 7, 2.5, 12, 6, 3.6, 13]"
      ]
     },
     "execution_count": 2,
     "metadata": {},
     "output_type": "execute_result"
    }
   ],
   "source": [
    "#Что бы произошло при сложении двух списков? Их элементы просто объединились бы в один список:\n",
    "\n",
    "list1 = [2, 4, 7, 2.5]\n",
    "list2 = [12, 6, 3.6, 13]\n",
    "list1 + list2\n",
    "# [2, 4, 7, 2.5, 12, 6, 3.6, 13]"
   ]
  },
  {
   "cell_type": "code",
   "execution_count": 3,
   "metadata": {},
   "outputs": [
    {
     "data": {
      "text/plain": [
       "[14, 10, 10.6, 15.5]"
      ]
     },
     "execution_count": 3,
     "metadata": {},
     "output_type": "execute_result"
    }
   ],
   "source": [
    "#Чтобы сложить два этих списка поэлементно, нам пришлось бы написать списочное сокращение с применением функции zip():\n",
    "\n",
    "[x + y for x, y in zip(list1, list2)]\n",
    "# [14, 10, 10.6, 15.5]"
   ]
  },
  {
   "attachments": {},
   "cell_type": "markdown",
   "metadata": {},
   "source": [
    "Для совершения арифметических операций с векторами они должны быть одинаковой длины."
   ]
  },
  {
   "cell_type": "code",
   "execution_count": 4,
   "metadata": {},
   "outputs": [
    {
     "data": {
      "text/plain": [
       "array([24. , 24. , 25.2, 32.5])"
      ]
     },
     "execution_count": 4,
     "metadata": {},
     "output_type": "execute_result"
    }
   ],
   "source": [
    "#Поэлементно умножим два вектора одинаковой длины:\n",
    "\n",
    "vec1 = np.array([2, 4, 7, 2.5])\n",
    "vec2 = np.array([12, 6, 3.6, 13])\n",
    "vec1 * vec2\n",
    "# array([24. , 24. , 25.2, 32.5])"
   ]
  },
  {
   "cell_type": "code",
   "execution_count": 5,
   "metadata": {},
   "outputs": [
    {
     "ename": "ValueError",
     "evalue": "operands could not be broadcast together with shapes (4,) (3,) ",
     "output_type": "error",
     "traceback": [
      "\u001b[1;31m---------------------------------------------------------------------------\u001b[0m",
      "\u001b[1;31mValueError\u001b[0m                                Traceback (most recent call last)",
      "\u001b[1;32md:\\IDE\\Scillfactory\\P_9 модуль Collection\\P9_Vectors.ipynb Cell 8\u001b[0m in \u001b[0;36m6\n\u001b[0;32m      <a href='vscode-notebook-cell:/d%3A/IDE/Scillfactory/P_9%20%D0%BC%D0%BE%D0%B4%D1%83%D0%BB%D1%8C%20Collection/P9_Vectors.ipynb#X12sZmlsZQ%3D%3D?line=2'>3</a>\u001b[0m vec1 \u001b[39m=\u001b[39m np\u001b[39m.\u001b[39marray([\u001b[39m2\u001b[39m, \u001b[39m4\u001b[39m, \u001b[39m7\u001b[39m, \u001b[39m2.5\u001b[39m])\n\u001b[0;32m      <a href='vscode-notebook-cell:/d%3A/IDE/Scillfactory/P_9%20%D0%BC%D0%BE%D0%B4%D1%83%D0%BB%D1%8C%20Collection/P9_Vectors.ipynb#X12sZmlsZQ%3D%3D?line=3'>4</a>\u001b[0m vec2 \u001b[39m=\u001b[39m np\u001b[39m.\u001b[39marray([\u001b[39m12\u001b[39m, \u001b[39m6\u001b[39m, \u001b[39m3.6\u001b[39m])\n\u001b[1;32m----> <a href='vscode-notebook-cell:/d%3A/IDE/Scillfactory/P_9%20%D0%BC%D0%BE%D0%B4%D1%83%D0%BB%D1%8C%20Collection/P9_Vectors.ipynb#X12sZmlsZQ%3D%3D?line=5'>6</a>\u001b[0m vec1 \u001b[39m*\u001b[39;49m vec2\n\u001b[0;32m      <a href='vscode-notebook-cell:/d%3A/IDE/Scillfactory/P_9%20%D0%BC%D0%BE%D0%B4%D1%83%D0%BB%D1%8C%20Collection/P9_Vectors.ipynb#X12sZmlsZQ%3D%3D?line=6'>7</a>\u001b[0m \u001b[39m# ValueError: operands could not be broadcast together with shapes (4,) (3,)\u001b[39;00m\n\u001b[0;32m      <a href='vscode-notebook-cell:/d%3A/IDE/Scillfactory/P_9%20%D0%BC%D0%BE%D0%B4%D1%83%D0%BB%D1%8C%20Collection/P9_Vectors.ipynb#X12sZmlsZQ%3D%3D?line=7'>8</a>\u001b[0m \u001b[39m# Ошибка значения: операнд не может быть распространён одновременно на структуры с формами (4,) и (3,).\u001b[39;00m\n",
      "\u001b[1;31mValueError\u001b[0m: operands could not be broadcast together with shapes (4,) (3,) "
     ]
    }
   ],
   "source": [
    "#А теперь создадим vec2, который будет на один элемент короче, чем vec1:\n",
    "\n",
    "vec1 = np.array([2, 4, 7, 2.5])\n",
    "vec2 = np.array([12, 6, 3.6])\n",
    " \n",
    "vec1 * vec2\n",
    "# ValueError: operands could not be broadcast together with shapes (4,) (3,)\n",
    "# Ошибка значения: операнд не может быть распространён одновременно на структуры с формами (4,) и (3,)."
   ]
  },
  {
   "cell_type": "code",
   "execution_count": 7,
   "metadata": {},
   "outputs": [
    {
     "name": "stdout",
     "output_type": "stream",
     "text": [
      "[ 0 10 20 30 40]\n"
     ]
    },
    {
     "data": {
      "text/plain": [
       "array([ 0,  1,  4,  9, 16])"
      ]
     },
     "execution_count": 7,
     "metadata": {},
     "output_type": "execute_result"
    }
   ],
   "source": [
    "#Исключением является случай, когда операция происходит с вектором и одним числом. Например, вектор целиком можно умножить на число или возвести в степень этого числа:\n",
    "\n",
    "vec = np.arange(5)\n",
    "print(vec * 10)\n",
    "# array([ 0, 10, 20, 30, 40])\n",
    "vec ** 2\n",
    "# array([ 0,  1,  4,  9, 16])"
   ]
  },
  {
   "cell_type": "code",
   "execution_count": 9,
   "metadata": {},
   "outputs": [
    {
     "data": {
      "text/plain": [
       "array([False, False,  True, False])"
      ]
     },
     "execution_count": 9,
     "metadata": {},
     "output_type": "execute_result"
    }
   ],
   "source": [
    "#Также векторы можно сравнивать друг с другом поэлементно:\n",
    "\n",
    "vec1 = np.array([2, 4, 7, 2.5])\n",
    "vec2 = np.array([12, 6, 3.6, 13])\n",
    " \n",
    "vec1 > vec2\n",
    "# array([False, False,  True, False])\n",
    "#В результате получаем вектор исходной длины из булевых переменных, которые соответствуют результату поэлементного сравнения чисел\n",
    "# из двух векторов."
   ]
  },
  {
   "cell_type": "code",
   "execution_count": 10,
   "metadata": {},
   "outputs": [
    {
     "data": {
      "text/plain": [
       "array([ True,  True,  True,  True, False,  True, False])"
      ]
     },
     "execution_count": 10,
     "metadata": {},
     "output_type": "execute_result"
    }
   ],
   "source": [
    "#Аналогично можно сравнивать вектор с числом:\n",
    "\n",
    "vec = np.array([14,15,9,26,53,5,89])\n",
    "vec <= 26\n",
    "# array([ True,  True,  True,  True, False,  True, False])"
   ]
  },
  {
   "attachments": {},
   "cell_type": "markdown",
   "metadata": {},
   "source": [
    "ПРОДВИНУТЫЕ ОПЕРАЦИИ С ВЕКТОРАМИ"
   ]
  },
  {
   "cell_type": "code",
   "execution_count": 12,
   "metadata": {},
   "outputs": [
    {
     "name": "stdout",
     "output_type": "stream",
     "text": [
      "5.0\n"
     ]
    }
   ],
   "source": [
    "#Посчитаем длину следующего вектора:\n",
    "\n",
    "vec = np.array([3, 4])\n",
    "#Для начала воспользуемся формулой: возведём все элементы в квадрат, посчитаем их сумму, а затем найдём квадратный корень. \n",
    "# Найдите все перечисленные операции в данном коде:\n",
    "\n",
    "length = np.sqrt(np.sum(vec ** 2))\n",
    "print(length)"
   ]
  },
  {
   "cell_type": "code",
   "execution_count": 13,
   "metadata": {},
   "outputs": [
    {
     "name": "stdout",
     "output_type": "stream",
     "text": [
      "5.0\n"
     ]
    }
   ],
   "source": [
    "#Но можно было поступить проще. В NumPy есть специальный подмодуль linalg, который позволяет производить операции из линейной алгебры.\n",
    "\n",
    "#Для вычисления длины вектора нам потребуется функция norm:\n",
    "\n",
    "length = np.linalg.norm(vec)\n",
    "print(length)\n",
    "# 5.0\n",
    "#Мы получили то же самое расстояние с помощью одного действия!"
   ]
  },
  {
   "attachments": {},
   "cell_type": "markdown",
   "metadata": {},
   "source": [
    "Расстояние между двумя векторами, то есть расстояние между их концами, [в евклидовом пространстве] вычисляется как квадратный корень из суммы квадратов разностей соответствующих координат."
   ]
  },
  {
   "cell_type": "code",
   "execution_count": 14,
   "metadata": {},
   "outputs": [
    {
     "data": {
      "text/plain": [
       "12.206555615733702"
      ]
     },
     "execution_count": 14,
     "metadata": {},
     "output_type": "execute_result"
    }
   ],
   "source": [
    "#Реализуем вычисление расстояния в коде. Сначала — «сложным» способом напрямую из формулы:\n",
    "\n",
    "vec1 = np.array([0, 3, 5])\n",
    "vec2 = np.array([12, 4, 7])\n",
    "distance = np.sqrt(np.sum((vec1 - vec2) ** 2))\n",
    "distance"
   ]
  },
  {
   "cell_type": "code",
   "execution_count": 15,
   "metadata": {},
   "outputs": [
    {
     "data": {
      "text/plain": [
       "12.206555615733702"
      ]
     },
     "execution_count": 15,
     "metadata": {},
     "output_type": "execute_result"
    }
   ],
   "source": [
    "#А теперь применим более простой способ — используем уже известную нам функцию np.linalg.norm:\n",
    "\n",
    "vec1 = np.array([0, 3, 5])\n",
    "vec2 = np.array([12, 4, 7])\n",
    "distance = np.linalg.norm(vec1 - vec2)\n",
    "distance\n",
    "# 12.206555615733702"
   ]
  },
  {
   "attachments": {},
   "cell_type": "markdown",
   "metadata": {},
   "source": [
    "Наконец, скалярным произведением двух векторов называют сумму произведений их соответствующих координат"
   ]
  },
  {
   "cell_type": "code",
   "execution_count": 16,
   "metadata": {},
   "outputs": [
    {
     "data": {
      "text/plain": [
       "250.0"
      ]
     },
     "execution_count": 16,
     "metadata": {},
     "output_type": "execute_result"
    }
   ],
   "source": [
    "#Реализуем это в коде (по-английски скалярное произведение называют dot — точечный — или scalar product, отсюда и такое название переменной):\n",
    "\n",
    "vec1 = np.arange(1, 6)\n",
    "vec2 = np.linspace(10, 20, 5)\n",
    "scalar_product = np.sum(vec1 * vec2)\n",
    "scalar_product"
   ]
  },
  {
   "cell_type": "code",
   "execution_count": 17,
   "metadata": {},
   "outputs": [
    {
     "data": {
      "text/plain": [
       "250.0"
      ]
     },
     "execution_count": 17,
     "metadata": {},
     "output_type": "execute_result"
    }
   ],
   "source": [
    "#используют функцию np.dot(x, y):\n",
    "\n",
    "scalar_product = np.dot(vec1, vec2)\n",
    "scalar_product\n",
    "# 250.0"
   ]
  },
  {
   "cell_type": "code",
   "execution_count": 19,
   "metadata": {},
   "outputs": [
    {
     "data": {
      "text/plain": [
       "0"
      ]
     },
     "execution_count": 19,
     "metadata": {},
     "output_type": "execute_result"
    }
   ],
   "source": [
    "#Скалярное произведение также имеет широкое применение в математике и других операциях с векторами. \n",
    "# В частности, равенство скалярного произведения нулю означает перпендикулярность рассматриваемых векторов:\n",
    "\n",
    "x = np.array([25, 0])\n",
    "y = np.array([0, 10])\n",
    "np.dot(x, y)\n",
    "#В целом, скалярное произведение часто используется для определения угла между векторами."
   ]
  },
  {
   "attachments": {},
   "cell_type": "markdown",
   "metadata": {},
   "source": [
    "БАЗОВЫЕ СТАТИСТИЧЕСКИЕ ФУНКЦИИ ДЛЯ ВЕКТОРОВ"
   ]
  },
  {
   "cell_type": "code",
   "execution_count": 20,
   "metadata": {},
   "outputs": [
    {
     "data": {
      "text/plain": [
       "28"
      ]
     },
     "execution_count": 20,
     "metadata": {},
     "output_type": "execute_result"
    }
   ],
   "source": [
    "#Функции np.min и np.max позволяют находить максимальное и минимальное значение в векторе. Их можно записывать как в виде np.min(<vector>), так и в виде <vector>.min():\n",
    "\n",
    "vec = np.array([2,7,18,28,18,1,8,4])\n",
    "vec.min()\n",
    "# 1\n",
    "np.max(vec)\n",
    "# 28"
   ]
  },
  {
   "cell_type": "code",
   "execution_count": 21,
   "metadata": {},
   "outputs": [
    {
     "data": {
      "text/plain": [
       "10.75"
      ]
     },
     "execution_count": 21,
     "metadata": {},
     "output_type": "execute_result"
    }
   ],
   "source": [
    "#Функция mean позволяет посчитать среднее значение. Больше не требуется реализовывать её «руками»!\n",
    "\n",
    "vec.mean()\n",
    "# 10.75"
   ]
  }
 ],
 "metadata": {
  "kernelspec": {
   "display_name": "Python 3",
   "language": "python",
   "name": "python3"
  },
  "language_info": {
   "codemirror_mode": {
    "name": "ipython",
    "version": 3
   },
   "file_extension": ".py",
   "mimetype": "text/x-python",
   "name": "python",
   "nbconvert_exporter": "python",
   "pygments_lexer": "ipython3",
   "version": "3.11.0"
  },
  "orig_nbformat": 4
 },
 "nbformat": 4,
 "nbformat_minor": 2
}
