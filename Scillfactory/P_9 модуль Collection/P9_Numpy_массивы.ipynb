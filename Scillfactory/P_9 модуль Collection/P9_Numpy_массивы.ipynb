{
 "cells": [
  {
   "attachments": {},
   "cell_type": "markdown",
   "metadata": {},
   "source": [
    "Модуль NumPy. Массивы"
   ]
  },
  {
   "attachments": {},
   "cell_type": "markdown",
   "metadata": {},
   "source": [
    "→ Массив в программировании — это ещё одна структура данных. Она позволяет хранить элементы в заданном порядке точно так же, как это делают списки. \n",
    "\n",
    "Однако массивы обладают особым свойством: элемент по любому номеру из массива можно получить за одно и то же время. Другими словами, неважно, находится элемент в начале, в середине или в конце списка — на времени получения элемента из массива по индексу (номеру) это никак не скажется.\n",
    "\n",
    "Обычно такое быстродействие массивов достигается за счёт того, что все элементы в массиве приведены к одному и тому же типу данных. Как именно это позволяет ускорить работу с данными, будет показано немного позднее.\n",
    "\n",
    "Наконец, традиционные массивы обладают заданной программистом длиной (числом элементов), на которую компьютер выделяет память. Для сравнения — в списке длина изначально ничем не ограничена."
   ]
  },
  {
   "attachments": {},
   "cell_type": "markdown",
   "metadata": {},
   "source": [
    "Итак, массив — это структура данных, в которой:\n",
    "1. Элементы хранятся в указанном порядке.\n",
    "\n",
    "2. Каждый элемент можно получить по индексу за одинаковое время.\n",
    "\n",
    "3. Все элементы приведены к одному и тому же типу данных.\n",
    "\n",
    "4. Максимальное число элементов и объём выделенной памяти заданы заранее."
   ]
  },
  {
   "attachments": {},
   "cell_type": "markdown",
   "metadata": {},
   "source": [
    "Размерностью массива называют то число индексов, которое необходимо для однозначного получения элемента из массива.\n",
    "\n",
    "Соответственно, чтобы найти элемент в массиве размерности 1 (строка из чисел) достаточно одного индекса.\n",
    "В двумерном массиве (таблице из чисел) потребуется уже два индекса: номер строки и номер столбца.\n",
    "Для трёхмерного массива (например, контейнеры на судне расположены по длине, ширине и высоте судна) потребуется уже три индекса.\n",
    "Максимальная размерность массива программно не ограничена, но с добавлением каждой размерности в несколько раз увеличивается объём требуемой для его хранения памяти. Поэтому в какой-то момент места для массива большой размерности может не хватить, однако фактическая максимальная размерность зависит от возможностей компьютера.\n",
    "\n",
    "Форма (структура) массива — это информация о количестве размерностей массива и протяжённости массива по каждой из размерностей. Например, можно задать двумерный массив размера 3x5 — у этой таблицы две размерности: 3 строки и 5 столбцов."
   ]
  },
  {
   "attachments": {},
   "cell_type": "markdown",
   "metadata": {},
   "source": [
    "Чем же всё это отличается от списка?\n",
    "\n",
    "В списке не гарантируется получение любого элемента по индексу за одинаковое время (обычно чем больше индекс, тем дольше занимает время получения элемента).\n",
    "Также с совокупностью элементов списка работать дольше, чем с элементами массива. На самом деле Python list является чем-то средним между классическим списком из теории структур данных и массивом, но по скорости он тоже проигрывает массивам.\n",
    "Зато к преимуществам списка можно отнести легко изменяющуюся длину, а также возможность хранения данных разных типов в одной структуре данных. С другой стороны, последнее может быть и недостатком: при работе с массивами одинаковых данных можно быть уверенным, что там не окажется «сюрпризов» в виде данных неподходящего типа."
   ]
  },
  {
   "cell_type": "code",
   "execution_count": 26,
   "metadata": {},
   "outputs": [
    {
     "data": {
      "text/plain": [
       "array([ 1,  5,  2,  9, 10])"
      ]
     },
     "execution_count": 26,
     "metadata": {},
     "output_type": "execute_result"
    }
   ],
   "source": [
    "#СОЗДАНИЕ МАССИВА ИЗ СПИСКА\n",
    "\n",
    "#Создать массив из списка можно с помощью функции np.array(<объект>):\n",
    "\n",
    "import numpy as np\n",
    "arr = np.array([1,5,2,9,10])\n",
    "arr\n",
    "# array([ 1,  5,  2,  9, 10])"
   ]
  },
  {
   "attachments": {},
   "cell_type": "markdown",
   "metadata": {},
   "source": [
    "Название ndarray — это сокращение от n-dimensional array, -мерный массив.\n",
    "\n",
    "Таким образом, массивы в NumPy, даже одномерные, на самом деле хранятся в объекте, который позволяет работать с многомерными массивами."
   ]
  },
  {
   "cell_type": "code",
   "execution_count": 27,
   "metadata": {},
   "outputs": [
    {
     "data": {
      "text/plain": [
       "array([[12, 45, 78],\n",
       "       [34, 56, 13],\n",
       "       [12, 98, 76]])"
      ]
     },
     "execution_count": 27,
     "metadata": {},
     "output_type": "execute_result"
    }
   ],
   "source": [
    "#Давайте теперь создадим двумерный массив из списка списков. Его также можно назвать таблицей чисел или матрицей. Сделаем это с помощью той же функции np.array():\n",
    "\n",
    "# Перечислить список из списков можно\n",
    "# было и в одну строку, но на нескольких\n",
    "# строках получается нагляднее\n",
    "nd_arr = np.array([\n",
    "               [12, 45, 78],\n",
    "               [34, 56, 13],\n",
    "               [12, 98, 76]\n",
    "               ])\n",
    "nd_arr\n",
    "# array([[12, 45, 78],\n",
    "#        [34, 56, 13],\n",
    "#        [12, 98, 76]])"
   ]
  },
  {
   "cell_type": "code",
   "execution_count": 28,
   "metadata": {},
   "outputs": [
    {
     "data": {
      "text/plain": [
       "dtype('int32')"
      ]
     },
     "execution_count": 28,
     "metadata": {},
     "output_type": "execute_result"
    }
   ],
   "source": [
    "#ТИПЫ ДАННЫХ В МАССИВЕ\n",
    "#Мы только что узнали, что массив — это набор однотипных данных, но не указали никакой тип. \n",
    "# Какого типа данные хранятся теперь в массиве arr? Узнать это можно, напечатав свойство dtype:\n",
    "\n",
    "arr = np.array([1,5,2,9,10])\n",
    "arr.dtype\n",
    "# dtype('int64')"
   ]
  },
  {
   "cell_type": "code",
   "execution_count": 29,
   "metadata": {},
   "outputs": [
    {
     "data": {
      "text/plain": [
       "array([ 1,  5,  2,  9, 10], dtype=int8)"
      ]
     },
     "execution_count": 29,
     "metadata": {},
     "output_type": "execute_result"
    }
   ],
   "source": [
    "# Задать тип данных сразу при создании массива можно с помощью параметра dtype:\n",
    "\n",
    "arr = np.array([1,5,2,9,10], dtype=np.int8)\n",
    "arr\n",
    "# array([ 1,  5,  2,  9, 10], dtype=int8)"
   ]
  },
  {
   "cell_type": "code",
   "execution_count": 30,
   "metadata": {},
   "outputs": [
    {
     "data": {
      "text/plain": [
       "array([  1,   5, 125,   9,  10], dtype=int8)"
      ]
     },
     "execution_count": 30,
     "metadata": {},
     "output_type": "execute_result"
    }
   ],
   "source": [
    "#Теперь, если добавить в arr число больше 127 или меньше -128, оно потеряет исходное значение, как и при преобразовании к меньшему типу:\n",
    "\n",
    "arr[2] = 2000\n",
    "arr\n",
    "# array([  1,   5, -48,   9,  10], dtype=int8)\n",
    "\n",
    "#Если добавить float в массив int, пропадёт десятичная часть:\n",
    "\n",
    "arr[2] = 125.5\n",
    "arr\n",
    "# array([  1,   5, 125,   9,  10], dtype=int8)"
   ]
  },
  {
   "cell_type": "code",
   "execution_count": 31,
   "metadata": {},
   "outputs": [
    {
     "data": {
      "text/plain": [
       "array([ 1,  5, 12,  9, 10], dtype=int8)"
      ]
     },
     "execution_count": 31,
     "metadata": {},
     "output_type": "execute_result"
    }
   ],
   "source": [
    "#Строку, которую можно преобразовать в число, можно сразу положить в массив. Она будет приведена к нужному типу автоматически:\n",
    "\n",
    "arr[2] = '12'\n",
    "arr\n",
    "# array([ 1,  5, 12,  9, 10], dtype=int8)"
   ]
  },
  {
   "cell_type": "code",
   "execution_count": 32,
   "metadata": {},
   "outputs": [
    {
     "ename": "ValueError",
     "evalue": "invalid literal for int() with base 10: 'test'",
     "output_type": "error",
     "traceback": [
      "\u001b[1;31m---------------------------------------------------------------------------\u001b[0m",
      "\u001b[1;31mValueError\u001b[0m                                Traceback (most recent call last)",
      "\u001b[1;32md:\\IDE\\Scillfactory\\P_9 модуль Collection\\P9_Numpy_массивы.ipynb Cell 13\u001b[0m in \u001b[0;36m3\n\u001b[0;32m      <a href='vscode-notebook-cell:/d%3A/IDE/Scillfactory/P_9%20%D0%BC%D0%BE%D0%B4%D1%83%D0%BB%D1%8C%20Collection/P9_Numpy_%D0%BC%D0%B0%D1%81%D1%81%D0%B8%D0%B2%D1%8B.ipynb#X15sZmlsZQ%3D%3D?line=0'>1</a>\u001b[0m \u001b[39m#А вот при попытке положить в массив строку, которую нельзя преобразовать в число, возникнет ошибка:\u001b[39;00m\n\u001b[1;32m----> <a href='vscode-notebook-cell:/d%3A/IDE/Scillfactory/P_9%20%D0%BC%D0%BE%D0%B4%D1%83%D0%BB%D1%8C%20Collection/P9_Numpy_%D0%BC%D0%B0%D1%81%D1%81%D0%B8%D0%B2%D1%8B.ipynb#X15sZmlsZQ%3D%3D?line=2'>3</a>\u001b[0m arr[\u001b[39m2\u001b[39;49m] \u001b[39m=\u001b[39m \u001b[39m'\u001b[39m\u001b[39mtest\u001b[39m\u001b[39m'\u001b[39m\n\u001b[0;32m      <a href='vscode-notebook-cell:/d%3A/IDE/Scillfactory/P_9%20%D0%BC%D0%BE%D0%B4%D1%83%D0%BB%D1%8C%20Collection/P9_Numpy_%D0%BC%D0%B0%D1%81%D1%81%D0%B8%D0%B2%D1%8B.ipynb#X15sZmlsZQ%3D%3D?line=3'>4</a>\u001b[0m \u001b[39m# ValueError: invalid literal for int() with base 10: 'test'\u001b[39;00m\n",
      "\u001b[1;31mValueError\u001b[0m: invalid literal for int() with base 10: 'test'"
     ]
    }
   ],
   "source": [
    "#А вот при попытке положить в массив строку, которую нельзя преобразовать в число, возникнет ошибка:\n",
    "\n",
    "arr[2] = 'test'\n",
    "# ValueError: invalid literal for int() with base 10: 'test'"
   ]
  },
  {
   "cell_type": "code",
   "execution_count": null,
   "metadata": {},
   "outputs": [
    {
     "data": {
      "text/plain": [
       "array([ 33,  46, 107,  42, 100], dtype=uint8)"
      ]
     },
     "execution_count": 9,
     "metadata": {},
     "output_type": "execute_result"
    }
   ],
   "source": [
    "#При преобразовании типов данных в массиве не забывайте о том, что часть чисел может потерять смысл, если менять тип данных с более ёмкого на менее ёмкий:\n",
    "\n",
    "arr = np.array([12321, -1234, 3435, -214, 100], dtype=np.int32)\n",
    "arr\n",
    "# array([12321, -1234,  3435,  -214,   100], dtype=int32)\n",
    " \n",
    "arr = np.uint8(arr)\n",
    "arr\n",
    "# array([ 33,  46, 107,  42, 100], dtype=uint8)\n",
    "#Все числа, кроме 100, не могли быть корректно представлены в формате uint8, поэтому они отличаются от того, что ожидалось."
   ]
  },
  {
   "attachments": {},
   "cell_type": "markdown",
   "metadata": {},
   "source": [
    "СВОЙСТВА NUMPY-МАССИВОВ"
   ]
  },
  {
   "cell_type": "code",
   "execution_count": null,
   "metadata": {},
   "outputs": [
    {
     "data": {
      "text/plain": [
       "2"
      ]
     },
     "execution_count": 10,
     "metadata": {},
     "output_type": "execute_result"
    }
   ],
   "source": [
    "#Узнать размерность массива можно с помощью .ndim:\n",
    "\n",
    "arr.ndim\n",
    "# 1\n",
    "nd_arr.ndim\n",
    "# 2\n",
    "#В самом деле, мы создали arr одномерным, а nd_arr — двумерным."
   ]
  },
  {
   "cell_type": "code",
   "execution_count": null,
   "metadata": {},
   "outputs": [
    {
     "data": {
      "text/plain": [
       "9"
      ]
     },
     "execution_count": 11,
     "metadata": {},
     "output_type": "execute_result"
    }
   ],
   "source": [
    "#Узнать общее число элементов в массиве можно с помощью .size:\n",
    "\n",
    "arr.size\n",
    "# 5\n",
    "nd_arr.size\n",
    "# 9"
   ]
  },
  {
   "cell_type": "code",
   "execution_count": null,
   "metadata": {},
   "outputs": [
    {
     "data": {
      "text/plain": [
       "(3, 3)"
      ]
     },
     "execution_count": 12,
     "metadata": {},
     "output_type": "execute_result"
    }
   ],
   "source": [
    "#Форма или структура массива хранится в атрибуте .shape:\n",
    "\n",
    "arr.shape\n",
    "# (5,)\n",
    "nd_arr.shape\n",
    "# (3, 3)"
   ]
  },
  {
   "cell_type": "code",
   "execution_count": null,
   "metadata": {},
   "outputs": [
    {
     "data": {
      "text/plain": [
       "4"
      ]
     },
     "execution_count": 13,
     "metadata": {},
     "output_type": "execute_result"
    }
   ],
   "source": [
    "#Наконец, узнать, сколько «весит» каждый элемент массива в байтах позволяет .itemsize:\n",
    "\n",
    "arr.itemsize\n",
    "# 1\n",
    "nd_arr.itemsize\n",
    "# 2"
   ]
  },
  {
   "attachments": {},
   "cell_type": "markdown",
   "metadata": {},
   "source": [
    "ЗАПОЛНЕНИЕ НОВЫХ МАССИВОВ\n",
    "Не всегда значения, которые будут храниться в массиве, уже доступны, а иметь для них массив уже хочется.\n",
    "Можно заранее подготовить массив заданной размерности, заполненный нулями, а потом загружать в него реальные данные по мере необходимости.\n",
    "Массив из нулей создаётся функцией np.zeros. Она принимает аргументы shape (обязательный) — форма массива (одно число или кортеж) и dtype (необязательный) — тип данных, который будет храниться в массиве."
   ]
  },
  {
   "cell_type": "code",
   "execution_count": null,
   "metadata": {},
   "outputs": [
    {
     "data": {
      "text/plain": [
       "array([0., 0., 0., 0., 0.])"
      ]
     },
     "execution_count": 14,
     "metadata": {},
     "output_type": "execute_result"
    }
   ],
   "source": [
    "#Создадим одномерный массив из пяти элементов:\n",
    "\n",
    "zeros_1d = np.zeros(5)\n",
    "zeros_1d\n",
    "# array([0., 0., 0., 0., 0.])"
   ]
  },
  {
   "cell_type": "code",
   "execution_count": null,
   "metadata": {},
   "outputs": [
    {
     "name": "stdout",
     "output_type": "stream",
     "text": [
      "(5, 4, 3)\n"
     ]
    }
   ],
   "source": [
    "#Создадим трёхмерный массив с формой 5x4x3 и типом float32:\n",
    "\n",
    "zeros_3d = np.zeros((5,4,3), dtype=np.float32)\n",
    "print(zeros_3d.shape)\n",
    "# (5, 4, 3)"
   ]
  },
  {
   "attachments": {},
   "cell_type": "markdown",
   "metadata": {},
   "source": [
    "Функция arrange\n",
    "Ещё одной удобной функцией для создания одномерных массивов является arange. Она аналогична встроенной функции range, но обладает рядом особенностей. Вот её сигнатура: arange([start,] stop, [step,], dtype=None).\n",
    "\n",
    "Аргументы start (по умолчанию 0), step (по умолчанию 1) и dtype (определяется автоматически) являются необязательными:\n",
    "\n",
    "start (входит в диапазон возвращаемых значений) задаёт начальное число;\n",
    "stop (не входит в диапазон возвращаемых значений, как и при использовании range) задаёт правую границу диапазона;\n",
    "step задаёт шаг, с которым в массив добавляются новые значения.\n",
    "В отличие от range, в функции arange все перечисленные параметры могут иметь тип float."
   ]
  },
  {
   "cell_type": "code",
   "execution_count": null,
   "metadata": {},
   "outputs": [
    {
     "data": {
      "text/plain": [
       "array([0, 1, 2, 3, 4])"
      ]
     },
     "execution_count": 16,
     "metadata": {},
     "output_type": "execute_result"
    }
   ],
   "source": [
    "#Поэкспериментируем. Создадим массив из пяти чисел от 0 до 4:\n",
    "\n",
    "np.arange(5)\n",
    "# array([0, 1, 2, 3, 4])"
   ]
  },
  {
   "cell_type": "code",
   "execution_count": null,
   "metadata": {},
   "outputs": [
    {
     "data": {
      "text/plain": [
       "array([2.5, 3.5, 4.5])"
      ]
     },
     "execution_count": 17,
     "metadata": {},
     "output_type": "execute_result"
    }
   ],
   "source": [
    "#Создадим массив от 2.5 до 5:\n",
    "\n",
    "np.arange(2.5, 5)\n",
    "# array([2.5, 3.5, 4.5])"
   ]
  },
  {
   "cell_type": "code",
   "execution_count": null,
   "metadata": {},
   "outputs": [
    {
     "data": {
      "text/plain": [
       "array([2.5, 3. , 3.5, 4. , 4.5], dtype=float16)"
      ]
     },
     "execution_count": 18,
     "metadata": {},
     "output_type": "execute_result"
    }
   ],
   "source": [
    "#Создадим массив от 2.5 до 5 с шагом 0.5 и с типом float16:\n",
    "\n",
    "np.arange(2.5, 5, 0.5, dtype=np.float16)\n",
    "# array([2.5, 3. , 3.5, 4. , 4.5], dtype=float16)"
   ]
  },
  {
   "attachments": {},
   "cell_type": "markdown",
   "metadata": {},
   "source": [
    "На самом деле операции с плавающей точкой не всегда бывают предсказуемыми из-за особенностей хранения таких чисел в памяти компьютера. Поэтому для работы с дробными параметрами start, stop и step лучше использовать функцию linspace (англ. linear space — линейное пространство). Она тоже возвращает одномерный массив из чисел, расположенных на равном удалении друг от друга между началом и концом диапазона, но обладает немного другим поведением и сигнатурой:\n",
    "\n",
    "np.linspace(start, stop, num=50, endpoint=True, retstep=False, dtype=None)\n",
    "\n",
    "start и stop являются обязательными параметрами, задающими начало и конец возвращаемого диапазона;\n",
    "num — параметр, задающий число элементов, которое должно оказаться в массиве (по умолчанию 50);\n",
    "endpoint — включён или исключён конец диапазона (по умолчанию включён);\n",
    "retstep (по умолчанию False) позволяет указать, возвращать ли использованный шаг между значениями, помимо самого массива;\n",
    "dtype — уже хорошо знакомый нам параметр, задающий тип данных (если не задан, определяется автоматически)."
   ]
  },
  {
   "cell_type": "code",
   "execution_count": null,
   "metadata": {},
   "outputs": [
    {
     "data": {
      "text/plain": [
       "array([1.        , 1.11111111, 1.22222222, 1.33333333, 1.44444444,\n",
       "       1.55555556, 1.66666667, 1.77777778, 1.88888889, 2.        ])"
      ]
     },
     "execution_count": 19,
     "metadata": {},
     "output_type": "execute_result"
    }
   ],
   "source": [
    "#Создадим массив из десяти чисел между 1 и 2:\n",
    "\n",
    "arr = np.linspace(1, 2, 10)\n",
    "arr\n",
    "# array([1.        , 1.11111111, 1.22222222, 1.33333333, 1.44444444,\n",
    "#        1.55555556, 1.66666667, 1.77777778, 1.88888889, 2.        ])"
   ]
  },
  {
   "cell_type": "code",
   "execution_count": null,
   "metadata": {},
   "outputs": [
    {
     "data": {
      "text/plain": [
       "array([1. , 1.1, 1.2, 1.3, 1.4, 1.5, 1.6, 1.7, 1.8, 1.9])"
      ]
     },
     "execution_count": 20,
     "metadata": {},
     "output_type": "execute_result"
    }
   ],
   "source": [
    "#Создадим массив из десяти чисел между 1 и 2, не включая 2:\n",
    "\n",
    "arr = np.linspace(1, 2, 10, endpoint=False)\n",
    "arr\n",
    "# array([1. , 1.1, 1.2, 1.3, 1.4, 1.5, 1.6, 1.7, 1.8, 1.9])"
   ]
  },
  {
   "cell_type": "code",
   "execution_count": null,
   "metadata": {},
   "outputs": [
    {
     "name": "stdout",
     "output_type": "stream",
     "text": [
      "0.1111111111111111\n",
      "0.1\n"
     ]
    }
   ],
   "source": [
    "#Узнаем, какой шаг был использован для создания массива из десяти чисел между 1 и 2, где 2 включалось и не включалось:\n",
    "\n",
    "arr, step = np.linspace(1, 2, 10, endpoint=True, retstep=True)\n",
    "print(step)\n",
    "# 0.1111111111111111\n",
    "\n",
    "arr, step = np.linspace(1, 2, 10, endpoint=False, retstep=True)\n",
    "print(step)"
   ]
  },
  {
   "attachments": {},
   "cell_type": "markdown",
   "metadata": {},
   "source": [
    "→ Функцию linspace очень удобно использовать при построении графиков различных функций, поскольку она позволяет получить равномерный массив чисел, к которому можно применить исследуемую функцию и показать результат на графике. Вы научитесь это делать в модуле, посвящённом визуализации."
   ]
  },
  {
   "attachments": {},
   "cell_type": "markdown",
   "metadata": {},
   "source": [
    "ИЗМЕНЕНИЕ ФОРМЫ МАССИВА\n",
    "В предыдущем юните вы научились получать одномерные массивы из чисел с помощью функции arange. В NumPy существуют функции, которые позволяют менять форму массива"
   ]
  },
  {
   "cell_type": "code",
   "execution_count": null,
   "metadata": {},
   "outputs": [
    {
     "data": {
      "text/plain": [
       "array([0, 1, 2, 3, 4, 5, 6, 7])"
      ]
     },
     "execution_count": 9,
     "metadata": {},
     "output_type": "execute_result"
    }
   ],
   "source": [
    "#Создадим массив из восьми чисел:\n",
    "\n",
    "import numpy as np\n",
    "arr = np.arange(8)\n",
    "arr\n",
    "# array([0, 1, 2, 3, 4, 5, 6, 7])"
   ]
  },
  {
   "cell_type": "code",
   "execution_count": null,
   "metadata": {},
   "outputs": [
    {
     "data": {
      "text/plain": [
       "array([[0, 1, 2, 3],\n",
       "       [4, 5, 6, 7]])"
      ]
     },
     "execution_count": 10,
     "metadata": {},
     "output_type": "execute_result"
    }
   ],
   "source": [
    "#Поменять форму массива arr можно с помощью присвоения атрибуту shape кортежа с желаемой формой:\n",
    "\n",
    "arr.shape = (2, 4)\n",
    "arr\n",
    "# array([[0, 1, 2, 3],\n",
    "#        [4, 5, 6, 7]])\n",
    "#Как и принято в NumPy, первое число задало число строк, а второе — число столбцов."
   ]
  },
  {
   "attachments": {},
   "cell_type": "markdown",
   "metadata": {},
   "source": [
    "Присвоение нового значения атрибуту shape изменяет тот массив, с которым производится действие.\n",
    "\n",
    "Чтобы оставить исходный массив без изменений и дополнительно получить новый массив новой формы, нужно использовать функцию reshape. Она также принимает в качестве аргумента кортеж из чисел для формы, но возвращает новый массив, а не изменяет исходный:"
   ]
  },
  {
   "cell_type": "code",
   "execution_count": null,
   "metadata": {},
   "outputs": [
    {
     "data": {
      "text/plain": [
       "array([[0, 1, 2, 3],\n",
       "       [4, 5, 6, 7]])"
      ]
     },
     "execution_count": 11,
     "metadata": {},
     "output_type": "execute_result"
    }
   ],
   "source": [
    "arr = np.arange(8)\n",
    "arr_new = arr.reshape((2, 4))\n",
    "arr_new\n",
    "# array([[0, 1, 2, 3],\n",
    "#       [4, 5, 6, 7]])"
   ]
  },
  {
   "attachments": {},
   "cell_type": "markdown",
   "metadata": {},
   "source": [
    "У функции reshape есть дополнительный именованный аргумент order. Он задаёт принцип, по которому элементы заполняют массив новой формы. Если order='C' (по умолчанию), массив заполняется по строкам, как в примере выше. Если order='F', массив заполняется числами по столбца"
   ]
  },
  {
   "cell_type": "code",
   "execution_count": null,
   "metadata": {},
   "outputs": [
    {
     "data": {
      "text/plain": [
       "array([[0, 2, 4, 6],\n",
       "       [1, 3, 5, 7]])"
      ]
     },
     "execution_count": 12,
     "metadata": {},
     "output_type": "execute_result"
    }
   ],
   "source": [
    "arr = np.arange(8)\n",
    "arr_new = arr.reshape((2, 4), order='F')\n",
    "arr_new\n",
    "# array([[0, 2, 4, 6],\n",
    "#       [1, 3, 5, 7]])"
   ]
  },
  {
   "attachments": {},
   "cell_type": "markdown",
   "metadata": {},
   "source": [
    "Ещё одной часто используемой операцией с формой массива (особенно двумерного) является транспонирование. Эта операция меняет строки и столбцы массива местами. В NumPy эту операцию совершает функция transpose."
   ]
  },
  {
   "cell_type": "code",
   "execution_count": null,
   "metadata": {},
   "outputs": [
    {
     "data": {
      "text/plain": [
       "array([[0, 1, 2, 3],\n",
       "       [4, 5, 6, 7]])"
      ]
     },
     "execution_count": 13,
     "metadata": {},
     "output_type": "execute_result"
    }
   ],
   "source": [
    "#Будем работать с двумерным массивом:\n",
    "\n",
    "arr = np.arange(8)\n",
    "arr.shape = (2, 4)\n",
    "arr\n",
    "# array([[0, 1, 2, 3],\n",
    "#        [4, 5, 6, 7]])"
   ]
  },
  {
   "cell_type": "code",
   "execution_count": null,
   "metadata": {},
   "outputs": [
    {
     "data": {
      "text/plain": [
       "array([[0, 4],\n",
       "       [1, 5],\n",
       "       [2, 6],\n",
       "       [3, 7]])"
      ]
     },
     "execution_count": 14,
     "metadata": {},
     "output_type": "execute_result"
    }
   ],
   "source": [
    "#Транспонируем его:\n",
    "\n",
    "arr_trans = arr.transpose()\n",
    "arr_trans\n",
    "# array([[0, 4],\n",
    "#        [1, 5],\n",
    "#        [2, 6],\n",
    "#        [3, 7]])"
   ]
  },
  {
   "cell_type": "code",
   "execution_count": null,
   "metadata": {},
   "outputs": [
    {
     "name": "stdout",
     "output_type": "stream",
     "text": [
      "(3,)\n",
      "(3,)\n"
     ]
    }
   ],
   "source": [
    "#При транспонировании одномерного массива его форма не меняется:\n",
    "\n",
    "arr = np.arange(3)\n",
    "print(arr.shape)\n",
    "# (3,)\n",
    "arr_trans = arr.transpose()\n",
    "print(arr_trans.shape)\n",
    "# (3,)"
   ]
  },
  {
   "attachments": {},
   "cell_type": "markdown",
   "metadata": {},
   "source": [
    "ИНДЕКСЫ И СРЕЗЫ В МАССИВАХ"
   ]
  },
  {
   "cell_type": "code",
   "execution_count": null,
   "metadata": {},
   "outputs": [
    {
     "data": {
      "text/plain": [
       "array([1. , 1.2, 1.4, 1.6, 1.8, 2. ])"
      ]
     },
     "execution_count": 16,
     "metadata": {},
     "output_type": "execute_result"
    }
   ],
   "source": [
    "#Создадим массив из шести чисел:\n",
    "\n",
    "arr = np.linspace(1, 2, 6)\n",
    "arr\n",
    "# array([1. , 1.2, 1.4, 1.6, 1.8, 2. ])"
   ]
  },
  {
   "cell_type": "code",
   "execution_count": null,
   "metadata": {},
   "outputs": [
    {
     "name": "stdout",
     "output_type": "stream",
     "text": [
      "1.4\n",
      "[1.4 1.6]\n",
      "[2.  1.8 1.6 1.4 1.2 1. ]\n"
     ]
    }
   ],
   "source": [
    "#Обратиться к его элементу по индексу можно так же, как и к списку:\n",
    "\n",
    "print(arr[2])\n",
    "# 1.4\n",
    "#Привычная запись для срезов работает и для одномерных массивов:\n",
    "\n",
    "print(arr[2:4])\n",
    "# [1.4 1.6]\n",
    "#Наконец, напечатать массив в обратном порядке можно с помощью привычной конструкции [::-1]:\n",
    "\n",
    "print(arr[::-1])\n",
    "# [2.  1.8 1.6 1.4 1.2 1. ]"
   ]
  },
  {
   "cell_type": "code",
   "execution_count": null,
   "metadata": {},
   "outputs": [
    {
     "data": {
      "text/plain": [
       "array([[0. , 0.5, 1. , 1.5],\n",
       "       [2. , 2.5, 3. , 3.5],\n",
       "       [4. , 4.5, 5. , 5.5]])"
      ]
     },
     "execution_count": 18,
     "metadata": {},
     "output_type": "execute_result"
    }
   ],
   "source": [
    "#Создадим двумерный массив из одномерного:\n",
    "\n",
    "nd_array =  np.linspace(0, 6, 12, endpoint=False).reshape(3,4)\n",
    "nd_array\n",
    "# array([[0. , 0.5, 1. , 1.5],\n",
    "#        [2. , 2.5, 3. , 3.5],\n",
    "#        [4. , 4.5, 5. , 5.5]])"
   ]
  },
  {
   "cell_type": "code",
   "execution_count": null,
   "metadata": {},
   "outputs": [
    {
     "data": {
      "text/plain": [
       "3.0"
      ]
     },
     "execution_count": 19,
     "metadata": {},
     "output_type": "execute_result"
    }
   ],
   "source": [
    "#Можно воспользоваться привычной записью нескольких индексов в нескольких квадратных скобках:\n",
    "\n",
    "nd_array[1][2]"
   ]
  },
  {
   "cell_type": "code",
   "execution_count": null,
   "metadata": {},
   "outputs": [
    {
     "data": {
      "text/plain": [
       "3.0"
      ]
     },
     "execution_count": 20,
     "metadata": {},
     "output_type": "execute_result"
    }
   ],
   "source": [
    "#Мы бы так и делали, если бы приходилось работать со списком из списков. \n",
    "# Однако проводить индексацию по массиву в NumPy можно проще: достаточно в одних и тех же квадратных скобках перечислить индексы через запятую. Вот так:\n",
    "\n",
    "nd_array[1, 2]"
   ]
  },
  {
   "cell_type": "code",
   "execution_count": null,
   "metadata": {},
   "outputs": [
    {
     "data": {
      "text/plain": [
       "array([1., 3.])"
      ]
     },
     "execution_count": 22,
     "metadata": {},
     "output_type": "execute_result"
    }
   ],
   "source": [
    "#Также через запятую можно передавать срезы или даже их комбинации с индексами. \n",
    "# Например, получим все элементы из колонки 3 для первых двух строк:\n",
    "\n",
    "nd_array[:2, 2]\n",
    "# Несмотря на то что в массиве этот срез является столбцом, вместо него мы получили одномерный массив в виде строки."
   ]
  },
  {
   "cell_type": "code",
   "execution_count": null,
   "metadata": {},
   "outputs": [
    {
     "data": {
      "text/plain": [
       "array([[3. , 3.5],\n",
       "       [5. , 5.5]])"
      ]
     },
     "execution_count": 23,
     "metadata": {},
     "output_type": "execute_result"
    }
   ],
   "source": [
    "#Можно применять срезы сразу и к строкам, и к столбцам:\n",
    "\n",
    "nd_array[1:, 2:4]\n",
    "# array([[3. , 3.5],\n",
    "#       [5. , 5.5]])"
   ]
  },
  {
   "cell_type": "code",
   "execution_count": 34,
   "metadata": {},
   "outputs": [
    {
     "data": {
      "text/plain": [
       "array([[1. , 1.5],\n",
       "       [3. , 3.5],\n",
       "       [5. , 5.5]])"
      ]
     },
     "execution_count": 34,
     "metadata": {},
     "output_type": "execute_result"
    }
   ],
   "source": [
    "#Чтобы получить все значения из какой-то оси, можно оставить на её месте двоеточие. \n",
    "# Например, из всех строк получим срез с третьего по четвёртый столбцы:\n",
    "\n",
    "nd_array[:, 2:4]\n",
    "# array([[1. , 1.5],\n",
    "#       [3. , 3.5],\n",
    "#       [5. , 5.5]])"
   ]
  },
  {
   "cell_type": "code",
   "execution_count": 35,
   "metadata": {},
   "outputs": [
    {
     "data": {
      "text/plain": [
       "array([[0. , 0.5, 1. , 1.5],\n",
       "       [2. , 2.5, 3. , 3.5]])"
      ]
     },
     "execution_count": 35,
     "metadata": {},
     "output_type": "execute_result"
    }
   ],
   "source": [
    "#Чтобы получить самую последнюю ось (в данном случае все столбцы), двоеточие писать необязательно. \n",
    "# Строки будут получены целиком по умолчанию:\n",
    "\n",
    "nd_array[:2]\n",
    "# array([[0. , 0.5, 1. , 1.5],\n",
    "#       [2. , 2.5, 3. , 3.5]])"
   ]
  },
  {
   "attachments": {},
   "cell_type": "markdown",
   "metadata": {},
   "source": [
    "СОРТИРОВКА ОДНОМЕРНЫХ МАССИВОВ"
   ]
  },
  {
   "cell_type": "code",
   "execution_count": 37,
   "metadata": {},
   "outputs": [
    {
     "name": "stdout",
     "output_type": "stream",
     "text": [
      "[23 12 45 12 23  4 15  3]\n",
      "[ 3  4 12 12 15 23 23 45]\n"
     ]
    }
   ],
   "source": [
    "#Способ 1. Функция np.sort(<массив>) возвращает новый отсортированный массив:\n",
    "\n",
    "arr = np.array([23,12,45,12,23,4,15,3])\n",
    "arr_new = np.sort(arr)\n",
    "print(arr)\n",
    "# [23 12 45 12 23  4 15  3]\n",
    "print(arr_new)\n",
    "# [ 3  4 12 12 15 23 23 45]"
   ]
  },
  {
   "cell_type": "code",
   "execution_count": 38,
   "metadata": {},
   "outputs": [
    {
     "name": "stdout",
     "output_type": "stream",
     "text": [
      "None\n",
      "[ 3  4 12 12 15 23 23 45]\n"
     ]
    }
   ],
   "source": [
    "#Способ 2. Функция <массив>.sort() сортирует исходный массив и возвращает None:\n",
    "\n",
    "arr = np.array([23,12,45,12,23,4,15,3])\n",
    "print(arr.sort())\n",
    "# None\n",
    "print(arr)\n",
    "# [ 3  4 12 12 15 23 23 45]"
   ]
  },
  {
   "attachments": {},
   "cell_type": "markdown",
   "metadata": {},
   "source": [
    "РАБОТА С ПРОПУЩЕННЫМИ ДАННЫМИ"
   ]
  },
  {
   "cell_type": "code",
   "execution_count": 39,
   "metadata": {},
   "outputs": [],
   "source": [
    "#создадим массив:\n",
    "\n",
    "data = np.array([4, 9, -4, 3])"
   ]
  },
  {
   "cell_type": "code",
   "execution_count": 40,
   "metadata": {},
   "outputs": [
    {
     "name": "stderr",
     "output_type": "stream",
     "text": [
      "C:\\Users\\Людмила\\AppData\\Local\\Temp\\ipykernel_8740\\1532689248.py:3: RuntimeWarning: invalid value encountered in sqrt\n",
      "  roots = np.sqrt(data)\n"
     ]
    },
    {
     "data": {
      "text/plain": [
       "array([2.        , 3.        ,        nan, 1.73205081])"
      ]
     },
     "execution_count": 40,
     "metadata": {},
     "output_type": "execute_result"
    }
   ],
   "source": [
    "#Воспользуемся встроенной в NumPy функцией sqrt, чтобы посчитать квадратные корни из элементов.\n",
    "\n",
    "roots = np.sqrt(data)\n",
    "roots"
   ]
  },
  {
   "attachments": {},
   "cell_type": "markdown",
   "metadata": {},
   "source": [
    "NumPy выдал предупреждение о том, что в функцию sqrt попало некорректное значение. Это было число -4, а как вы помните, корень из отрицательного числа в действительных числах не берётся. Однако программа не сломалась окончательно, а продолжила работу. На том месте, где должен был оказаться корень из -4, теперь присутствует объект nan. Он расшифровывается как Not a number (не число). Этот объект аналогичен встроенному типу None, но имеет несколько отличий:"
   ]
  },
  {
   "cell_type": "code",
   "execution_count": 44,
   "metadata": {},
   "outputs": [
    {
     "name": "stdout",
     "output_type": "stream",
     "text": [
      "<class 'NoneType'>\n",
      "<class 'float'>\n"
     ]
    },
    {
     "data": {
      "text/plain": [
       "float"
      ]
     },
     "execution_count": 44,
     "metadata": {},
     "output_type": "execute_result"
    }
   ],
   "source": [
    "#Отличие 1. None является отдельным объектом типа NoneType. np.nan — это отдельный представитель класса float:\n",
    "\n",
    "print(type(None))\n",
    "# <class 'NoneType'>\n",
    "print(type(np.nan))\n",
    "# <class 'float'>\n",
    "type(np.nan)"
   ]
  },
  {
   "cell_type": "code",
   "execution_count": 45,
   "metadata": {},
   "outputs": [
    {
     "name": "stdout",
     "output_type": "stream",
     "text": [
      "True\n",
      "False\n"
     ]
    }
   ],
   "source": [
    "#Отличие 2. None могут быть равны друг другу, а np.nan — нет:\n",
    "\n",
    "print(None == None)\n",
    "# True\n",
    "print(np.nan == np.nan)\n",
    "# False"
   ]
  },
  {
   "attachments": {},
   "cell_type": "markdown",
   "metadata": {},
   "source": [
    "Как вы помните, чтобы грамотно сравнить что-либо с None, необходимо использовать оператор is. Это ещё более актуально для np.nan. Однако None даже через is не является эквивалентным np.nan:"
   ]
  },
  {
   "cell_type": "code",
   "execution_count": 43,
   "metadata": {},
   "outputs": [
    {
     "name": "stdout",
     "output_type": "stream",
     "text": [
      "True\n",
      "True\n",
      "False\n"
     ]
    }
   ],
   "source": [
    "print(None is None)\n",
    "# True\n",
    "print(np.nan is np.nan)\n",
    "# True\n",
    "print(np.nan is None)\n",
    "# False"
   ]
  },
  {
   "attachments": {},
   "cell_type": "markdown",
   "metadata": {},
   "source": [
    "Иногда работать с отсутствующими данными всё же нужно. Они могут возникнуть не только потому, что мы применили функцию к некорректному аргументу. Например, при анализе вакансий на сайте для некоторых из них может быть не указана зарплата, но при этом нам необходимо проанализировать статистику по зарплатам на сайте."
   ]
  },
  {
   "cell_type": "code",
   "execution_count": 46,
   "metadata": {},
   "outputs": [
    {
     "data": {
      "text/plain": [
       "nan"
      ]
     },
     "execution_count": 46,
     "metadata": {},
     "output_type": "execute_result"
    }
   ],
   "source": [
    "#Если попробовать посчитать сумму массива, который содержит np.nan, в итоге получится nan:\n",
    "\n",
    "sum(roots)"
   ]
  },
  {
   "attachments": {},
   "cell_type": "markdown",
   "metadata": {},
   "source": [
    "Что же делать?"
   ]
  },
  {
   "cell_type": "code",
   "execution_count": 47,
   "metadata": {},
   "outputs": [
    {
     "data": {
      "text/plain": [
       "array([False, False,  True, False])"
      ]
     },
     "execution_count": 47,
     "metadata": {},
     "output_type": "execute_result"
    }
   ],
   "source": [
    "#Можно заполнить пропущенные значения, например, нулями. Для этого с помощью функции np.isnan(<массив>) узнаем, на каких местах в массиве находятся «не числа»:\n",
    "\n",
    "np.isnan(roots)\n",
    "# array([False, False,  True, False])"
   ]
  },
  {
   "cell_type": "code",
   "execution_count": 48,
   "metadata": {},
   "outputs": [
    {
     "data": {
      "text/plain": [
       "array([nan])"
      ]
     },
     "execution_count": 48,
     "metadata": {},
     "output_type": "execute_result"
    }
   ],
   "source": [
    "#Можно использовать полученный массив из True и False для извлечения элементов из массива roots, \n",
    "# на месте которых в булевом массиве указано True. Таким способом можно узнать сами элементы, которые удовлетворяют условию np.isnan:\n",
    "\n",
    "roots[np.isnan(roots)]\n",
    "# array([nan])"
   ]
  },
  {
   "cell_type": "code",
   "execution_count": 49,
   "metadata": {},
   "outputs": [
    {
     "data": {
      "text/plain": [
       "array([2.        , 3.        , 0.        , 1.73205081])"
      ]
     },
     "execution_count": 49,
     "metadata": {},
     "output_type": "execute_result"
    }
   ],
   "source": [
    "#Этим элементам можно присвоить новые значения, например 0:\n",
    "\n",
    "roots[np.isnan(roots)] = 0\n",
    "roots\n",
    "# array([2.        , 3.        , 0.        , 1.73205081])"
   ]
  },
  {
   "cell_type": "code",
   "execution_count": 51,
   "metadata": {},
   "outputs": [
    {
     "data": {
      "text/plain": [
       "6.732050807568877"
      ]
     },
     "execution_count": 51,
     "metadata": {},
     "output_type": "execute_result"
    }
   ],
   "source": [
    "#После этого, если пропущенных значений больше нет, можем подсчитать сумму элементов массива:\n",
    "\n",
    "sum(roots)\n",
    "# 6.732050807568877"
   ]
  },
  {
   "attachments": {},
   "cell_type": "markdown",
   "metadata": {},
   "source": [
    "Ранее проблема при подсчёте суммы элементов в массиве roots возникала из-за того, что отсутствовало значение для квадратного корня из -4 — вместо него было указано np.nan. Сумма элементов массива, содержащего nan, также является nan. Поэтому приходится заменить nan, например, на 0, чтобы подсчитать сумму элементов массива."
   ]
  },
  {
   "cell_type": "code",
   "execution_count": null,
   "metadata": {},
   "outputs": [],
   "source": []
  }
 ],
 "metadata": {
  "kernelspec": {
   "display_name": "Python 3",
   "language": "python",
   "name": "python3"
  },
  "language_info": {
   "codemirror_mode": {
    "name": "ipython",
    "version": 3
   },
   "file_extension": ".py",
   "mimetype": "text/x-python",
   "name": "python",
   "nbconvert_exporter": "python",
   "pygments_lexer": "ipython3",
   "version": "3.11.0"
  },
  "orig_nbformat": 4
 },
 "nbformat": 4,
 "nbformat_minor": 2
}
