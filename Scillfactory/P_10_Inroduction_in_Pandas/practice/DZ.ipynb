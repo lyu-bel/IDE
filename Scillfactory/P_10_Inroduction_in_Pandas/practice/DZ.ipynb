{
 "cells": [
  {
   "cell_type": "code",
   "execution_count": 52,
   "metadata": {},
   "outputs": [
    {
     "name": "stdout",
     "output_type": "stream",
     "text": [
      "standard 70.03410852713178\n",
      "5.827586206896555\n"
     ]
    }
   ],
   "source": [
    "import pandas as pd\n",
    "import math\n",
    "std = pd.read_csv('data/students_performance.csv', sep=',')\n",
    "#std.info()\n",
    "#display(std.loc[155, 'writing score'])\n",
    "#std.info()\n",
    "std['math score'].mean()\n",
    "std['race/ethnicity'].value_counts()\n",
    "std[std['test preparation course'] == 'completed']['reading score'].mean()\n",
    "std[std['math score'] == 0].shape[0]\n",
    "if std[std['lunch'] == 'free/reduced']['math score'].mean() > std[std['lunch'] == 'standard']['math score'].mean():\n",
    "    print('free', std[std['lunch'] == 'free/reduced']['math score'].mean())\n",
    "else:\n",
    "    print('standard', std[std['lunch'] == 'standard']['math score'].mean())\n",
    "  \n",
    "std[std['parental level of education'] == \"bachelor's degree\"].shape[0] / std['parental level of education'].count() *100\n",
    "print(abs(std[std['race/ethnicity'] == 'group A']['writing score'].median() - std[std['race/ethnicity'] == 'group C']['writing score'].mean()))\n",
    "\n",
    "#std['race/ethnicity'].value_counts()\n",
    "\n"
   ]
  }
 ],
 "metadata": {
  "kernelspec": {
   "display_name": "Python 3.11.0 64-bit",
   "language": "python",
   "name": "python3"
  },
  "language_info": {
   "codemirror_mode": {
    "name": "ipython",
    "version": 3
   },
   "file_extension": ".py",
   "mimetype": "text/x-python",
   "name": "python",
   "nbconvert_exporter": "python",
   "pygments_lexer": "ipython3",
   "version": "3.11.0 (main, Oct 24 2022, 18:26:48) [MSC v.1933 64 bit (AMD64)]"
  },
  "orig_nbformat": 4,
  "vscode": {
   "interpreter": {
    "hash": "e1d16d5a1ec97294322526250a12683f22a7478b9e5179e33780abaace6694ec"
   }
  }
 },
 "nbformat": 4,
 "nbformat_minor": 2
}
