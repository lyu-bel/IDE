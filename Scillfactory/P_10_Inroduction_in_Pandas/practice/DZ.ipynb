{
 "cells": [
  {
   "cell_type": "code",
<<<<<<< HEAD
   "execution_count": 32,
=======
   "execution_count": 52,
>>>>>>> ac5220f49f90d1b6142f932e9d7e69266da77e44
   "metadata": {},
   "outputs": [
    {
     "name": "stdout",
     "output_type": "stream",
     "text": [
      "standard 70.03410852713178\n",
      "5.827586206896555\n"
     ]
    }
   ],
   "source": [
    "import pandas as pd\n",
    "import math\n",
    "std = pd.read_csv('data/students_performance.csv', sep=',')\n",
    "#std.info()\n",
    "#display(std.loc[155, 'writing score'])\n",
    "#std.info()\n",
    "std['math score'].mean()\n",
    "std['race/ethnicity'].value_counts()\n",
    "std[std['test preparation course'] == 'completed']['reading score'].mean()\n",
    "std[std['math score'] == 0].shape[0]\n",
    "if std[std['lunch'] == 'free/reduced']['math score'].mean() > std[std['lunch'] == 'standard']['math score'].mean():\n",
    "    print('free', std[std['lunch'] == 'free/reduced']['math score'].mean())\n",
    "else:\n",
    "    print('standard', std[std['lunch'] == 'standard']['math score'].mean())\n",
    "  \n",
    "std[std['parental level of education'] == \"bachelor's degree\"].shape[0] / std['parental level of education'].count() *100\n",
    "print(abs(std[std['race/ethnicity'] == 'group A']['writing score'].median() - std[std['race/ethnicity'] == 'group C']['writing score'].mean()))\n",
    "\n",
    "#std['race/ethnicity'].value_counts()\n",
    "\n"
   ]
<<<<<<< HEAD
  },
  {
   "attachments": {},
   "cell_type": "markdown",
   "metadata": {},
   "source": [
    "gender — пол;\n",
    "race/ethnicity — раса/этническая принадлежность;\n",
    "parental level of education — уровень образования родителей;\n",
    "lunch — какие обеды получал студент во время обучения (standard — платный, free/reduced — бесплатный);\n",
    "test preparation course — посещал ли студент курсы подготовки к экзаменам (none — не посещал, completed — посещал);\n",
    "math score, reading score, writing score — баллы по математике, чтению и письму по сто балльной шкале."
   ]
  },
  {
   "cell_type": "code",
   "execution_count": 33,
   "metadata": {},
   "outputs": [
    {
     "data": {
      "text/plain": [
       "(1000, 8)"
      ]
     },
     "execution_count": 33,
     "metadata": {},
     "output_type": "execute_result"
    }
   ],
   "source": [
    "#Задание 9.1 Данные о скольких студентах содержатся в таблице?\n",
    "std.shape"
   ]
  },
  {
   "cell_type": "code",
   "execution_count": 34,
   "metadata": {},
   "outputs": [
    {
     "data": {
      "text/plain": [
       "88"
      ]
     },
     "execution_count": 34,
     "metadata": {},
     "output_type": "execute_result"
    }
   ],
   "source": [
    "#Задание 9.2 Каков балл по письму у студента под индексом 155?\n",
    "std.iloc[155]['writing score']"
   ]
  },
  {
   "cell_type": "code",
   "execution_count": 37,
   "metadata": {},
   "outputs": [
    {
     "data": {
      "text/plain": [
       "0"
      ]
     },
     "execution_count": 37,
     "metadata": {},
     "output_type": "execute_result"
    }
   ],
   "source": [
    "#Задание 9.3 Сколько суммарно пропущенных значений в таблице?\n",
    "\n",
    "std.shape[0] * std.shape[1] -sum(std.count())"
   ]
  },
  {
   "cell_type": "code",
   "execution_count": 36,
   "metadata": {},
   "outputs": [
    {
     "data": {
      "text/plain": [
       "0"
      ]
     },
     "execution_count": 36,
     "metadata": {},
     "output_type": "execute_result"
    }
   ],
   "source": [
    "#Сколько суммарно пропущенных значений в таблице?\n",
    "std.isnull().sum().sum ()"
   ]
  },
  {
   "cell_type": "code",
   "execution_count": 40,
   "metadata": {},
   "outputs": [
    {
     "data": {
      "text/plain": [
       "66.089"
      ]
     },
     "execution_count": 40,
     "metadata": {},
     "output_type": "execute_result"
    }
   ],
   "source": [
    "#Задание 9.6  Каков у студентов средний балл по математике?\n",
    "std['math score'].mean()"
   ]
  },
  {
   "cell_type": "code",
   "execution_count": 42,
   "metadata": {},
   "outputs": [
    {
     "data": {
      "text/plain": [
       "0    group C\n",
       "Name: race/ethnicity, dtype: object"
      ]
     },
     "execution_count": 42,
     "metadata": {},
     "output_type": "execute_result"
    }
   ],
   "source": [
    "#Задание 9.7 Какая расовая группа является самой крупной в учебном заведении?\n",
    "std['race/ethnicity'].mode() # мода - наиболее часто встречающееся значение"
   ]
  },
  {
   "cell_type": "code",
   "execution_count": 44,
   "metadata": {},
   "outputs": [
    {
     "data": {
      "text/plain": [
       "group C    319\n",
       "group D    262\n",
       "group B    190\n",
       "group E    140\n",
       "group A     89\n",
       "Name: race/ethnicity, dtype: int64"
      ]
     },
     "execution_count": 44,
     "metadata": {},
     "output_type": "execute_result"
    }
   ],
   "source": [
    "#чтобы определить, сколько раз в столбце повторяется каждый из вариантов значений \n",
    "# (т.е. найти частоту для каждого уникального значения), используется метод value_counts().\n",
    "std['race/ethnicity'].value_counts() # наиболее часто встречающееся значение у группы С "
   ]
  },
  {
   "cell_type": "code",
   "execution_count": 49,
   "metadata": {},
   "outputs": [
    {
     "data": {
      "text/plain": [
       "73.89385474860335"
      ]
     },
     "execution_count": 49,
     "metadata": {},
     "output_type": "execute_result"
    }
   ],
   "source": [
    "#Задание 9.8 Каков средний балл по чтению у студентов, которые посещали курсы подготовки к экзаменам?\n",
    "std[std['test preparation course'] == 'completed']['reading score'].mean()"
   ]
  },
  {
   "cell_type": "code",
   "execution_count": 53,
   "metadata": {},
   "outputs": [
    {
     "data": {
      "text/plain": [
       "1"
      ]
     },
     "execution_count": 53,
     "metadata": {},
     "output_type": "execute_result"
    }
   ],
   "source": [
    "#Задание 9.9 Сколько студентов получили 0 баллов по математике?\n",
    "std[std['math score']==0]['math score'].count()"
   ]
  },
  {
   "cell_type": "code",
   "execution_count": 63,
   "metadata": {},
   "outputs": [
    {
     "name": "stdout",
     "output_type": "stream",
     "text": [
      "70.03410852713178 standard\n"
     ]
    }
   ],
   "source": [
    "#Задание 9.10  у студентов с оплачиваемым питанием средний балл по математике выше, чем у студентов с льготным питанием.\n",
    "#В качестве ответа напишите наибольший средний балл по математике среди этих групп студентов.\n",
    "#lunch — какие обеды получал студент во время обучения (standard — платный, free/reduced — бесплатный);\n",
    "if std[std['lunch']=='standard']['math score'].mean() > std[std['lunch']=='free/reduced']['math score'].mean():\n",
    "    print(std[std['lunch']=='standard']['math score'].mean(), 'standard')\n",
    "else:\n",
    "    print(std[std['lunch']=='free/reduced']['math score'].mean(), 'free/reduced')"
   ]
  },
  {
   "cell_type": "code",
   "execution_count": 64,
   "metadata": {},
   "outputs": [
    {
     "data": {
      "text/plain": [
       "0"
      ]
     },
     "execution_count": 64,
     "metadata": {},
     "output_type": "execute_result"
    }
   ],
   "source": [
    "std['lunch'].isnull().sum() # нет пустых значений в столбце обеды"
   ]
  },
  {
   "cell_type": "code",
   "execution_count": 80,
   "metadata": {},
   "outputs": [
    {
     "data": {
      "text/plain": [
       "some college          22.6\n",
       "associate's degree    22.2\n",
       "high school           19.6\n",
       "some high school      17.9\n",
       "bachelor's degree     11.8\n",
       "master's degree        5.9\n",
       "Name: parental level of education, dtype: float64"
      ]
     },
     "execution_count": 80,
     "metadata": {},
     "output_type": "execute_result"
    }
   ],
   "source": [
    "# Задание 9.11 Каков процент студентов, родители которых имеют высшее образование уровня бакалавриата (bachelor's degree)?\n",
    "#parental level of education — уровень образования родителей;\n",
    "\n",
    "std['parental level of education'].value_counts(normalize=True)*100"
   ]
  },
  {
   "cell_type": "code",
   "execution_count": 91,
   "metadata": {},
   "outputs": [
    {
     "data": {
      "text/plain": [
       "6"
      ]
     },
     "execution_count": 91,
     "metadata": {},
     "output_type": "execute_result"
    }
   ],
   "source": [
    "#Задание 9.12\n",
    "# Насколько медианный балл по письму у студентов в расовой группе А отличается от среднего балла по письму у студентов в расовой группе C?\n",
    "#math score, reading score, writing score — баллы по математике, чтению и письму по сто балльной шкале.\n",
    "\n",
    "round(abs(std[std['race/ethnicity']=='group A']['writing score'].median() - std[std['race/ethnicity']=='group C']['writing score'].mean()))"
   ]
=======
>>>>>>> ac5220f49f90d1b6142f932e9d7e69266da77e44
  }
 ],
 "metadata": {
  "kernelspec": {
   "display_name": "Python 3.11.0 64-bit",
   "language": "python",
   "name": "python3"
  },
  "language_info": {
   "codemirror_mode": {
    "name": "ipython",
    "version": 3
   },
   "file_extension": ".py",
   "mimetype": "text/x-python",
   "name": "python",
   "nbconvert_exporter": "python",
   "pygments_lexer": "ipython3",
<<<<<<< HEAD
   "version": "3.11.0"
=======
   "version": "3.11.0 (main, Oct 24 2022, 18:26:48) [MSC v.1933 64 bit (AMD64)]"
>>>>>>> ac5220f49f90d1b6142f932e9d7e69266da77e44
  },
  "orig_nbformat": 4,
  "vscode": {
   "interpreter": {
    "hash": "e1d16d5a1ec97294322526250a12683f22a7478b9e5179e33780abaace6694ec"
   }
  }
 },
 "nbformat": 4,
 "nbformat_minor": 2
}
