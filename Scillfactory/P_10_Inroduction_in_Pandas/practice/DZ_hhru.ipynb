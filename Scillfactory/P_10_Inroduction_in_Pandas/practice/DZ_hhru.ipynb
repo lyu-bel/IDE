{
 "cells": [
  {
   "cell_type": "code",
   "execution_count": 76,
   "metadata": {},
   "outputs": [
    {
     "name": "stdout",
     "output_type": "stream",
     "text": [
      "Опыт работы 6 лет\n",
      "Опыт работы 2 года\n",
      "Опыт работы 4 года 3 месяца\n",
      "Опыт работы 2 года 8 месяцев\n"
     ]
    },
    {
     "ename": "ValueError",
     "evalue": "invalid literal for int() with base 10: 'года\\xa08'",
     "output_type": "error",
     "traceback": [
      "\u001b[1;31m---------------------------------------------------------------------------\u001b[0m",
      "\u001b[1;31mValueError\u001b[0m                                Traceback (most recent call last)",
      "Cell \u001b[1;32mIn [76], line 20\u001b[0m\n\u001b[0;32m     18\u001b[0m worker[\u001b[39m'\u001b[39m\u001b[39mExperience\u001b[39m\u001b[39m'\u001b[39m]\u001b[39m=\u001b[39m worker[\u001b[39m'\u001b[39m\u001b[39mExperience\u001b[39m\u001b[39m'\u001b[39m]\u001b[39m.\u001b[39mastype(\u001b[39m'\u001b[39m\u001b[39mobject\u001b[39m\u001b[39m'\u001b[39m)\n\u001b[0;32m     19\u001b[0m \u001b[39m#worker\u001b[39;00m\n\u001b[1;32m---> 20\u001b[0m worker[\u001b[39m'\u001b[39m\u001b[39mMonths\u001b[39m\u001b[39m'\u001b[39m] \u001b[39m=\u001b[39m worker[\u001b[39m'\u001b[39;49m\u001b[39mExperience\u001b[39;49m\u001b[39m'\u001b[39;49m]\u001b[39m.\u001b[39;49mapply(get_experience)\n\u001b[0;32m     21\u001b[0m \u001b[39mprint\u001b[39m(worker[\u001b[39m'\u001b[39m\u001b[39mMonths\u001b[39m\u001b[39m'\u001b[39m])\n",
      "File \u001b[1;32mc:\\Users\\Людмила\\AppData\\Local\\Programs\\Python\\Python311\\Lib\\site-packages\\pandas\\core\\series.py:4771\u001b[0m, in \u001b[0;36mSeries.apply\u001b[1;34m(self, func, convert_dtype, args, **kwargs)\u001b[0m\n\u001b[0;32m   4661\u001b[0m \u001b[39mdef\u001b[39;00m \u001b[39mapply\u001b[39m(\n\u001b[0;32m   4662\u001b[0m     \u001b[39mself\u001b[39m,\n\u001b[0;32m   4663\u001b[0m     func: AggFuncType,\n\u001b[1;32m   (...)\u001b[0m\n\u001b[0;32m   4666\u001b[0m     \u001b[39m*\u001b[39m\u001b[39m*\u001b[39mkwargs,\n\u001b[0;32m   4667\u001b[0m ) \u001b[39m-\u001b[39m\u001b[39m>\u001b[39m DataFrame \u001b[39m|\u001b[39m Series:\n\u001b[0;32m   4668\u001b[0m     \u001b[39m\"\"\"\u001b[39;00m\n\u001b[0;32m   4669\u001b[0m \u001b[39m    Invoke function on values of Series.\u001b[39;00m\n\u001b[0;32m   4670\u001b[0m \n\u001b[1;32m   (...)\u001b[0m\n\u001b[0;32m   4769\u001b[0m \u001b[39m    dtype: float64\u001b[39;00m\n\u001b[0;32m   4770\u001b[0m \u001b[39m    \"\"\"\u001b[39;00m\n\u001b[1;32m-> 4771\u001b[0m     \u001b[39mreturn\u001b[39;00m SeriesApply(\u001b[39mself\u001b[39;49m, func, convert_dtype, args, kwargs)\u001b[39m.\u001b[39;49mapply()\n",
      "File \u001b[1;32mc:\\Users\\Людмила\\AppData\\Local\\Programs\\Python\\Python311\\Lib\\site-packages\\pandas\\core\\apply.py:1105\u001b[0m, in \u001b[0;36mSeriesApply.apply\u001b[1;34m(self)\u001b[0m\n\u001b[0;32m   1102\u001b[0m     \u001b[39mreturn\u001b[39;00m \u001b[39mself\u001b[39m\u001b[39m.\u001b[39mapply_str()\n\u001b[0;32m   1104\u001b[0m \u001b[39m# self.f is Callable\u001b[39;00m\n\u001b[1;32m-> 1105\u001b[0m \u001b[39mreturn\u001b[39;00m \u001b[39mself\u001b[39;49m\u001b[39m.\u001b[39;49mapply_standard()\n",
      "File \u001b[1;32mc:\\Users\\Людмила\\AppData\\Local\\Programs\\Python\\Python311\\Lib\\site-packages\\pandas\\core\\apply.py:1156\u001b[0m, in \u001b[0;36mSeriesApply.apply_standard\u001b[1;34m(self)\u001b[0m\n\u001b[0;32m   1154\u001b[0m     \u001b[39melse\u001b[39;00m:\n\u001b[0;32m   1155\u001b[0m         values \u001b[39m=\u001b[39m obj\u001b[39m.\u001b[39mastype(\u001b[39mobject\u001b[39m)\u001b[39m.\u001b[39m_values\n\u001b[1;32m-> 1156\u001b[0m         mapped \u001b[39m=\u001b[39m lib\u001b[39m.\u001b[39;49mmap_infer(\n\u001b[0;32m   1157\u001b[0m             values,\n\u001b[0;32m   1158\u001b[0m             f,\n\u001b[0;32m   1159\u001b[0m             convert\u001b[39m=\u001b[39;49m\u001b[39mself\u001b[39;49m\u001b[39m.\u001b[39;49mconvert_dtype,\n\u001b[0;32m   1160\u001b[0m         )\n\u001b[0;32m   1162\u001b[0m \u001b[39mif\u001b[39;00m \u001b[39mlen\u001b[39m(mapped) \u001b[39mand\u001b[39;00m \u001b[39misinstance\u001b[39m(mapped[\u001b[39m0\u001b[39m], ABCSeries):\n\u001b[0;32m   1163\u001b[0m     \u001b[39m# GH#43986 Need to do list(mapped) in order to get treated as nested\u001b[39;00m\n\u001b[0;32m   1164\u001b[0m     \u001b[39m#  See also GH#25959 regarding EA support\u001b[39;00m\n\u001b[0;32m   1165\u001b[0m     \u001b[39mreturn\u001b[39;00m obj\u001b[39m.\u001b[39m_constructor_expanddim(\u001b[39mlist\u001b[39m(mapped), index\u001b[39m=\u001b[39mobj\u001b[39m.\u001b[39mindex)\n",
      "File \u001b[1;32mc:\\Users\\Людмила\\AppData\\Local\\Programs\\Python\\Python311\\Lib\\site-packages\\pandas\\_libs\\lib.pyx:2918\u001b[0m, in \u001b[0;36mpandas._libs.lib.map_infer\u001b[1;34m()\u001b[0m\n",
      "Cell \u001b[1;32mIn [76], line 9\u001b[0m, in \u001b[0;36mget_experience\u001b[1;34m(experience)\u001b[0m\n\u001b[0;32m      7\u001b[0m \u001b[39mfor\u001b[39;00m i \u001b[39min\u001b[39;00m \u001b[39mrange\u001b[39m(\u001b[39mlen\u001b[39m(experience_list)):\n\u001b[0;32m      8\u001b[0m     \u001b[39mif\u001b[39;00m experience_list[i] \u001b[39min\u001b[39;00m month_list:\n\u001b[1;32m----> 9\u001b[0m         months \u001b[39m+\u001b[39m\u001b[39m=\u001b[39m \u001b[39mint\u001b[39;49m(experience_list[i\u001b[39m-\u001b[39;49m\u001b[39m1\u001b[39;49m])\n\u001b[0;32m     10\u001b[0m     \u001b[39mif\u001b[39;00m experience_list[i] \u001b[39min\u001b[39;00m year_list:\n\u001b[0;32m     11\u001b[0m         months \u001b[39m+\u001b[39m\u001b[39m=\u001b[39m \u001b[39mint\u001b[39m(experience_list[i\u001b[39m-\u001b[39m\u001b[39m1\u001b[39m])\u001b[39m*\u001b[39m\u001b[39m12\u001b[39m\n",
      "\u001b[1;31mValueError\u001b[0m: invalid literal for int() with base 10: 'года\\xa08'"
     ]
    }
   ],
   "source": [
    "def get_experience(experience):\n",
    "    print(experience)\n",
    "    month_list = ['месяц', 'месяцев', 'месяца']\n",
    "    year_list = ['год', 'года', 'лет']\n",
    "    months = 0\n",
    "    experience_list = experience.split(' ')\n",
    "    for i in range(len(experience_list)):\n",
    "        if experience_list[i] in month_list:\n",
    "            months += int(experience_list[i-1])\n",
    "        if experience_list[i] in year_list:\n",
    "            months += int(experience_list[i-1])*12\n",
    "    return months\n",
    "\n",
    "import pandas as pd\n",
    "import math\n",
    "worker = pd.read_csv('data/hhru.csv', sep=',')\n",
    "worker.columns\n",
    "worker['Experience']= worker['Experience'].astype('object')\n",
    "#worker\n",
    "worker['Months'] = worker['Experience'].apply(get_experience)\n",
    "print(worker['Months'])"
   ]
  },
  {
   "cell_type": "code",
   "execution_count": 77,
   "metadata": {},
   "outputs": [
    {
     "name": "stdout",
     "output_type": "stream",
     "text": [
      "32\n"
     ]
    }
   ],
   "source": [
    "def get_experience(experience):\n",
    "    month_list = ['месяц', 'месяцев', 'месяца']\n",
    "    year_list = ['год', 'года', 'лет']\n",
    "    months = 0\n",
    "    experience_list = experience.split(' ')\n",
    "    for i in range(len(experience_list)):\n",
    "        if experience_list[i] in month_list:\n",
    "            months += int(experience_list[i-1])\n",
    "        if experience_list[i] in year_list:\n",
    "            months += int(experience_list[i-1])*12\n",
    "    return months\n",
    "\n",
    "print(get_experience('Опыт работы 2 года 8 месяцев'))"
   ]
  }
 ],
 "metadata": {
  "kernelspec": {
   "display_name": "Python 3",
   "language": "python",
   "name": "python3"
  },
  "language_info": {
   "codemirror_mode": {
    "name": "ipython",
    "version": 3
   },
   "file_extension": ".py",
   "mimetype": "text/x-python",
   "name": "python",
   "nbconvert_exporter": "python",
   "pygments_lexer": "ipython3",
   "version": "3.11.0 (main, Oct 24 2022, 18:26:48) [MSC v.1933 64 bit (AMD64)]"
  },
  "orig_nbformat": 4,
  "vscode": {
   "interpreter": {
    "hash": "e1d16d5a1ec97294322526250a12683f22a7478b9e5179e33780abaace6694ec"
   }
  }
 },
 "nbformat": 4,
 "nbformat_minor": 2
}
