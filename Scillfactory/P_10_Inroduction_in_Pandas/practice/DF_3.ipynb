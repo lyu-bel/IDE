{
 "cells": [
  {
   "cell_type": "code",
   "execution_count": 64,
   "metadata": {},
   "outputs": [
    {
     "name": "stdout",
     "output_type": "stream",
     "text": [
      "      incomes  expenses\n",
      "2017      612       136\n",
      "2018      516       163\n",
      "2019      329       250\n",
      "2020      158       361\n",
      "353\n"
     ]
    }
   ],
   "source": [
    "import pandas as pd\n",
    "def create_companyDF(incomes, expenses, years):\n",
    "    result = pd.DataFrame(data= {'incomes': incomes, 'expenses': expenses}, index= years)\n",
    "    return result\n",
    "\n",
    "def get_profit(df, year):\n",
    "    if year in df.index:\n",
    "        return (df.loc[year, 'incomes']-df.loc[year, 'expenses'])\n",
    "    else:\n",
    "        return None\n",
    "\n",
    "\n",
    "\n",
    "\n",
    "incomes = [612, 516, 329, 158]\n",
    "expenses = [136, 163, 250, 361]\n",
    "years = [2017, 2018, 2019, 2020]\n",
    "print(create_companyDF(incomes, expenses, years))\n",
    "year= 2018\n",
    "print(get_profit((create_companyDF(incomes, expenses, years)), year))\n"
   ]
  }
 ],
 "metadata": {
  "kernelspec": {
   "display_name": "Python 3.11.0 64-bit",
   "language": "python",
   "name": "python3"
  },
  "language_info": {
   "codemirror_mode": {
    "name": "ipython",
    "version": 3
   },
   "file_extension": ".py",
   "mimetype": "text/x-python",
   "name": "python",
   "nbconvert_exporter": "python",
   "pygments_lexer": "ipython3",
   "version": "3.11.0"
  },
  "orig_nbformat": 4,
  "vscode": {
   "interpreter": {
    "hash": "e1d16d5a1ec97294322526250a12683f22a7478b9e5179e33780abaace6694ec"
   }
  }
 },
 "nbformat": 4,
 "nbformat_minor": 2
}
