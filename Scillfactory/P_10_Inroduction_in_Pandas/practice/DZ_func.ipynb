{
 "cells": [
  {
   "cell_type": "code",
   "execution_count": 1,
   "metadata": {},
   "outputs": [
    {
     "data": {
      "text/plain": [
       "1.297709923664122"
      ]
     },
     "execution_count": 1,
     "metadata": {},
     "output_type": "execute_result"
    }
   ],
   "source": [
    "def get_weekend(weekday):\n",
    "    if weekday == 5 or weekday == 6:\n",
    "        weekday = 1\n",
    "    else:\n",
    "        weekday = 0\n",
    "    return weekday\n",
    "\n",
    "import pandas as pd\n",
    "import math\n",
    "melb_data_ps = pd.read_csv('data/melb_data_ps.csv', sep=',')\n",
    "melb_df = melb_data_ps.copy()\n",
    "#melb_df.head()\n",
    "melb_df = melb_df.drop(['index', 'Coordinates'], axis=1)\n",
    "melb_df.head()\n",
    "total_rooms = melb_df['Rooms'] + melb_df['Bedroom'] + melb_df['Bathroom'] #общее количество комнат в здании\n",
    "#display(total_rooms)\n",
    "melb_df['MeanRoomsSquare'] = melb_df['BuildingArea'] / total_rooms #средняя площадь одной комнаты для каждого объекта\n",
    "#display(melb_df['MeanRoomsSquare'])\n",
    "diff_area = melb_df['BuildingArea'] - melb_df['Landsize'] #коэффициент соотношения площади здания (BuildingArea) и площади участка (Landsize)\n",
    "sum_area = melb_df['BuildingArea'] + melb_df['Landsize']\n",
    "melb_df['AreaRatio'] = diff_area/sum_area\n",
    "#display(melb_df['AreaRatio'])\n",
    "melb_df['Date'] = pd.to_datetime(melb_df['Date'], dayfirst=True)\n",
    "years_sold = melb_df['Date'].dt.year\n",
    "#print(years_sold)\n",
    "#print('Min year sold:', years_sold.min())\n",
    "#print('Max year sold:', years_sold.max())\n",
    "#print('Mode year sold:', years_sold.mode()[0])\n",
    "melb_df['MonthSale'] = melb_df['Date'].dt.month\n",
    "melb_df['MonthSale'].value_counts(normalize=True)\n",
    "delta_days = melb_df['Date'] - pd.to_datetime('2016-01-01') \n",
    "#display(delta_days)\n",
    "melb_df['weekdaySale'] = melb_df['Date'].dt.dayofweek\n",
    "weekend_count = melb_df[(melb_df['weekdaySale'] == 6) | (melb_df['weekdaySale'] == 5)].shape[0] #сколько домов продалось в субботу и воскресенье\n",
    "\n",
    "melb_df['Weekend'] = melb_df['weekdaySale'].apply(get_weekend)\n",
    "#display(weekend_state)\n",
    "melb_df['Weekend']\n",
    "melb_df[(melb_df['Weekend'] == 1)]['Price'].mean()\n",
    "#print(melb_df['SellerG'].nunique())  # кол-во уникальных продавцов\n",
    "#display(melb_df['SellerG'].value_counts())\n",
    "popular_sell_types =melb_df['SellerG'].value_counts().nlargest(49).index #49 популярных агентств недвижимости\n",
    "popular_sell_types\n",
    "melb_df['SellerG'] = melb_df['SellerG'].apply(lambda x: x if x in popular_sell_types else 'other') #49 оставить, заменить остальные названия на 'other'\n",
    "#display(melb_df['SellerG'].value_counts())\n",
    "m = melb_df[(melb_df['SellerG'] == 'Nelson')]['Price'].min() / melb_df[(melb_df['SellerG'] == 'other')]['Price'].min()\n",
    "m"
   ]
  }
 ],
 "metadata": {
  "kernelspec": {
   "display_name": "Python 3",
   "language": "python",
   "name": "python3"
  },
  "language_info": {
   "codemirror_mode": {
    "name": "ipython",
    "version": 3
   },
   "file_extension": ".py",
   "mimetype": "text/x-python",
   "name": "python",
   "nbconvert_exporter": "python",
   "pygments_lexer": "ipython3",
   "version": "3.11.0"
  },
  "orig_nbformat": 4,
  "vscode": {
   "interpreter": {
    "hash": "e1d16d5a1ec97294322526250a12683f22a7478b9e5179e33780abaace6694ec"
   }
  }
 },
 "nbformat": 4,
 "nbformat_minor": 2
}
