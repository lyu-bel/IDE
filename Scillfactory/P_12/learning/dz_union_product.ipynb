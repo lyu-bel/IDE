{
 "cells": [
  {
   "cell_type": "code",
   "execution_count": 52,
   "metadata": {},
   "outputs": [
    {
     "data": {
      "text/plain": [
       "ID Покупателя\n",
       "7     17096.0\n",
       "5     13043.0\n",
       "8      1344.0\n",
       "1         0.0\n",
       "9         0.0\n",
       "10        0.0\n",
       "Name: p, dtype: float64"
      ]
     },
     "execution_count": 52,
     "metadata": {},
     "output_type": "execute_result"
    }
   ],
   "source": [
    "#products  Index(['Product_ID', 'Name', 'Price', 'CURRENCY'], dtype='object')\n",
    "#orders  Index(['Дата создания;Order ID;ID Покупателя;Статус;Оплачен;Отменен;Отгружен;ID товара;Количество'], dtype='object')\n",
    "import pandas as pd\n",
    "products = pd.read_csv('data/products.csv', sep = ';')\n",
    "orders = pd.read_csv('data/orders.csv', sep = ';')\n",
    "#base_cell = products.merge(orders, how= 'left', right_on= 'ID товара', left_on= 'Product_ID')\n",
    "base_cell = orders.join(products.set_index('Product_ID'), on='ID товара', how='left')\n",
    "mask = base_cell['Оплачен'] == 'Да'\n",
    "base_cell['p'] = (base_cell[mask]['Количество']  * base_cell[mask]['Price'])\n",
    "base_cell.groupby('ID Покупателя')['p'].sum().sort_values(ascending=False)\n"
   ]
  }
 ],
 "metadata": {
  "kernelspec": {
   "display_name": "Python 3",
   "language": "python",
   "name": "python3"
  },
  "language_info": {
   "codemirror_mode": {
    "name": "ipython",
    "version": 3
   },
   "file_extension": ".py",
   "mimetype": "text/x-python",
   "name": "python",
   "nbconvert_exporter": "python",
   "pygments_lexer": "ipython3",
   "version": "3.11.0 (main, Oct 24 2022, 18:26:48) [MSC v.1933 64 bit (AMD64)]"
  },
  "orig_nbformat": 4,
  "vscode": {
   "interpreter": {
    "hash": "e1d16d5a1ec97294322526250a12683f22a7478b9e5179e33780abaace6694ec"
   }
  }
 },
 "nbformat": 4,
 "nbformat_minor": 2
}
