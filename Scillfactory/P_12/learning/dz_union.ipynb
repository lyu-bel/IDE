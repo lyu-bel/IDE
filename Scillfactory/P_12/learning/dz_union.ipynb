{
 "cells": [
  {
   "cell_type": "code",
   "execution_count": 91,
   "metadata": {},
   "outputs": [
    {
     "name": "stdout",
     "output_type": "stream",
     "text": [
      "1\n"
     ]
    },
    {
     "data": {
      "text/plain": [
       "year_rating\n",
       "1996    3.228571\n",
       "1997    3.409091\n",
       "1998    3.000000\n",
       "1999    3.606061\n",
       "2000    3.141291\n",
       "2001    3.318408\n",
       "2002    3.198556\n",
       "2003    3.120066\n",
       "2004    3.356877\n",
       "2005    2.963325\n",
       "2006    3.347534\n",
       "2007    2.928187\n",
       "2008    3.426667\n",
       "2009    3.273292\n",
       "2010    3.179825\n",
       "2011    3.232877\n",
       "2012    3.478477\n",
       "2013    3.489474\n",
       "2014    3.271429\n",
       "2015    3.106183\n",
       "2016    3.373431\n",
       "2017    2.852668\n",
       "2018    3.121296\n",
       "Name: Comedy, dtype: float64"
      ]
     },
     "execution_count": 91,
     "metadata": {},
     "output_type": "execute_result"
    }
   ],
   "source": [
    "#библиотека для регулярных выражений\n",
    "import re \n",
    "def get_year_release(arg):\n",
    "    #находим все слова по шаблону \"(DDDD)\"\n",
    "    candidates = re.findall(r'\\(\\d{4}\\)', arg) \n",
    "    # проверяем число вхождений\n",
    "    if len(candidates) > 0:\n",
    "        #если число вхождений больше 0,\n",
    "\t#очищаем строку от знаков \"(\" и \")\"\n",
    "        year = candidates[0].replace('(', '')\n",
    "        year = year.replace(')', '')\n",
    "        return int(year)\n",
    "    else:\n",
    "        #если год не указан, возвращаем None\n",
    "        return None\n",
    "\n",
    "import pandas as pd\n",
    "movies = pd.read_csv('data/ratings_movies.csv')\n",
    "movies['year_release'] = movies['title'].apply(get_year_release) # создаем столбец с годом выпуска фильма, извлекая его из столбца title используя функцию get_year_release и пременяя метод apply к столбцу\n",
    "#movies['year_release'].info()                                   # \n",
    "movies['year_release'].isna().sum()   #используем функцию isna чтобы узнать сколько NaN в столбце (Объект Series)\n",
    "mask = movies['year_release'] == 1999\n",
    "movies[mask].groupby('title')['rating'].mean().sort_values() #Какое сочетание жанров фильмов (genres), выпущенных в 2010 году, получило наименьшую среднюю оценку (rating)?\n",
    "mask = movies['year_release'] == 2010\n",
    "movies.groupby('userId')['genres'].nunique().sort_values(ascending=False) #Какой пользователь (userId) посмотрел наибольшее количество различных (уникальных) комбинаций жанров (genres) фильмов? В качестве ответа запишите идентификатор этого пользователя.\n",
    "movies.groupby('userId')['rating'].agg(['count', 'mean']).sort_values(by = ['count', 'mean'], ascending=[True, False] ) #Найдите пользователя, который выставил наименьшее количество оценок, но его средняя оценка фильмам наибольшая.\n",
    "mask = movies['year_release'] == 2018\n",
    "movies[mask].groupby('genres')['rating'].agg(['mean', 'count']).sort_values(by = ['count', 'mean'], ascending=[False, False] ) #Найдите сочетание жанров (genres) за 2018 году, которое имеет наибольший средний рейтинг (среднее по столбцу rating), и при этом число выставленных ему оценок (количество значений в столбце rating) больше 10.\n",
    "\n",
    "movies['year_rating'] = pd.to_datetime(movies['date'], dayfirst=True)\n",
    "movies['year_rating'] = movies['year_rating'].dt.year\n",
    "mask = (movies['year_rating'] >= 1996) & (movies['year_rating'] <= 2018) & (movies['genres'] == 'Action|Adventure')\n",
    "if movies[mask]['rating'].mean() >= 3:\n",
    "    print('1')\n",
    "movies[mask]['rating'].mean().min()\n",
    "mask = movies['genres'] == 'Action|Adventure|Animation|Children|Comedy|IMAX'\n",
    "movies[mask].groupby('year_rating')['rating'].max()\n",
    "mask = (movies['year_rating'] == 2018) & (movies['genres'] == 'Animation|Children|Mystery')\n",
    "movies[mask].groupby('rating').max()\n",
    "\n",
    "piv_t = movies.pivot_table(\n",
    "    values='rating',\n",
    "    index='year_rating',\n",
    "    columns='genres',\n",
    "    aggfunc = ['mean'],\n",
    "    fill_value=0\n",
    ")\n",
    "\n",
    "piv_t.columns\n",
    "\n",
    "piv_t['mean']['Comedy']"
   ]
  }
 ],
 "metadata": {
  "kernelspec": {
   "display_name": "Python 3",
   "language": "python",
   "name": "python3"
  },
  "language_info": {
   "codemirror_mode": {
    "name": "ipython",
    "version": 3
   },
   "file_extension": ".py",
   "mimetype": "text/x-python",
   "name": "python",
   "nbconvert_exporter": "python",
   "pygments_lexer": "ipython3",
   "version": "3.11.0"
  },
  "orig_nbformat": 4,
  "vscode": {
   "interpreter": {
    "hash": "e1d16d5a1ec97294322526250a12683f22a7478b9e5179e33780abaace6694ec"
   }
  }
 },
 "nbformat": 4,
 "nbformat_minor": 2
}
