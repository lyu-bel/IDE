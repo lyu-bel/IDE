{
 "cells": [
  {
   "cell_type": "code",
   "execution_count": 34,
   "metadata": {},
   "outputs": [
    {
     "data": {
      "text/html": [
       "<div>\n",
       "<style scoped>\n",
       "    .dataframe tbody tr th:only-of-type {\n",
       "        vertical-align: middle;\n",
       "    }\n",
       "\n",
       "    .dataframe tbody tr th {\n",
       "        vertical-align: top;\n",
       "    }\n",
       "\n",
       "    .dataframe thead th {\n",
       "        text-align: right;\n",
       "    }\n",
       "</style>\n",
       "<table border=\"1\" class=\"dataframe\">\n",
       "  <thead>\n",
       "    <tr style=\"text-align: right;\">\n",
       "      <th></th>\n",
       "      <th>item_id</th>\n",
       "      <th>vendor</th>\n",
       "      <th>stock_count</th>\n",
       "      <th>purchase_id</th>\n",
       "      <th>price</th>\n",
       "    </tr>\n",
       "  </thead>\n",
       "  <tbody>\n",
       "    <tr>\n",
       "      <th>0</th>\n",
       "      <td>417283</td>\n",
       "      <td>Samsung</td>\n",
       "      <td>54</td>\n",
       "      <td>101</td>\n",
       "      <td>13900</td>\n",
       "    </tr>\n",
       "    <tr>\n",
       "      <th>1</th>\n",
       "      <td>849734</td>\n",
       "      <td>LG</td>\n",
       "      <td>33</td>\n",
       "      <td>101</td>\n",
       "      <td>5330</td>\n",
       "    </tr>\n",
       "    <tr>\n",
       "      <th>2</th>\n",
       "      <td>132223</td>\n",
       "      <td>Apple</td>\n",
       "      <td>122</td>\n",
       "      <td>101</td>\n",
       "      <td>38200</td>\n",
       "    </tr>\n",
       "    <tr>\n",
       "      <th>3</th>\n",
       "      <td>573943</td>\n",
       "      <td>Apple</td>\n",
       "      <td>18</td>\n",
       "      <td>112</td>\n",
       "      <td>49990</td>\n",
       "    </tr>\n",
       "    <tr>\n",
       "      <th>4</th>\n",
       "      <td>19475</td>\n",
       "      <td>LG</td>\n",
       "      <td>102</td>\n",
       "      <td>121</td>\n",
       "      <td>9890</td>\n",
       "    </tr>\n",
       "    <tr>\n",
       "      <th>5</th>\n",
       "      <td>3294095</td>\n",
       "      <td>Apple</td>\n",
       "      <td>43</td>\n",
       "      <td>145</td>\n",
       "      <td>33000</td>\n",
       "    </tr>\n",
       "    <tr>\n",
       "      <th>6</th>\n",
       "      <td>382043</td>\n",
       "      <td>Samsung</td>\n",
       "      <td>77</td>\n",
       "      <td>145</td>\n",
       "      <td>67500</td>\n",
       "    </tr>\n",
       "    <tr>\n",
       "      <th>7</th>\n",
       "      <td>302948</td>\n",
       "      <td>Samsung</td>\n",
       "      <td>143</td>\n",
       "      <td>145</td>\n",
       "      <td>34500</td>\n",
       "    </tr>\n",
       "    <tr>\n",
       "      <th>8</th>\n",
       "      <td>100132</td>\n",
       "      <td>LG</td>\n",
       "      <td>60</td>\n",
       "      <td>221</td>\n",
       "      <td>11400</td>\n",
       "    </tr>\n",
       "  </tbody>\n",
       "</table>\n",
       "</div>"
      ],
      "text/plain": [
       "   item_id   vendor  stock_count  purchase_id  price\n",
       "0   417283  Samsung           54          101  13900\n",
       "1   849734       LG           33          101   5330\n",
       "2   132223    Apple          122          101  38200\n",
       "3   573943    Apple           18          112  49990\n",
       "4    19475       LG          102          121   9890\n",
       "5  3294095    Apple           43          145  33000\n",
       "6   382043  Samsung           77          145  67500\n",
       "7   302948  Samsung          143          145  34500\n",
       "8   100132       LG           60          221  11400"
      ]
     },
     "metadata": {},
     "output_type": "display_data"
    },
    {
     "data": {
      "text/plain": [
       "19729490"
      ]
     },
     "execution_count": 34,
     "metadata": {},
     "output_type": "execute_result"
    }
   ],
   "source": [
    "import pandas as pd\n",
    "items_df = pd.DataFrame({\n",
    "    'item_id': [417283, 849734, 132223, 573943, 19475, 3294095, 382043, 302948, 100132, 312394], \n",
    "    'vendor': ['Samsung', 'LG', 'Apple', 'Apple', 'LG', 'Apple', 'Samsung', 'Samsung', 'LG', 'ZTE'],\n",
    "    'stock_count': [54, 33, 122, 18, 102, 43, 77, 143, 60, 19]\n",
    "})\n",
    "purchase_df = pd.DataFrame({\n",
    "    'purchase_id': [101, 101, 101, 112, 121, 145, 145, 145, 145, 221],\n",
    "    'item_id': [417283, 849734, 132223, 573943, 19475, 3294095, 382043, 302948, 103845, 100132], \n",
    "    'price': [13900, 5330, 38200, 49990, 9890, 33000, 67500, 34500, 89900, 11400]\n",
    "})\n",
    "\n",
    "merged  = items_df.merge(purchase_df, how='inner', on = 'item_id')\n",
    "display(merged)\n",
    "income = (merged['price']  * merged['stock_count']).sum()\n",
    "income"
   ]
  }
 ],
 "metadata": {
  "kernelspec": {
   "display_name": "Python 3",
   "language": "python",
   "name": "python3"
  },
  "language_info": {
   "codemirror_mode": {
    "name": "ipython",
    "version": 3
   },
   "file_extension": ".py",
   "mimetype": "text/x-python",
   "name": "python",
   "nbconvert_exporter": "python",
   "pygments_lexer": "ipython3",
   "version": "3.11.0"
  },
  "orig_nbformat": 4,
  "vscode": {
   "interpreter": {
    "hash": "e1d16d5a1ec97294322526250a12683f22a7478b9e5179e33780abaace6694ec"
   }
  }
 },
 "nbformat": 4,
 "nbformat_minor": 2
}
