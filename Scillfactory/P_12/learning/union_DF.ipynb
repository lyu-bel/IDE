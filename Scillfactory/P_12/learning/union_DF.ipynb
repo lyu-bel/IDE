{
 "cells": [
  {
   "cell_type": "code",
   "execution_count": 10,
   "metadata": {},
   "outputs": [],
   "source": [
    "#ratings1 и ratings2 — таблицы с данными о выставленных пользователями оценках фильмов\n",
    "#userId — уникальный идентификатор пользователя, который выставил оценку;\n",
    "#movieId — уникальный идентификатор фильма;\n",
    "#rating — рейтинг фильма.\n",
    "#dates — таблица с датами выставления всех оценок.\n",
    "\n",
    "#dates — таблица с датами выставления всех оценок\n",
    "#date — дата и время выставления оценки фильму\n",
    "\n",
    "#movies — таблица с информацией о фильмах\n",
    "#movieId — уникальный идентификатор фильма;\n",
    "#title — название фильма и год его выхода;\n",
    "#genres — жанры фильма\n"
   ]
  },
  {
   "cell_type": "code",
   "execution_count": 5,
   "metadata": {},
   "outputs": [
    {
     "data": {
      "text/plain": [
       "Index(['userId', 'movieId', 'rating'], dtype='object')"
      ]
     },
     "execution_count": 5,
     "metadata": {},
     "output_type": "execute_result"
    }
   ],
   "source": [
    "import pandas as pd\n",
    "movies = pd.read_csv('data/movies.csv')\n",
    "ratings1 = pd.read_csv('data/ratings1.csv')\n",
    "ratings2 = pd.read_csv('data/ratings2.csv')\n",
    "dates = pd.read_csv('data/dates.csv')\n",
    "movies['movieId'].nunique()\n",
    "ratings1['userId'].nunique()\n",
    "dates['date'] = pd.to_datetime(dates['date'], dayfirst=True)\n",
    "year = dates['date'].dt.year\n",
    "year.mode()\n",
    "ratings = pd.concat([ratings1, ratings2], ignore_index=True) #объединяем таблицы и перенумеровываем по индексу\n",
    "#display(ratings)\n",
    "#print('Число строк в таблице ratings: ', ratings.shape[0])\n",
    "#print('Число строк в таблице dates: ', dates.shape[0])\n",
    "#print(ratings.shape[0] == dates.shape[0])\n",
    "ratings = ratings.drop_duplicates(ignore_index=True) #очистим таблицу от дублей\n",
    "#print('Число строк в таблице ratings: ', ratings.shape[0])\n",
    "ratings_dates = pd.concat([ratings, dates], axis=1) #объединяем таблицы рейтингов и дат\n",
    "ratings.columns\n",
    "joined_false = ratings_dates.join(\n",
    "    movies,\n",
    "    rsuffix='_right',\n",
    "    how='left'\n",
    ")\n",
    "#display(joined_false)\n",
    "joined = ratings_dates.join(\n",
    "    movies.set_index('movieId'),\n",
    "    on='movieId',\n",
    "    how='left'\n",
    ")\n",
    "#display(joined.head())\n",
    "\n",
    "merged = ratings_dates.merge(\n",
    "    movies,\n",
    "    on='movieId',\n",
    "    how='left'\n",
    ")\n",
    "#display(merged.head())\n",
    "#print('Число строк в таблице ratings_dates: ', ratings_dates.shape[0])\n",
    "#print(ratings_dates.shape[0] == merged.shape[0])\n",
    "\n",
    "merge_ratings = ratings1.merge(ratings2, how='outer') #Метод merge() с внешним (outer) типом объединения как аналог метода concat() при объединении таблиц\n",
    "#print('Число строк в таблице merge_ratings: ', merge_ratings.shape[0])\n",
    "#display(merge_ratings)\n",
    "ratings.columns"
   ]
  }
 ],
 "metadata": {
  "kernelspec": {
   "display_name": "Python 3",
   "language": "python",
   "name": "python3"
  },
  "language_info": {
   "codemirror_mode": {
    "name": "ipython",
    "version": 3
   },
   "file_extension": ".py",
   "mimetype": "text/x-python",
   "name": "python",
   "nbconvert_exporter": "python",
   "pygments_lexer": "ipython3",
   "version": "3.11.0"
  },
  "orig_nbformat": 4,
  "vscode": {
   "interpreter": {
    "hash": "e1d16d5a1ec97294322526250a12683f22a7478b9e5179e33780abaace6694ec"
   }
  }
 },
 "nbformat": 4,
 "nbformat_minor": 2
}
