{
 "cells": [
  {
   "cell_type": "code",
   "execution_count": 2,
   "metadata": {},
   "outputs": [
    {
     "name": "stdout",
     "output_type": "stream",
     "text": [
      "Before dropping\n",
      "               Name Seasons        Actor\n",
      "0   Stranger Things       3       Millie\n",
      "1   Game of Thrones     NaN       Emilia\n",
      "2         Westworld     NaT  Evan Rachel\n",
      "3  La Casa De Papel       4         None\n",
      "Drop only those rows, whose column names are defined in subset\n",
      "              Name Seasons        Actor\n",
      "0  Stranger Things       3       Millie\n",
      "1  Game of Thrones     NaN       Emilia\n",
      "2        Westworld     NaT  Evan Rachel\n"
     ]
    }
   ],
   "source": [
    "import pandas as pd\n",
    "import numpy as np\n",
    "\n",
    "# reading the data\n",
    "series = [('Stranger Things', 3, 'Millie'),\n",
    "         ('Game of Thrones', np.nan, 'Emilia'),\n",
    "         ('Westworld', pd.NaT, 'Evan Rachel'),('La Casa De Papel', 4, None)]\n",
    "\n",
    "# Create a DataFrame object\n",
    "dfObj = pd.DataFrame(series, columns=['Name', 'Seasons', 'Actor'])\n",
    "print('Before dropping')\n",
    "print(dfObj)\n",
    "removeDefinedColumns = dfObj.dropna(subset=['Name', 'Actor'])\n",
    "print('Drop only those rows, whose column names are defined in subset')\n",
    "print(removeDefinedColumns)\n"
   ]
  }
 ],
 "metadata": {
  "kernelspec": {
   "display_name": "Python 3",
   "language": "python",
   "name": "python3"
  },
  "language_info": {
   "codemirror_mode": {
    "name": "ipython",
    "version": 3
   },
   "file_extension": ".py",
   "mimetype": "text/x-python",
   "name": "python",
   "nbconvert_exporter": "python",
   "pygments_lexer": "ipython3",
   "version": "3.11.0"
  },
  "orig_nbformat": 4
 },
 "nbformat": 4,
 "nbformat_minor": 2
}
