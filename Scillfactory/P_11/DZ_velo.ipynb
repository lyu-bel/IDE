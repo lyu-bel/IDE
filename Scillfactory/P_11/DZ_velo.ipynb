{
 "cells": [
  {
   "cell_type": "code",
   "execution_count": 2,
   "metadata": {},
   "outputs": [],
   "source": [
    "#starttime — время начала поездки (дата, время);\n",
    "#stoptime — время окончания поездки (дата, время);\n",
    "#start station id — идентификатор стартовой стоянки;\n",
    "#start station name — название стартовой стоянки;\n",
    "#start station latitude, start station longitude — географическая широта и долгота стартовой стоянки;\n",
    "#end station id — идентификатор конечной стоянки;\n",
    "#end station name — название конечной стоянки;\n",
    "#end station latitude, end station longitude — географическая широта и долгота конечной стоянки;\n",
    "#bikeid — идентификатор велосипеда;\n",
    "#usertype — тип пользователя (Customer — клиент с подпиской на 24 часа или на три дня, Subscriber — подписчик с годовой арендой велосипеда);\n",
    "#birth year — год рождения клиента;\n",
    "#gender — пол клиента (0 — неизвестный, 1 — мужчина, 2 — женщина).\n"
   ]
  },
  {
   "cell_type": "code",
   "execution_count": 2,
   "metadata": {},
   "outputs": [
    {
     "data": {
      "text/plain": [
       "9"
      ]
     },
     "execution_count": 2,
     "metadata": {},
     "output_type": "execute_result"
    }
   ],
   "source": [
    "def get_weekend(weekday):\n",
    "    if weekday == 5 or weekday == 6:\n",
    "        weekday = 1\n",
    "    else:\n",
    "        weekday = 0\n",
    "    return weekday\n",
    "\n",
    "import pandas as pd\n",
    "import math\n",
    "velo_data_1 = pd.read_csv('data/citibike-tripdata.csv', sep=',')\n",
    "velo_data = velo_data_1.copy()\n",
    "#velo_data.info()\n",
    "#velo_data['start station id'].value_counts() #какая стартовая станция самая популярная\n",
    "#velo_data['bikeid'].value_counts() #какой велосипед самый популярный\n",
    "mode_usertype = velo_data['usertype'].mode()[0]\n",
    "mode_usertype\n",
    "count_mode_user = velo_data[velo_data['usertype'] == mode_usertype].shape[0]\n",
    "count_mode_user\n",
    "#print(round(count_mode_user / velo_data.shape[0], 2))\n",
    "#print(velo_data['gender'].value_counts())\n",
    "count_gender_user = velo_data[velo_data['gender'] == 1].shape[0]\n",
    "count_gender_user\n",
    "velo_data['start station id'].nunique() == velo_data['end station id'].nunique()\n",
    "velo_data['starttime'] = pd.to_datetime(velo_data['starttime'], dayfirst=True)\n",
    "velo_data['stoptime'] = pd.to_datetime(velo_data['stoptime'], dayfirst=True)\n",
    "\n",
    "velo_data['year'] = velo_data['starttime'].dt.year\n",
    "velo_data['age'] = velo_data['year'] - velo_data['birth year']\n",
    "velo_data['start station name'].value_counts()\n",
    "velo_data['end station name'].value_counts()\n",
    "velo_data.drop(['start station id'], axis=1,inplace=True)\n",
    "velo_data.drop(['end station id'], axis=1, inplace=True)\n",
    "velo_data.drop(['birth year'], axis=1, inplace=True)\n",
    "#velo_data.info()\n",
    "v= velo_data[(velo_data['age'] > 60)]['starttime'].count() #сколько совершило поездок клиентов старше 60 лет\n",
    "velo_data['trip duration'] = velo_data['stoptime'] - velo_data['starttime']\n",
    "\n",
    "velo_data['trip duration'][3]\n",
    "\n",
    "velo_data['day'] = velo_data['starttime'].dt.dayofweek\n",
    "\n",
    "velo_data['weekend'] = velo_data['day'].apply(get_weekend)\n",
    "velo_data[(velo_data['weekend'] == 1)]['starttime'].count()\n",
    "velo_data.head()\n",
    "velo_data['time of day'] = velo_data['starttime'].dt.hour\n",
    "velo_data.loc[(velo_data['time of day'] >= 0) & (velo_data['time of day'] <= 6), 'time of day'] = 1000\n",
    "velo_data.loc[(velo_data['time of day'] > 6) & (velo_data['time of day'] <= 12), 'time of day'] = 2000\n",
    "velo_data.loc[(velo_data['time of day'] > 12) & (velo_data['time of day'] <= 18), 'time of day'] = 3000\n",
    "velo_data.loc[(velo_data['time of day'] > 18) & (velo_data['time of day'] <= 23), 'time of day'] = 4000\n",
    "\n",
    "velo_data['time of day'].value_counts()\n",
    "round(velo_data.loc[(velo_data['time of day'] == 3000)]['time of day'].count() / velo_data.loc[(velo_data['time of day'] == 1000)]['time of day'].count())"
   ]
  }
 ],
 "metadata": {
  "kernelspec": {
   "display_name": "Python 3",
   "language": "python",
   "name": "python3"
  },
  "language_info": {
   "codemirror_mode": {
    "name": "ipython",
    "version": 3
   },
   "file_extension": ".py",
   "mimetype": "text/x-python",
   "name": "python",
   "nbconvert_exporter": "python",
   "pygments_lexer": "ipython3",
   "version": "3.11.0"
  },
  "orig_nbformat": 4,
  "vscode": {
   "interpreter": {
    "hash": "e1d16d5a1ec97294322526250a12683f22a7478b9e5179e33780abaace6694ec"
   }
  }
 },
 "nbformat": 4,
 "nbformat_minor": 2
}
