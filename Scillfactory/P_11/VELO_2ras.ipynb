{
 "cells": [
  {
   "cell_type": "code",
   "execution_count": 1,
   "metadata": {},
   "outputs": [],
   "source": [
    "#starttime — время начала поездки (дата, время);\n",
    "#stoptime — время окончания поездки (дата, время);\n",
    "#start station id — идентификатор стартовой стоянки;\n",
    "#start station name — название стартовой стоянки;\n",
    "#start station latitude, start station longitude — географическая широта и долгота стартовой стоянки;\n",
    "#end station id — идентификатор конечной стоянки;\n",
    "#end station name — название конечной стоянки;\n",
    "#end station latitude, end station longitude — географическая широта и долгота конечной стоянки;\n",
    "#bikeid — идентификатор велосипеда;\n",
    "#usertype — тип пользователя (Customer — клиент с подпиской на 24 часа или на три дня, Subscriber — подписчик с годовой арендой велосипеда);\n",
    "#birth year — год рождения клиента;\n",
    "#gender — пол клиента (0 — неизвестный, 1 — мужчина, 2 — женщина)."
   ]
  },
  {
   "attachments": {},
   "cell_type": "markdown",
   "metadata": {},
   "source": []
  },
  {
   "cell_type": "code",
   "execution_count": 2,
   "metadata": {},
   "outputs": [],
   "source": [
    "def get_weekend(weekday):\n",
    "    if weekday == 5 or weekday == 6:\n",
    "        weekday = 1\n",
    "    else:\n",
    "        weekday = 0\n",
    "    return weekday\n",
    "\n",
    "import pandas as pd\n",
    "import math\n",
    "velo_data_1 = pd.read_csv('data/citibike-tripdata.csv', sep=',')\n",
    "velo_data = velo_data_1.copy()"
   ]
  },
  {
   "cell_type": "code",
   "execution_count": 3,
   "metadata": {},
   "outputs": [
    {
     "data": {
      "text/plain": [
       "169"
      ]
     },
     "execution_count": 3,
     "metadata": {},
     "output_type": "execute_result"
    }
   ],
   "source": [
    "#Задание 6.1 Сколько пропусков в столбце start station id?\n",
    "velo_data['start station id'].isnull().sum()"
   ]
  },
  {
   "cell_type": "code",
   "execution_count": 4,
   "metadata": {},
   "outputs": [
    {
     "name": "stdout",
     "output_type": "stream",
     "text": [
      "<class 'pandas.core.frame.DataFrame'>\n",
      "RangeIndex: 300000 entries, 0 to 299999\n",
      "Data columns (total 14 columns):\n",
      " #   Column                   Non-Null Count   Dtype  \n",
      "---  ------                   --------------   -----  \n",
      " 0   starttime                300000 non-null  object \n",
      " 1   stoptime                 300000 non-null  object \n",
      " 2   start station id         299831 non-null  float64\n",
      " 3   start station name       299831 non-null  object \n",
      " 4   start station latitude   300000 non-null  float64\n",
      " 5   start station longitude  300000 non-null  float64\n",
      " 6   end station id           299831 non-null  float64\n",
      " 7   end station name         299831 non-null  object \n",
      " 8   end station latitude     300000 non-null  float64\n",
      " 9   end station longitude    300000 non-null  float64\n",
      " 10  bikeid                   300000 non-null  int64  \n",
      " 11  usertype                 300000 non-null  object \n",
      " 12  birth year               300000 non-null  int64  \n",
      " 13  gender                   300000 non-null  int64  \n",
      "dtypes: float64(6), int64(3), object(5)\n",
      "memory usage: 32.0+ MB\n"
     ]
    }
   ],
   "source": [
    "# Задание 6.2 Какой тип данных имеют столбцы starttime и stoptime?\n",
    "velo_data.info()"
   ]
  },
  {
   "cell_type": "code",
   "execution_count": 5,
   "metadata": {},
   "outputs": [
    {
     "data": {
      "text/plain": [
       "281.0     1928\n",
       "2006.0    1909\n",
       "519.0     1873\n",
       "514.0     1845\n",
       "426.0     1835\n",
       "          ... \n",
       "3432.0      15\n",
       "3599.0      11\n",
       "2005.0       9\n",
       "3704.0       7\n",
       "3583.0       6\n",
       "Name: start station id, Length: 759, dtype: int64"
      ]
     },
     "execution_count": 5,
     "metadata": {},
     "output_type": "execute_result"
    }
   ],
   "source": [
    "#Задание 6.3 Найдите идентификатор самой популярной стартовой стоянки. Запишите идентификатор в виде целого числа.\n",
    "#start station id — идентификатор стартовой стоянки;\n",
    "velo_data['start station id'].value_counts()"
   ]
  },
  {
   "cell_type": "code",
   "execution_count": 6,
   "metadata": {},
   "outputs": [
    {
     "data": {
      "text/plain": [
       "33887    107\n",
       "34358    104\n",
       "34159    103\n",
       "34258    103\n",
       "33916    102\n",
       "        ... \n",
       "18587      1\n",
       "17324      1\n",
       "29593      1\n",
       "33157      1\n",
       "25794      1\n",
       "Name: bikeid, Length: 10004, dtype: int64"
      ]
     },
     "execution_count": 6,
     "metadata": {},
     "output_type": "execute_result"
    }
   ],
   "source": [
    "#Задание 6.4 Велосипед с каким идентификатором является самым популярным?\n",
    "\n",
    "#bikeid — идентификатор велосипеда;\n",
    "\n",
    "velo_data['bikeid'].value_counts()"
   ]
  },
  {
   "cell_type": "code",
   "execution_count": 7,
   "metadata": {},
   "outputs": [
    {
     "data": {
      "text/plain": [
       "Subscriber    0.774007\n",
       "Customer      0.225993\n",
       "Name: usertype, dtype: float64"
      ]
     },
     "execution_count": 7,
     "metadata": {},
     "output_type": "execute_result"
    }
   ],
   "source": [
    "# Задание 6.5 Какой тип клиентов (столбец usertype) является преобладающим — Subscriber или Customer? \n",
    "# В качестве ответа запишите долю клиентов преобладающего типа среди общего количества клиентов. Ответ округлите до сотых.\n",
    "\n",
    "velo_data['usertype'].value_counts(normalize=1)"
   ]
  },
  {
   "cell_type": "code",
   "execution_count": 8,
   "metadata": {},
   "outputs": [
    {
     "data": {
      "text/plain": [
       "1    183582\n",
       "2     74506\n",
       "0     41912\n",
       "Name: gender, dtype: int64"
      ]
     },
     "execution_count": 8,
     "metadata": {},
     "output_type": "execute_result"
    }
   ],
   "source": [
    "#Задание 6.6 Кто больше занимается велоспортом — мужчины или женщины? В ответ запишите число поездок для той группы, у которой их больше.\n",
    "#gender — пол клиента (0 — неизвестный, 1 — мужчина, 2 — женщина).\n",
    "\n",
    "velo_data['gender'].value_counts()"
   ]
  },
  {
   "attachments": {},
   "cell_type": "markdown",
   "metadata": {},
   "source": [
    "Задание 6.7 \n",
    "Выберите утверждения,которые соответствуют нашим данным:\n",
    "A Число уникальных стартовых и конечных стоянок, которыми воспользовались клиенты, не равны друг другу\n",
    "B В рассматриваемые дни минимальный возраст клиента составлял 10 лет\n",
    "C Самой непопулярной стартовой стоянкой из тех, которыми воспользовались клиенты, является стоянка с названием \"Eastern Pkwy & Washington Ave\"\n",
    "D Наибольшее количество поездок завершается на стоянке под названием \"Liberty Light Rail\"\n",
    "верно\n",
    "\n",
    "Ответ\n",
    "Верно:\n",
    "A Верно.\n",
    "C Верно."
   ]
  },
  {
   "cell_type": "code",
   "execution_count": 9,
   "metadata": {},
   "outputs": [
    {
     "data": {
      "text/plain": [
       "-6"
      ]
     },
     "execution_count": 9,
     "metadata": {},
     "output_type": "execute_result"
    }
   ],
   "source": [
    "#A\n",
    "velo_data['start station id'].nunique() - velo_data['end station id'].nunique() #A"
   ]
  },
  {
   "cell_type": "code",
   "execution_count": 10,
   "metadata": {},
   "outputs": [
    {
     "data": {
      "text/plain": [
       "16"
      ]
     },
     "execution_count": 10,
     "metadata": {},
     "output_type": "execute_result"
    }
   ],
   "source": [
    "#B\n",
    "velo_data['stoptime'] = pd.to_datetime(velo_data['stoptime'], dayfirst=True)\n",
    "velo_data['stoptime']\n",
    "(velo_data['stoptime'].dt.year - velo_data['birth year']).min()"
   ]
  },
  {
   "cell_type": "code",
   "execution_count": 11,
   "metadata": {},
   "outputs": [
    {
     "data": {
      "text/plain": [
       "Grand Army Plaza & Central Park S    1928\n",
       "Central Park S & 6 Ave               1909\n",
       "Pershing Square North                1873\n",
       "12 Ave & W 40 St                     1845\n",
       "West St & Chambers St                1835\n",
       "                                     ... \n",
       "NYCBS Depot - GOW                      15\n",
       "Franklin Ave & Empire Blvd             11\n",
       "Railroad Ave & Kay Ave                  9\n",
       "47 Ave & Skillman Ave                   7\n",
       "Eastern Pkwy & Washington Ave           6\n",
       "Name: start station name, Length: 759, dtype: int64"
      ]
     },
     "execution_count": 11,
     "metadata": {},
     "output_type": "execute_result"
    }
   ],
   "source": [
    "#C\n",
    "velo_data['start station name'].value_counts()"
   ]
  },
  {
   "cell_type": "code",
   "execution_count": 12,
   "metadata": {},
   "outputs": [
    {
     "data": {
      "text/plain": [
       "West St & Chambers St          1963\n",
       "12 Ave & W 40 St               1909\n",
       "Pershing Square North          1850\n",
       "Central Park S & 6 Ave         1828\n",
       "E 17 St & Broadway             1804\n",
       "                               ... \n",
       "Exchange Place                    3\n",
       "Union St                          1\n",
       "Warren St                         1\n",
       "Montrose Ave & Bushwick Ave       1\n",
       "Liberty Light Rail                1\n",
       "Name: end station name, Length: 765, dtype: int64"
      ]
     },
     "execution_count": 12,
     "metadata": {},
     "output_type": "execute_result"
    }
   ],
   "source": [
    "#D\n",
    "velo_data['end station name'].value_counts()"
   ]
  },
  {
   "cell_type": "code",
   "execution_count": 13,
   "metadata": {},
   "outputs": [
    {
     "data": {
      "text/plain": [
       "(300000, 12)"
      ]
     },
     "execution_count": 13,
     "metadata": {},
     "output_type": "execute_result"
    }
   ],
   "source": [
    "# Задание 6.8 В первую очередь удалим лишнюю информацию из данных.\n",
    "#В наших данных присутствуют столбцы, которые дублируют информацию друг о друге: \n",
    "# это столбцы с идентификатором и названием стартовой и конечной стоянки. \n",
    "# Удалите признаки идентификаторов стоянок. Сколько столбцов осталось?\n",
    "velo_data.drop(['end station name', 'start station name'], axis=1).shape"
   ]
  },
  {
   "cell_type": "code",
   "execution_count": 14,
   "metadata": {},
   "outputs": [
    {
     "data": {
      "text/plain": [
       "11837"
      ]
     },
     "execution_count": 14,
     "metadata": {},
     "output_type": "execute_result"
    }
   ],
   "source": [
    "#Задание 6.9 Замените признак birth year на более понятный признак возраста клиента age. \n",
    "# Годом отсчёта возраста выберите 2018 год. Столбец birth year удалите из таблицы. \n",
    "# Сколько поездок совершено клиентами старше 60 лет?\n",
    "\n",
    "velo_data['age'] = 2018- velo_data['birth year']\n",
    "velo_data[velo_data['age']>60]['age'].count()"
   ]
  },
  {
   "cell_type": "code",
   "execution_count": 41,
   "metadata": {},
   "outputs": [
    {
     "data": {
      "text/plain": [
       "Timedelta('0 days 00:07:16.837000')"
      ]
     },
     "execution_count": 41,
     "metadata": {},
     "output_type": "execute_result"
    }
   ],
   "source": [
    "# Задание 6.10 Создайте признак длительности поездки trip duration. \n",
    "# Для этого вычислите интервал времени между временем окончания поездки (stoptime) и её началом (starttime). \n",
    "# Сколько целых минут длилась поездка под индексом 3 в таблице?\n",
    "velo_data['starttime'] = pd.to_datetime(velo_data['starttime'])\n",
    "velo_data['stoptime'] = pd.to_datetime(velo_data['stoptime'])\n",
    "velo_data['trip duration'] = (velo_data['stoptime'] - velo_data['starttime'])\n",
    "velo_data.loc[3, 'trip duration']\n"
   ]
  },
  {
   "cell_type": "code",
   "execution_count": 16,
   "metadata": {},
   "outputs": [
    {
     "data": {
      "text/plain": [
       "115135"
      ]
     },
     "execution_count": 16,
     "metadata": {},
     "output_type": "execute_result"
    }
   ],
   "source": [
    "#Задание 6.11\n",
    "#Создайте «признак-мигалку» weekend, который равен 1, если поездка начиналась в выходной день (суббота или воскресенье), \n",
    "# и 0 — в противном случае. Выясните, сколько поездок начиналось в выходные.\n",
    "velo_data['weekend'] = velo_data['starttime'].dt.day.apply(lambda x: 1 if (x==1 or x==2) else 0)\n",
    "velo_data[(velo_data['weekend'] == 1)]['starttime'].count()\n"
   ]
  },
  {
   "attachments": {},
   "cell_type": "markdown",
   "metadata": {},
   "source": [
    "Задание 6.12\n",
    "1/1 point (graded)\n",
    "Создайте признак времени суток поездки time_of_day. Время суток будем определять из часа начала поездки. Условимся, что:\n",
    "поездка совершается ночью (night), если её час приходится на интервал от 0 (включительно) до 6 (включительно) часов;\n",
    "поездка совершается утром (morning), если её час приходится на интервал от 6 (не включительно) до 12 (включительно) часов;\n",
    "поездка совершается днём (day), если её час приходится на интервал от 12 (не включительно) до 18 (включительно) часов;\n",
    "поездка совершается вечером (evening), если её час приходится на интервал от 18 (не включительно) до 23 часов (включительно).\n",
    "Во сколько раз количество поездок, совершённых днём, больше, чем количество поездок, совёршенных ночью, за представленный в данных период времени? Ответ округлите до целых."
   ]
  },
  {
   "cell_type": "code",
   "execution_count": 33,
   "metadata": {},
   "outputs": [
    {
     "data": {
      "text/plain": [
       "9"
      ]
     },
     "execution_count": 33,
     "metadata": {},
     "output_type": "execute_result"
    }
   ],
   "source": [
    "\n",
    "velo_data['time of day'] = velo_data['starttime'].dt.hour # мой вариант решения\n",
    "velo_data['time of day']\n",
    "velo_data.loc[(velo_data['time of day'] >= 0) & (velo_data['time of day'] <= 6), 'time of day'] = 1000\n",
    "velo_data.loc[(velo_data['time of day'] > 6) & (velo_data['time of day'] <= 12), 'time of day'] = 2000\n",
    "velo_data.loc[(velo_data['time of day'] > 12) & (velo_data['time of day'] <= 18), 'time of day'] = 3000\n",
    "velo_data.loc[(velo_data['time of day'] > 18) & (velo_data['time of day'] <= 23), 'time of day'] = 4000\n",
    "\n",
    "round(velo_data[(velo_data['time of day'] == 3000)]['time of day'].count()/velo_data.loc[(velo_data['time of day'] == 1000)]['time of day'].count())"
   ]
  },
  {
   "attachments": {},
   "cell_type": "markdown",
   "metadata": {},
   "source": [
    "2 вариант решения От платформы"
   ]
  },
  {
   "cell_type": "code",
   "execution_count": 35,
   "metadata": {},
   "outputs": [
    {
     "name": "stdout",
     "output_type": "stream",
     "text": [
      "9\n"
     ]
    }
   ],
   "source": [
    "def get_time_of_day(time):\n",
    "    if 0 <= time <= 6:\n",
    "        return 'night'\n",
    "    elif 6 < time <= 12:\n",
    "        return 'morning'\n",
    "    elif 12 < time <= 18:\n",
    "        return 'day'\n",
    "    elif 18 < time <= 23:\n",
    "        return 'evening'\n",
    "\n",
    "velo_data['time_of_day'] = velo_data['starttime'].dt.hour.apply(get_time_of_day)\n",
    "a = velo_data[velo_data['time_of_day'] == 'day'].shape[0]\n",
    "b = velo_data[velo_data['time_of_day'] == 'night'].shape[0]\n",
    "print(round(a / b))"
   ]
  }
 ],
 "metadata": {
  "kernelspec": {
   "display_name": "Python 3",
   "language": "python",
   "name": "python3"
  },
  "language_info": {
   "codemirror_mode": {
    "name": "ipython",
    "version": 3
   },
   "file_extension": ".py",
   "mimetype": "text/x-python",
   "name": "python",
   "nbconvert_exporter": "python",
   "pygments_lexer": "ipython3",
   "version": "3.11.0"
  },
  "orig_nbformat": 4
 },
 "nbformat": 4,
 "nbformat_minor": 2
}
