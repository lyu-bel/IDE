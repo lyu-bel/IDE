{
 "cells": [
  {
   "cell_type": "code",
   "execution_count": 2,
   "metadata": {},
   "outputs": [
    {
     "data": {
      "text/plain": [
       "84.93080566562001"
      ]
     },
     "metadata": {},
     "output_type": "display_data"
    },
    {
     "data": {
      "text/plain": [
       "84.93080566562001"
      ]
     },
     "metadata": {},
     "output_type": "display_data"
    },
    {
     "data": {
      "text/plain": [
       "country\n",
       "Англия       421.976671\n",
       "Беларусь      45.761079\n",
       "Казахстан      6.253436\n",
       "Канада         3.810842\n",
       "Россия         8.539467\n",
       "США           32.796595\n",
       "Украина       75.377550\n",
       "Name: population_density, dtype: float64"
      ]
     },
     "metadata": {},
     "output_type": "display_data"
    }
   ],
   "source": [
    "#Задан DataFrame countries_df, содержащий следующие столбцы: название страны, население (population) в миллионах человек и площадь страны (square) в квадратных километрах.\n",
    "#Для каждой страны рассчитайте плотность населения (количество человек на квадратный километр).\n",
    "# Затем по полученным данным рассчитайте среднее по плотностям населения в указанных странах. Ответ округлите до сотых.\n",
    "import pandas as pd\n",
    "countries_df = pd.DataFrame({\n",
    "    'country': ['Англия', 'Канада', 'США', 'Россия', 'Украина', 'Беларусь', 'Казахстан'],\n",
    "    'population': [56.29, 38.05, 322.28, 146.24, 45.5, 9.5, 17.04],\n",
    "    'square': [133396, 9984670, 9826630, 17125191, 603628, 207600, 2724902]\n",
    "})\n",
    "\n",
    "population_density = 10**6 * countries_df['population'] / countries_df['square']\n",
    "display(population_density.mean()) #получили значение переменной со средним по столбцу плотность населения\n",
    "countries_df['population_density'] = 10**6 * countries_df['population'] / countries_df['square']\n",
    "display(countries_df['population_density'].mean()) #вставили отдельный столбец в датафрейм и нашли по нему среднее\n",
    "display(countries_df.groupby('country')['population_density'].sum()) #посмотрели плотность по странам, sum в данном случае ничего не считает, так как каждая страна указана один раз"
   ]
  }
 ],
 "metadata": {
  "kernelspec": {
   "display_name": "Python 3",
   "language": "python",
   "name": "python3"
  },
  "language_info": {
   "codemirror_mode": {
    "name": "ipython",
    "version": 3
   },
   "file_extension": ".py",
   "mimetype": "text/x-python",
   "name": "python",
   "nbconvert_exporter": "python",
   "pygments_lexer": "ipython3",
   "version": "3.11.0"
  },
  "orig_nbformat": 4,
  "vscode": {
   "interpreter": {
    "hash": "e1d16d5a1ec97294322526250a12683f22a7478b9e5179e33780abaace6694ec"
   }
  }
 },
 "nbformat": 4,
 "nbformat_minor": 2
}
