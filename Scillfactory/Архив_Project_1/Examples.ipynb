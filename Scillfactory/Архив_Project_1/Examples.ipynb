{
 "cells": [
  {
   "cell_type": "code",
   "execution_count": 1,
   "metadata": {},
   "outputs": [],
   "source": [
    "import pandas as pd\n",
    "import numpy as np\n",
    "import matplotlib.pyplot as plt\n",
    "import seaborn as sns\n",
    "import plotly.express as px"
   ]
  },
  {
   "attachments": {},
   "cell_type": "markdown",
   "metadata": {},
   "source": [
    "'Пол, возраст'\n",
    "'ЗП'\n",
    "'Ищет работу на должность:'\n",
    "'Город, переезд, командировки'\n",
    "'Занятость'\n",
    "'График'\n",
    "'Опыт работы'\n",
    "'Последнее/нынешнее место работы'\n",
    "'Последняя/нынешняя должность'\n",
    "'Образование и ВУЗ'\n",
    "'Обновление резюме'\n",
    "'Авто'"
   ]
  },
  {
   "cell_type": "code",
   "execution_count": 2,
   "metadata": {},
   "outputs": [],
   "source": [
    "hh_database = pd.read_csv('data/dst-3.0_16_1_hh_database.csv', sep= ';')"
   ]
  },
  {
   "cell_type": "code",
   "execution_count": 3,
   "metadata": {},
   "outputs": [
    {
     "data": {
      "text/plain": [
       "0        Советск (Калининградская область) , не готов к...\n",
       "1        Королев , не готов к переезду , готов к редким...\n",
       "2        Тверь , не готова к переезду , не готова к ком...\n",
       "3        Саратов , не готов к переезду , готов к редким...\n",
       "4        Москва , не готова к переезду , готова к коман...\n",
       "                               ...                        \n",
       "44739    Тверь , готов к переезду (Москва, Химки) , гот...\n",
       "44740    Липецк , готов к переезду , готов к командировкам\n",
       "44741    Челябинск , готова к переезду , готова к редки...\n",
       "44742    Тамбов , не готов к переезду , не готов к кома...\n",
       "44743    Москва , не готов к переезду , не готов к кома...\n",
       "Name: Город, переезд, командировки, Length: 44744, dtype: object"
      ]
     },
     "execution_count": 3,
     "metadata": {},
     "output_type": "execute_result"
    }
   ],
   "source": [
    "hh_database['Город, переезд, командировки']"
   ]
  },
  {
   "cell_type": "code",
   "execution_count": 3,
   "metadata": {},
   "outputs": [
    {
     "data": {
      "text/html": [
       "<div>\n",
       "<style scoped>\n",
       "    .dataframe tbody tr th:only-of-type {\n",
       "        vertical-align: middle;\n",
       "    }\n",
       "\n",
       "    .dataframe tbody tr th {\n",
       "        vertical-align: top;\n",
       "    }\n",
       "\n",
       "    .dataframe thead th {\n",
       "        text-align: right;\n",
       "    }\n",
       "</style>\n",
       "<table border=\"1\" class=\"dataframe\">\n",
       "  <thead>\n",
       "    <tr style=\"text-align: right;\">\n",
       "      <th></th>\n",
       "      <th>Пол, возраст</th>\n",
       "      <th>ЗП</th>\n",
       "      <th>Ищет работу на должность:</th>\n",
       "      <th>Город, переезд, командировки</th>\n",
       "      <th>Занятость</th>\n",
       "      <th>График</th>\n",
       "      <th>Опыт работы</th>\n",
       "      <th>Последнее/нынешнее место работы</th>\n",
       "      <th>Последняя/нынешняя должность</th>\n",
       "      <th>Обновление резюме</th>\n",
       "      <th>Авто</th>\n",
       "      <th>Образование</th>\n",
       "    </tr>\n",
       "  </thead>\n",
       "  <tbody>\n",
       "    <tr>\n",
       "      <th>0</th>\n",
       "      <td>Мужчина ,  39 лет , родился 27 ноября 1979</td>\n",
       "      <td>29000 руб.</td>\n",
       "      <td>Системный администратор</td>\n",
       "      <td>Советск (Калининградская область) , не готов к...</td>\n",
       "      <td>частичная занятость, проектная работа, полная ...</td>\n",
       "      <td>гибкий график, полный день, сменный график, ва...</td>\n",
       "      <td>Опыт работы 16 лет 10 месяцев  Август 2010 — п...</td>\n",
       "      <td>МАОУ \"СОШ № 1 г.Немана\"</td>\n",
       "      <td>Системный администратор</td>\n",
       "      <td>16.04.2019 15:59</td>\n",
       "      <td>Имеется собственный автомобиль</td>\n",
       "      <td>неоконченное высшее</td>\n",
       "    </tr>\n",
       "    <tr>\n",
       "      <th>1</th>\n",
       "      <td>Мужчина ,  60 лет , родился 20 марта 1959</td>\n",
       "      <td>40000 руб.</td>\n",
       "      <td>Технический писатель</td>\n",
       "      <td>Королев , не готов к переезду , готов к редким...</td>\n",
       "      <td>частичная занятость, проектная работа, полная ...</td>\n",
       "      <td>гибкий график, полный день, сменный график, уд...</td>\n",
       "      <td>Опыт работы 19 лет 5 месяцев  Январь 2000 — по...</td>\n",
       "      <td>Временный трудовой коллектив</td>\n",
       "      <td>Менеджер проекта, Аналитик, Технический писатель</td>\n",
       "      <td>12.04.2019 08:42</td>\n",
       "      <td>Не указано</td>\n",
       "      <td>высшее</td>\n",
       "    </tr>\n",
       "    <tr>\n",
       "      <th>2</th>\n",
       "      <td>Женщина ,  36 лет , родилась 12 августа 1982</td>\n",
       "      <td>20000 руб.</td>\n",
       "      <td>Оператор</td>\n",
       "      <td>Тверь , не готова к переезду , не готова к ком...</td>\n",
       "      <td>полная занятость</td>\n",
       "      <td>полный день</td>\n",
       "      <td>Опыт работы 10 лет 3 месяца  Октябрь 2004 — Де...</td>\n",
       "      <td>ПАО Сбербанк</td>\n",
       "      <td>Кассир-операционист</td>\n",
       "      <td>16.04.2019 08:35</td>\n",
       "      <td>Не указано</td>\n",
       "      <td>среднее специальное</td>\n",
       "    </tr>\n",
       "    <tr>\n",
       "      <th>3</th>\n",
       "      <td>Мужчина ,  38 лет , родился 25 июня 1980</td>\n",
       "      <td>100000 руб.</td>\n",
       "      <td>Веб-разработчик (HTML / CSS / JS / PHP / базы ...</td>\n",
       "      <td>Саратов , не готов к переезду , готов к редким...</td>\n",
       "      <td>частичная занятость, проектная работа, полная ...</td>\n",
       "      <td>гибкий график, удаленная работа</td>\n",
       "      <td>Опыт работы 18 лет 9 месяцев  Август 2017 — Ап...</td>\n",
       "      <td>OpenSoft</td>\n",
       "      <td>Инженер-программист</td>\n",
       "      <td>08.04.2019 14:23</td>\n",
       "      <td>Не указано</td>\n",
       "      <td>высшее</td>\n",
       "    </tr>\n",
       "    <tr>\n",
       "      <th>4</th>\n",
       "      <td>Женщина ,  26 лет , родилась 3 марта 1993</td>\n",
       "      <td>140000 руб.</td>\n",
       "      <td>Региональный менеджер по продажам</td>\n",
       "      <td>Москва , не готова к переезду , готова к коман...</td>\n",
       "      <td>полная занятость</td>\n",
       "      <td>полный день</td>\n",
       "      <td>Опыт работы 5 лет 7 месяцев  Региональный мене...</td>\n",
       "      <td>Мармелад</td>\n",
       "      <td>Менеджер по продажам</td>\n",
       "      <td>22.04.2019 10:32</td>\n",
       "      <td>Не указано</td>\n",
       "      <td>высшее</td>\n",
       "    </tr>\n",
       "  </tbody>\n",
       "</table>\n",
       "</div>"
      ],
      "text/plain": [
       "                                   Пол, возраст           ЗП  \\\n",
       "0    Мужчина ,  39 лет , родился 27 ноября 1979   29000 руб.   \n",
       "1     Мужчина ,  60 лет , родился 20 марта 1959   40000 руб.   \n",
       "2  Женщина ,  36 лет , родилась 12 августа 1982   20000 руб.   \n",
       "3      Мужчина ,  38 лет , родился 25 июня 1980  100000 руб.   \n",
       "4     Женщина ,  26 лет , родилась 3 марта 1993  140000 руб.   \n",
       "\n",
       "                           Ищет работу на должность:  \\\n",
       "0                            Системный администратор   \n",
       "1                               Технический писатель   \n",
       "2                                           Оператор   \n",
       "3  Веб-разработчик (HTML / CSS / JS / PHP / базы ...   \n",
       "4                  Региональный менеджер по продажам   \n",
       "\n",
       "                        Город, переезд, командировки  \\\n",
       "0  Советск (Калининградская область) , не готов к...   \n",
       "1  Королев , не готов к переезду , готов к редким...   \n",
       "2  Тверь , не готова к переезду , не готова к ком...   \n",
       "3  Саратов , не готов к переезду , готов к редким...   \n",
       "4  Москва , не готова к переезду , готова к коман...   \n",
       "\n",
       "                                           Занятость  \\\n",
       "0  частичная занятость, проектная работа, полная ...   \n",
       "1  частичная занятость, проектная работа, полная ...   \n",
       "2                                   полная занятость   \n",
       "3  частичная занятость, проектная работа, полная ...   \n",
       "4                                   полная занятость   \n",
       "\n",
       "                                              График  \\\n",
       "0  гибкий график, полный день, сменный график, ва...   \n",
       "1  гибкий график, полный день, сменный график, уд...   \n",
       "2                                        полный день   \n",
       "3                    гибкий график, удаленная работа   \n",
       "4                                        полный день   \n",
       "\n",
       "                                         Опыт работы  \\\n",
       "0  Опыт работы 16 лет 10 месяцев  Август 2010 — п...   \n",
       "1  Опыт работы 19 лет 5 месяцев  Январь 2000 — по...   \n",
       "2  Опыт работы 10 лет 3 месяца  Октябрь 2004 — Де...   \n",
       "3  Опыт работы 18 лет 9 месяцев  Август 2017 — Ап...   \n",
       "4  Опыт работы 5 лет 7 месяцев  Региональный мене...   \n",
       "\n",
       "  Последнее/нынешнее место работы  \\\n",
       "0         МАОУ \"СОШ № 1 г.Немана\"   \n",
       "1    Временный трудовой коллектив   \n",
       "2                    ПАО Сбербанк   \n",
       "3                        OpenSoft   \n",
       "4                        Мармелад   \n",
       "\n",
       "                       Последняя/нынешняя должность Обновление резюме  \\\n",
       "0                           Системный администратор  16.04.2019 15:59   \n",
       "1  Менеджер проекта, Аналитик, Технический писатель  12.04.2019 08:42   \n",
       "2                               Кассир-операционист  16.04.2019 08:35   \n",
       "3                               Инженер-программист  08.04.2019 14:23   \n",
       "4                              Менеджер по продажам  22.04.2019 10:32   \n",
       "\n",
       "                             Авто          Образование  \n",
       "0  Имеется собственный автомобиль  неоконченное высшее  \n",
       "1                      Не указано               высшее  \n",
       "2                      Не указано  среднее специальное  \n",
       "3                      Не указано               высшее  \n",
       "4                      Не указано               высшее  "
      ]
     },
     "execution_count": 3,
     "metadata": {},
     "output_type": "execute_result"
    }
   ],
   "source": [
    "# На вход данной функции поступает строка с адресом.\n",
    "def get_education_type(education):\n",
    "# Создаём список географических пометок exclude_list.\n",
    "    exclude_list = ['высшее', 'неоконченное высшее', 'среднее специальное', 'среднее']\n",
    "# Метод split() разбивает строку на слова по пробелу.\n",
    "# В результате получаем список слов в строке и заносим его в переменную address_list.\n",
    "    education_list = education.split(' ')\n",
    "    #for elem in education:\n",
    "    \n",
    "    #new_keywords = [m for m in keywords if len(m) >= 5]\n",
    "        \n",
    "# Обрезаем список, оставляя в нём только последний элемент,\n",
    "# потенциальный подтип улицы, и заносим в переменную street_type.\n",
    "    education_type = education_list[0:2]\n",
    "    for n in education_type:\n",
    "        if n=='образование':\n",
    "            education_type.remove('образование')\n",
    "    education_list=' '.join(education_type).lower()\n",
    "    return education_list\n",
    "\n",
    "hh_database['Образование'] = hh_database['Образование и ВУЗ'].apply(get_education_type)\n",
    "#hh_database['Образование'].value_counts()\n",
    "hh_database = hh_database.drop(['Образование и ВУЗ'], axis=1)\n",
    "hh_database.head()"
   ]
  },
  {
   "cell_type": "code",
   "execution_count": 62,
   "metadata": {},
   "outputs": [
    {
     "data": {
      "text/plain": [
       "0        0\n",
       "1        0\n",
       "2        0\n",
       "3        0\n",
       "4        0\n",
       "        ..\n",
       "44739    0\n",
       "44740    0\n",
       "44741    0\n",
       "44742    0\n",
       "44743    0\n",
       "Name: Опыт, Length: 44744, dtype: int64"
      ]
     },
     "execution_count": 62,
     "metadata": {},
     "output_type": "execute_result"
    }
   ],
   "source": [
    "def get_experience(arg):\n",
    "    month_key_words = ['месяц', 'месяцев', 'месяца']\n",
    "    year_key_words = ['год', 'лет', 'года']\n",
    "    args_splited = arg.split(' ')\n",
    "    month = 0\n",
    "    year = 0\n",
    "    for i in range(len(args_splited)):\n",
    "        if args_splited[i] in month_key_words:\n",
    "            month = args_splited[i-1]\n",
    "        if args_splited[i] in year_key_words:\n",
    "            year = args_splited[i-1]\n",
    "    return int(year)*12 + int(month)\n",
    "\n",
    "def get_exp(exp):\n",
    "    try:\n",
    "        exp= exp[0:(exp.find('месяц'))]\n",
    "        return get_experience(exp)\n",
    "    except AttributeError:\n",
    "        return exp\n",
    "\n",
    "hh_database['Опыт'] = hh_database['Опыт работы'].apply(get_exp)\n",
    "     \n",
    "hh_database['Опыт']"
   ]
  },
  {
   "attachments": {},
   "cell_type": "markdown",
   "metadata": {},
   "source": [
    "def get_exp(exp):\n",
    "    if exp.startswith('Опыт работы'):\n",
    "        exp.split('месяц')\n",
    "\n",
    "hh_database['Опыт работы']\n",
    "list_ex=[]\n",
    "hh_database.shape[0]\n",
    "\n",
    "for i in range (hh_database.shape[0]):\n",
    "    try:\n",
    "        list_ex.append(hh_database['Опыт работы'][i][0:(hh_database['Опыт работы'][i].find('месяц')+5)])\n",
    "    except AttributeError:\n",
    "        list_ex.append(hh_database['Опыт работы'][i])\n",
    "\n",
    "list_ex      \n"
   ]
  },
  {
   "cell_type": "code",
   "execution_count": 52,
   "metadata": {},
   "outputs": [
    {
     "data": {
      "text/plain": [
       "0        год\n",
       "1        год\n",
       "2        год\n",
       "3        год\n",
       "4        год\n",
       "        ... \n",
       "44739    год\n",
       "44740    год\n",
       "44741    год\n",
       "44742    год\n",
       "44743    год\n",
       "Name: Опыт работы, Length: 44744, dtype: object"
      ]
     },
     "execution_count": 52,
     "metadata": {},
     "output_type": "execute_result"
    }
   ],
   "source": [
    "r= hh_database['Опыт работы'][0].find('месяц')\n",
    "hh_database['Опыт работы'][0][0:r]\n",
    "r\n",
    "hh_database['Опыт работы'] = hh_database['Опыт работы'].apply(lambda x: 'год' if (x == 'года' or x == 'лет') else x)\n",
    "hh_database['Опыт работы']"
   ]
  },
  {
   "cell_type": "code",
   "execution_count": 74,
   "metadata": {},
   "outputs": [
    {
     "ename": "TypeError",
     "evalue": "expected string or bytes-like object, got 'int'",
     "output_type": "error",
     "traceback": [
      "\u001b[1;31m---------------------------------------------------------------------------\u001b[0m",
      "\u001b[1;31mTypeError\u001b[0m                                 Traceback (most recent call last)",
      "Cell \u001b[1;32mIn [74], line 32\u001b[0m\n\u001b[0;32m     30\u001b[0m     \u001b[39mexcept\u001b[39;00m \u001b[39mAttributeError\u001b[39;00m:\n\u001b[0;32m     31\u001b[0m         f[i]\n\u001b[1;32m---> 32\u001b[0m re\u001b[39m.\u001b[39;49msplit(\u001b[39mr\u001b[39;49m\u001b[39m'\u001b[39;49m\u001b[39mw\u001b[39;49m\u001b[39m\\\u001b[39;49m\u001b[39ms\u001b[39;49m\u001b[39m\\\u001b[39;49m\u001b[39md+\u001b[39;49m\u001b[39m\\\u001b[39;49m\u001b[39ms\u001b[39;49m\u001b[39m\\\u001b[39;49m\u001b[39mw\u001b[39;49m\u001b[39m\\\u001b[39;49m\u001b[39md+\u001b[39;49m\u001b[39m\\\u001b[39;49m\u001b[39ms\u001b[39;49m\u001b[39m\\\u001b[39;49m\u001b[39mw\u001b[39;49m\u001b[39m'\u001b[39;49m, f[\u001b[39m0\u001b[39;49m])\n\u001b[0;32m     34\u001b[0m f\n",
      "File \u001b[1;32mc:\\Users\\Людмила\\AppData\\Local\\Programs\\Python\\Python311\\Lib\\re\\__init__.py:206\u001b[0m, in \u001b[0;36msplit\u001b[1;34m(pattern, string, maxsplit, flags)\u001b[0m\n\u001b[0;32m    198\u001b[0m \u001b[39mdef\u001b[39;00m \u001b[39msplit\u001b[39m(pattern, string, maxsplit\u001b[39m=\u001b[39m\u001b[39m0\u001b[39m, flags\u001b[39m=\u001b[39m\u001b[39m0\u001b[39m):\n\u001b[0;32m    199\u001b[0m     \u001b[39m\"\"\"Split the source string by the occurrences of the pattern,\u001b[39;00m\n\u001b[0;32m    200\u001b[0m \u001b[39m    returning a list containing the resulting substrings.  If\u001b[39;00m\n\u001b[0;32m    201\u001b[0m \u001b[39m    capturing parentheses are used in pattern, then the text of all\u001b[39;00m\n\u001b[1;32m   (...)\u001b[0m\n\u001b[0;32m    204\u001b[0m \u001b[39m    and the remainder of the string is returned as the final element\u001b[39;00m\n\u001b[0;32m    205\u001b[0m \u001b[39m    of the list.\"\"\"\u001b[39;00m\n\u001b[1;32m--> 206\u001b[0m     \u001b[39mreturn\u001b[39;00m _compile(pattern, flags)\u001b[39m.\u001b[39msplit(string, maxsplit)\n",
      "\u001b[1;31mTypeError\u001b[0m: expected string or bytes-like object, got 'int'"
     ]
    }
   ],
   "source": [
    "import re \n",
    "def get_experience(arg):\n",
    "    try:\n",
    "        args_splited = arg.split(' ')\n",
    "        month = 0\n",
    "        year = 0\n",
    "        for i in range(len(args_splited)):\n",
    "            if args_splited[i] == 'месяц':\n",
    "                month = args_splited[i-1]\n",
    "            if args_splited[i] in 'год':\n",
    "                year = args_splited[i-1]\n",
    "        return int(year)*12 + int(month)\n",
    "    except AttributeError:\n",
    "        arg\n",
    "\n",
    "f = ['Опыт работы 3 год 6 месяцев sdfsdf sdfsdf sdfiwerk 432 месяцев',\n",
    "     'Опыт работы 4 год ит администраторс с 2008 года',\n",
    "     'Опыт работы 5 год 1 месяц жил не тужил и никого не трогал',\n",
    "     'Опыт работы 7 год 2 месяца когда же все это законичится',\n",
    "     'Опыт работы 1 месяц спасибо, что спросили',\n",
    "     'не указан',\n",
    "     0,\n",
    "     'Опыт работы 12 месяцев и ни минутой больше а до того 6 лет ВУЗ',\n",
    "     'Опыт работы 4 месяца и в декрет с 2022 года']\n",
    "for i in range (len(f)):\n",
    "    try:\n",
    "        if f[i].find('месяц')>-1:\n",
    "             f[i] = f[i][0:(f[i].find('месяц')+5)]\n",
    "             f[i] =get_experience(f[i])\n",
    "    except AttributeError:\n",
    "        f[i]\n",
    "re.split(r'w\\s\\d+\\s\\w\\d+\\s\\w', f[0])\n",
    "\n",
    "f"
   ]
  },
  {
   "cell_type": "code",
   "execution_count": 83,
   "metadata": {},
   "outputs": [
    {
     "ename": "TypeError",
     "evalue": "'str' object cannot be interpreted as an integer",
     "output_type": "error",
     "traceback": [
      "\u001b[1;31m---------------------------------------------------------------------------\u001b[0m",
      "\u001b[1;31mTypeError\u001b[0m                                 Traceback (most recent call last)",
      "Cell \u001b[1;32mIn [83], line 11\u001b[0m\n\u001b[0;32m      1\u001b[0m \u001b[39mimport\u001b[39;00m \u001b[39mre\u001b[39;00m \n\u001b[0;32m      2\u001b[0m f \u001b[39m=\u001b[39m [\u001b[39m'\u001b[39m\u001b[39mОпыт работы 3 год 6 месяцев sdfsdf sdfsdf sdfiwerk 432 месяцев\u001b[39m\u001b[39m'\u001b[39m,\n\u001b[0;32m      3\u001b[0m      \u001b[39m'\u001b[39m\u001b[39mОпыт работы 4 год ит администраторс с 2008 года\u001b[39m\u001b[39m'\u001b[39m,\n\u001b[0;32m      4\u001b[0m      \u001b[39m'\u001b[39m\u001b[39mОпыт работы 5 год 1 месяц жил не тужил и никого не трогал\u001b[39m\u001b[39m'\u001b[39m,\n\u001b[1;32m   (...)\u001b[0m\n\u001b[0;32m      9\u001b[0m      \u001b[39m'\u001b[39m\u001b[39mОпыт работы 12 месяцев и ни минутой больше а до того 6 лет ВУЗ\u001b[39m\u001b[39m'\u001b[39m,\n\u001b[0;32m     10\u001b[0m      \u001b[39m'\u001b[39m\u001b[39mОпыт работы 4 месяца и в декрет с 2022 года\u001b[39m\u001b[39m'\u001b[39m]\n\u001b[1;32m---> 11\u001b[0m t\u001b[39m=\u001b[39mre\u001b[39m.\u001b[39;49msplit(\u001b[39mr\u001b[39;49m\u001b[39m'\u001b[39;49m\u001b[39mОпыт работы\u001b[39;49m\u001b[39m'\u001b[39;49m, \u001b[39m'\u001b[39;49m\u001b[39m\\\u001b[39;49m\u001b[39ms\u001b[39;49m\u001b[39m\\\u001b[39;49m\u001b[39md+\u001b[39;49m\u001b[39m\\\u001b[39;49m\u001b[39ms\u001b[39;49m\u001b[39m\\\u001b[39;49m\u001b[39mw\u001b[39;49m\u001b[39m\\\u001b[39;49m\u001b[39md+\u001b[39;49m\u001b[39m\\\u001b[39;49m\u001b[39ms\u001b[39;49m\u001b[39m\\\u001b[39;49m\u001b[39mw\u001b[39;49m\u001b[39m'\u001b[39;49m, f[\u001b[39m0\u001b[39;49m])\n\u001b[0;32m     12\u001b[0m t\n",
      "File \u001b[1;32mc:\\Users\\Людмила\\AppData\\Local\\Programs\\Python\\Python311\\Lib\\re\\__init__.py:206\u001b[0m, in \u001b[0;36msplit\u001b[1;34m(pattern, string, maxsplit, flags)\u001b[0m\n\u001b[0;32m    198\u001b[0m \u001b[39mdef\u001b[39;00m \u001b[39msplit\u001b[39m(pattern, string, maxsplit\u001b[39m=\u001b[39m\u001b[39m0\u001b[39m, flags\u001b[39m=\u001b[39m\u001b[39m0\u001b[39m):\n\u001b[0;32m    199\u001b[0m     \u001b[39m\"\"\"Split the source string by the occurrences of the pattern,\u001b[39;00m\n\u001b[0;32m    200\u001b[0m \u001b[39m    returning a list containing the resulting substrings.  If\u001b[39;00m\n\u001b[0;32m    201\u001b[0m \u001b[39m    capturing parentheses are used in pattern, then the text of all\u001b[39;00m\n\u001b[1;32m   (...)\u001b[0m\n\u001b[0;32m    204\u001b[0m \u001b[39m    and the remainder of the string is returned as the final element\u001b[39;00m\n\u001b[0;32m    205\u001b[0m \u001b[39m    of the list.\"\"\"\u001b[39;00m\n\u001b[1;32m--> 206\u001b[0m     \u001b[39mreturn\u001b[39;00m _compile(pattern, flags)\u001b[39m.\u001b[39msplit(string, maxsplit)\n",
      "\u001b[1;31mTypeError\u001b[0m: 'str' object cannot be interpreted as an integer"
     ]
    }
   ],
   "source": [
    "import re \n",
    "f = ['Опыт работы 3 год 6 месяцев sdfsdf sdfsdf sdfiwerk 432 месяцев',\n",
    "     'Опыт работы 4 год ит администраторс с 2008 года',\n",
    "     'Опыт работы 5 год 1 месяц жил не тужил и никого не трогал',\n",
    "     'Опыт работы 7 год 2 месяца когда же все это законичится',\n",
    "     'Опыт работы 1 месяц спасибо, что спросили',\n",
    "     'не указан',\n",
    "     0,\n",
    "     'Опыт работы 12 месяцев и ни минутой больше а до того 6 лет ВУЗ',\n",
    "     'Опыт работы 4 месяца и в декрет с 2022 года']\n",
    "t=re.split(r'Опыт работы', '\\s\\d+\\s\\w\\d+\\s\\w', f[0])\n",
    "t"
   ]
  },
  {
   "cell_type": "code",
   "execution_count": 55,
   "metadata": {},
   "outputs": [
    {
     "data": {
      "text/plain": [
       "0    год\n",
       "1    год\n",
       "2    год\n",
       "3    год\n",
       "4    год\n",
       "Name: Опыт работы, dtype: object"
      ]
     },
     "execution_count": 55,
     "metadata": {},
     "output_type": "execute_result"
    }
   ],
   "source": [
    "ex = hh_database['Опыт работы'][0:5]\n",
    "ex\n"
   ]
  }
 ],
 "metadata": {
  "kernelspec": {
   "display_name": "Python 3",
   "language": "python",
   "name": "python3"
  },
  "language_info": {
   "codemirror_mode": {
    "name": "ipython",
    "version": 3
   },
   "file_extension": ".py",
   "mimetype": "text/x-python",
   "name": "python",
   "nbconvert_exporter": "python",
   "pygments_lexer": "ipython3",
   "version": "3.11.0 (main, Oct 24 2022, 18:26:48) [MSC v.1933 64 bit (AMD64)]"
  },
  "orig_nbformat": 4,
  "vscode": {
   "interpreter": {
    "hash": "e1d16d5a1ec97294322526250a12683f22a7478b9e5179e33780abaace6694ec"
   }
  }
 },
 "nbformat": 4,
 "nbformat_minor": 2
}
