{
 "cells": [
  {
   "cell_type": "code",
   "execution_count": 32,
   "metadata": {},
   "outputs": [],
   "source": [
    "import pandas as pd\n",
    "import numpy as np\n",
    "import matplotlib.pyplot as plt\n",
    "import seaborn as sns\n",
    "import plotly.express as px\n",
    "import plotly\n",
    "import plotly.graph_objs as go\n",
    "import plotly.express as px\n",
    "from plotly.subplots import make_subplots\n",
    "\n",
    "import numpy as np\n",
    "import pandas as pd\n",
    "hh_database = pd.read_csv('data/dst-3.0_16_1_hh_database.csv', sep= ';')"
   ]
  },
  {
   "cell_type": "code",
   "execution_count": 33,
   "metadata": {},
   "outputs": [
    {
     "data": {
      "text/html": [
       "<div>\n",
       "<style scoped>\n",
       "    .dataframe tbody tr th:only-of-type {\n",
       "        vertical-align: middle;\n",
       "    }\n",
       "\n",
       "    .dataframe tbody tr th {\n",
       "        vertical-align: top;\n",
       "    }\n",
       "\n",
       "    .dataframe thead th {\n",
       "        text-align: right;\n",
       "    }\n",
       "</style>\n",
       "<table border=\"1\" class=\"dataframe\">\n",
       "  <thead>\n",
       "    <tr style=\"text-align: right;\">\n",
       "      <th></th>\n",
       "      <th>Пол, возраст</th>\n",
       "      <th>ЗП</th>\n",
       "      <th>Ищет работу на должность:</th>\n",
       "      <th>Город, переезд, командировки</th>\n",
       "      <th>Занятость</th>\n",
       "      <th>График</th>\n",
       "      <th>Опыт работы</th>\n",
       "      <th>Последнее/нынешнее место работы</th>\n",
       "      <th>Последняя/нынешняя должность</th>\n",
       "      <th>Образование и ВУЗ</th>\n",
       "      <th>Обновление резюме</th>\n",
       "      <th>Авто</th>\n",
       "    </tr>\n",
       "  </thead>\n",
       "  <tbody>\n",
       "    <tr>\n",
       "      <th>44739</th>\n",
       "      <td>Мужчина ,  30 лет , родился 17 января 1989</td>\n",
       "      <td>50000 руб.</td>\n",
       "      <td>Финансист, аналитик, экономист, бухгалтер, мен...</td>\n",
       "      <td>Тверь , готов к переезду (Москва, Химки) , гот...</td>\n",
       "      <td>полная занятость</td>\n",
       "      <td>полный день, удаленная работа</td>\n",
       "      <td>Опыт работы 7 лет 7 месяцев  Финансист, аналит...</td>\n",
       "      <td>ООО \"IAS\" (независимый участник объединения Ru...</td>\n",
       "      <td>Руководитель субгруппы</td>\n",
       "      <td>Высшее образование 2015  Московский гуманитарн...</td>\n",
       "      <td>22.04.2019 12:32</td>\n",
       "      <td>Не указано</td>\n",
       "    </tr>\n",
       "    <tr>\n",
       "      <th>44740</th>\n",
       "      <td>Мужчина ,  27 лет , родился 5 марта 1992</td>\n",
       "      <td>39000 руб.</td>\n",
       "      <td>Системный администратор, IT-специалист</td>\n",
       "      <td>Липецк , готов к переезду , готов к командировкам</td>\n",
       "      <td>проектная работа, частичная занятость, полная ...</td>\n",
       "      <td>удаленная работа, гибкий график, полный день, ...</td>\n",
       "      <td>Опыт работы 7 лет  Системный администратор, IT...</td>\n",
       "      <td>ИП Пестрецов</td>\n",
       "      <td>Предприниматель</td>\n",
       "      <td>Высшее образование (Бакалавр) 2016  Воронежски...</td>\n",
       "      <td>22.04.2019 13:11</td>\n",
       "      <td>Не указано</td>\n",
       "    </tr>\n",
       "    <tr>\n",
       "      <th>44741</th>\n",
       "      <td>Женщина ,  48 лет , родилась 26 декабря 1970</td>\n",
       "      <td>40000 руб.</td>\n",
       "      <td>Аналитик данных, Математик</td>\n",
       "      <td>Челябинск , готова к переезду , готова к редки...</td>\n",
       "      <td>полная занятость</td>\n",
       "      <td>полный день, удаленная работа</td>\n",
       "      <td>Опыт работы 21 год 5 месяцев  Январь 1998 — по...</td>\n",
       "      <td>ОАО «ЧМК», Исследовательско-Технологический Це...</td>\n",
       "      <td>Начальник группы аналитики</td>\n",
       "      <td>Высшее образование 2000  Южно-Уральский госуда...</td>\n",
       "      <td>09.04.2019 05:07</td>\n",
       "      <td>Не указано</td>\n",
       "    </tr>\n",
       "    <tr>\n",
       "      <th>44742</th>\n",
       "      <td>Мужчина ,  24 года , родился 6 октября 1994</td>\n",
       "      <td>20000 руб.</td>\n",
       "      <td>Контент-менеджер</td>\n",
       "      <td>Тамбов , не готов к переезду , не готов к кома...</td>\n",
       "      <td>частичная занятость, полная занятость</td>\n",
       "      <td>удаленная работа</td>\n",
       "      <td>Опыт работы 3 года 10 месяцев  Контент-менедже...</td>\n",
       "      <td>IQ-Maxima</td>\n",
       "      <td>Менеджер проектов</td>\n",
       "      <td>Высшее образование 2015  Тамбовский государств...</td>\n",
       "      <td>26.04.2019 14:25</td>\n",
       "      <td>Имеется собственный автомобиль</td>\n",
       "    </tr>\n",
       "    <tr>\n",
       "      <th>44743</th>\n",
       "      <td>Мужчина ,  38 лет , родился 25 апреля 1980</td>\n",
       "      <td>120000 руб.</td>\n",
       "      <td>Руководитель проекта</td>\n",
       "      <td>Москва , не готов к переезду , не готов к кома...</td>\n",
       "      <td>полная занятость</td>\n",
       "      <td>полный день</td>\n",
       "      <td>Опыт работы 15 лет 10 месяцев  Руководитель пр...</td>\n",
       "      <td>ПАО ГК ТНС энерго</td>\n",
       "      <td>Руководитель отдела технической поддержки</td>\n",
       "      <td>Высшее образование 1997  Южно-Российский госуд...</td>\n",
       "      <td>05.07.2018 20:15</td>\n",
       "      <td>Не указано</td>\n",
       "    </tr>\n",
       "  </tbody>\n",
       "</table>\n",
       "</div>"
      ],
      "text/plain": [
       "                                       Пол, возраст           ЗП  \\\n",
       "44739    Мужчина ,  30 лет , родился 17 января 1989   50000 руб.   \n",
       "44740      Мужчина ,  27 лет , родился 5 марта 1992   39000 руб.   \n",
       "44741  Женщина ,  48 лет , родилась 26 декабря 1970   40000 руб.   \n",
       "44742   Мужчина ,  24 года , родился 6 октября 1994   20000 руб.   \n",
       "44743    Мужчина ,  38 лет , родился 25 апреля 1980  120000 руб.   \n",
       "\n",
       "                               Ищет работу на должность:  \\\n",
       "44739  Финансист, аналитик, экономист, бухгалтер, мен...   \n",
       "44740             Системный администратор, IT-специалист   \n",
       "44741                         Аналитик данных, Математик   \n",
       "44742                                   Контент-менеджер   \n",
       "44743                               Руководитель проекта   \n",
       "\n",
       "                            Город, переезд, командировки  \\\n",
       "44739  Тверь , готов к переезду (Москва, Химки) , гот...   \n",
       "44740  Липецк , готов к переезду , готов к командировкам   \n",
       "44741  Челябинск , готова к переезду , готова к редки...   \n",
       "44742  Тамбов , не готов к переезду , не готов к кома...   \n",
       "44743  Москва , не готов к переезду , не готов к кома...   \n",
       "\n",
       "                                               Занятость  \\\n",
       "44739                                   полная занятость   \n",
       "44740  проектная работа, частичная занятость, полная ...   \n",
       "44741                                   полная занятость   \n",
       "44742              частичная занятость, полная занятость   \n",
       "44743                                   полная занятость   \n",
       "\n",
       "                                                  График  \\\n",
       "44739                      полный день, удаленная работа   \n",
       "44740  удаленная работа, гибкий график, полный день, ...   \n",
       "44741                      полный день, удаленная работа   \n",
       "44742                                   удаленная работа   \n",
       "44743                                        полный день   \n",
       "\n",
       "                                             Опыт работы  \\\n",
       "44739  Опыт работы 7 лет 7 месяцев  Финансист, аналит...   \n",
       "44740  Опыт работы 7 лет  Системный администратор, IT...   \n",
       "44741  Опыт работы 21 год 5 месяцев  Январь 1998 — по...   \n",
       "44742  Опыт работы 3 года 10 месяцев  Контент-менедже...   \n",
       "44743  Опыт работы 15 лет 10 месяцев  Руководитель пр...   \n",
       "\n",
       "                         Последнее/нынешнее место работы  \\\n",
       "44739  ООО \"IAS\" (независимый участник объединения Ru...   \n",
       "44740                                       ИП Пестрецов   \n",
       "44741  ОАО «ЧМК», Исследовательско-Технологический Це...   \n",
       "44742                                          IQ-Maxima   \n",
       "44743                                  ПАО ГК ТНС энерго   \n",
       "\n",
       "                    Последняя/нынешняя должность  \\\n",
       "44739                     Руководитель субгруппы   \n",
       "44740                            Предприниматель   \n",
       "44741                 Начальник группы аналитики   \n",
       "44742                          Менеджер проектов   \n",
       "44743  Руководитель отдела технической поддержки   \n",
       "\n",
       "                                       Образование и ВУЗ Обновление резюме  \\\n",
       "44739  Высшее образование 2015  Московский гуманитарн...  22.04.2019 12:32   \n",
       "44740  Высшее образование (Бакалавр) 2016  Воронежски...  22.04.2019 13:11   \n",
       "44741  Высшее образование 2000  Южно-Уральский госуда...  09.04.2019 05:07   \n",
       "44742  Высшее образование 2015  Тамбовский государств...  26.04.2019 14:25   \n",
       "44743  Высшее образование 1997  Южно-Российский госуд...  05.07.2018 20:15   \n",
       "\n",
       "                                 Авто  \n",
       "44739                      Не указано  \n",
       "44740                      Не указано  \n",
       "44741                      Не указано  \n",
       "44742  Имеется собственный автомобиль  \n",
       "44743                      Не указано  "
      ]
     },
     "execution_count": 33,
     "metadata": {},
     "output_type": "execute_result"
    }
   ],
   "source": [
    "#ваш код здесь\n",
    "#display(hh_database.head(5))\n",
    "hh_database.tail(5)"
   ]
  },
  {
   "cell_type": "code",
   "execution_count": 34,
   "metadata": {},
   "outputs": [
    {
     "name": "stdout",
     "output_type": "stream",
     "text": [
      "<class 'pandas.core.frame.DataFrame'>\n",
      "RangeIndex: 44744 entries, 0 to 44743\n",
      "Data columns (total 12 columns):\n",
      " #   Column                           Non-Null Count  Dtype \n",
      "---  ------                           --------------  ----- \n",
      " 0   Пол, возраст                     44744 non-null  object\n",
      " 1   ЗП                               44744 non-null  object\n",
      " 2   Ищет работу на должность:        44744 non-null  object\n",
      " 3   Город, переезд, командировки     44744 non-null  object\n",
      " 4   Занятость                        44744 non-null  object\n",
      " 5   График                           44744 non-null  object\n",
      " 6   Опыт работы                      44576 non-null  object\n",
      " 7   Последнее/нынешнее место работы  44743 non-null  object\n",
      " 8   Последняя/нынешняя должность     44742 non-null  object\n",
      " 9   Образование и ВУЗ                44744 non-null  object\n",
      " 10  Обновление резюме                44744 non-null  object\n",
      " 11  Авто                             44744 non-null  object\n",
      "dtypes: object(12)\n",
      "memory usage: 4.1+ MB\n"
     ]
    }
   ],
   "source": [
    "hh_database.info()"
   ]
  },
  {
   "cell_type": "code",
   "execution_count": 35,
   "metadata": {},
   "outputs": [
    {
     "data": {
      "text/plain": [
       "(44744, 12)"
      ]
     },
     "execution_count": 35,
     "metadata": {},
     "output_type": "execute_result"
    }
   ],
   "source": [
    "hh_database.shape"
   ]
  },
  {
   "attachments": {},
   "cell_type": "markdown",
   "metadata": {},
   "source": [
    "def get_schedule_type(schedule):\n",
    "# Метод split() разбивает строку на слова по пробелу.\n",
    "# В результате получаем список слов в строке и заносим его в переменную education_list.\n",
    "    e = schedule.split(',')\n",
    "    m=set()\n",
    "    for i in e:\n",
    "        m.add(i)\n",
    "    #print(m)\n",
    "\n",
    "    return m\n",
    "\n",
    "evens = set()\n",
    "h = hh_database['График'].apply(get_schedule_type)\n",
    "h\n",
    "\n",
    "for \n",
    "\n",
    "#evens.update(hh_database['График'].apply(get_schedule_type))\n"
   ]
  },
  {
   "cell_type": "code",
   "execution_count": 36,
   "metadata": {},
   "outputs": [
    {
     "data": {
      "text/plain": [
       "0        гибкий график, полный день, сменный график, ва...\n",
       "1        гибкий график, полный день, сменный график, уд...\n",
       "2                                              полный день\n",
       "3                          гибкий график, удаленная работа\n",
       "4                                              полный день\n",
       "                               ...                        \n",
       "44739                        полный день, удаленная работа\n",
       "44740    удаленная работа, гибкий график, полный день, ...\n",
       "44741                        полный день, удаленная работа\n",
       "44742                                     удаленная работа\n",
       "44743                                          полный день\n",
       "Name: График, Length: 44744, dtype: object"
      ]
     },
     "execution_count": 36,
     "metadata": {},
     "output_type": "execute_result"
    }
   ],
   "source": [
    "hh_database['График']"
   ]
  },
  {
   "cell_type": "code",
   "execution_count": 37,
   "metadata": {},
   "outputs": [
    {
     "name": "stdout",
     "output_type": "stream",
     "text": [
      "['стажировка', 'волонтерство', 'полная занятость', 'проектная работа', 'частичная занятость']\n",
      "['вахтовый метод', 'полный день', 'удаленная работа', 'гибкий график', 'сменный график']\n"
     ]
    }
   ],
   "source": [
    "m=set()\n",
    "list_shed_occ = ['Занятость', 'График']\n",
    "\n",
    "for c in list_shed_occ:\n",
    "        for i in hh_database[c].apply(lambda x: x.split(',')):\n",
    "                for j in i:\n",
    "                        m.add(j.strip())\n",
    "        for col in list(m):\n",
    "                hh_database[col] =  hh_database[c].apply(lambda x: True if col in x else False)\n",
    "        print(list(m))   \n",
    "        m.clear() "
   ]
  },
  {
   "cell_type": "code",
   "execution_count": 38,
   "metadata": {},
   "outputs": [
    {
     "data": {
      "text/plain": [
       "436"
      ]
     },
     "execution_count": 38,
     "metadata": {},
     "output_type": "execute_result"
    }
   ],
   "source": [
    "mask = (hh_database['проектная работа'] == True) & (hh_database['волонтерство'] == True)\n",
    "hh_database[mask]['проектная работа'].count()"
   ]
  },
  {
   "cell_type": "code",
   "execution_count": 39,
   "metadata": {},
   "outputs": [
    {
     "data": {
      "text/plain": [
       "2311"
      ]
     },
     "execution_count": 39,
     "metadata": {},
     "output_type": "execute_result"
    }
   ],
   "source": [
    "mask = (hh_database['вахтовый метод'] == True) & (hh_database['гибкий график'] == True)\n",
    "hh_database[mask]['гибкий график'].count()"
   ]
  },
  {
   "attachments": {},
   "cell_type": "markdown",
   "metadata": {},
   "source": [
    "ЗАРАБОТНАЯ ПЛАТА"
   ]
  },
  {
   "cell_type": "code",
   "execution_count": 40,
   "metadata": {},
   "outputs": [],
   "source": [
    "currency_info = pd.read_csv('data/ExchangeRates.csv', sep= ',')\n",
    "\n",
    "currency_info['date'] = pd.to_datetime(currency_info['date'], dayfirst=True) # приводим в формат даты столбец с датой\n",
    "\n",
    "\n",
    "currency_info = currency_info.drop(['per', 'time', 'vol'], axis=1) #удаляем лишнее\n",
    "#currency_info.info()\n",
    "#currency_info['proportion'].value_counts()  # смотрим, какие бывают пропорции"
   ]
  },
  {
   "cell_type": "code",
   "execution_count": 41,
   "metadata": {},
   "outputs": [
    {
     "data": {
      "text/html": [
       "<div>\n",
       "<style scoped>\n",
       "    .dataframe tbody tr th:only-of-type {\n",
       "        vertical-align: middle;\n",
       "    }\n",
       "\n",
       "    .dataframe tbody tr th {\n",
       "        vertical-align: top;\n",
       "    }\n",
       "\n",
       "    .dataframe thead th {\n",
       "        text-align: right;\n",
       "    }\n",
       "</style>\n",
       "<table border=\"1\" class=\"dataframe\">\n",
       "  <thead>\n",
       "    <tr style=\"text-align: right;\">\n",
       "      <th></th>\n",
       "      <th>currency</th>\n",
       "      <th>date</th>\n",
       "      <th>close</th>\n",
       "      <th>proportion</th>\n",
       "    </tr>\n",
       "  </thead>\n",
       "  <tbody>\n",
       "    <tr>\n",
       "      <th>0</th>\n",
       "      <td>USD</td>\n",
       "      <td>2017-12-29</td>\n",
       "      <td>57.6291</td>\n",
       "      <td>1</td>\n",
       "    </tr>\n",
       "    <tr>\n",
       "      <th>1</th>\n",
       "      <td>USD</td>\n",
       "      <td>2017-12-30</td>\n",
       "      <td>57.6002</td>\n",
       "      <td>1</td>\n",
       "    </tr>\n",
       "    <tr>\n",
       "      <th>2</th>\n",
       "      <td>USD</td>\n",
       "      <td>2017-12-31</td>\n",
       "      <td>57.6002</td>\n",
       "      <td>1</td>\n",
       "    </tr>\n",
       "    <tr>\n",
       "      <th>3</th>\n",
       "      <td>USD</td>\n",
       "      <td>2018-01-01</td>\n",
       "      <td>57.6002</td>\n",
       "      <td>1</td>\n",
       "    </tr>\n",
       "    <tr>\n",
       "      <th>4</th>\n",
       "      <td>USD</td>\n",
       "      <td>2018-01-02</td>\n",
       "      <td>57.6002</td>\n",
       "      <td>1</td>\n",
       "    </tr>\n",
       "    <tr>\n",
       "      <th>...</th>\n",
       "      <td>...</td>\n",
       "      <td>...</td>\n",
       "      <td>...</td>\n",
       "      <td>...</td>\n",
       "    </tr>\n",
       "    <tr>\n",
       "      <th>5659</th>\n",
       "      <td>AZN</td>\n",
       "      <td>2019-12-02</td>\n",
       "      <td>37.7729</td>\n",
       "      <td>1</td>\n",
       "    </tr>\n",
       "    <tr>\n",
       "      <th>5660</th>\n",
       "      <td>AZN</td>\n",
       "      <td>2019-12-03</td>\n",
       "      <td>37.9662</td>\n",
       "      <td>1</td>\n",
       "    </tr>\n",
       "    <tr>\n",
       "      <th>5661</th>\n",
       "      <td>AZN</td>\n",
       "      <td>2019-12-04</td>\n",
       "      <td>37.8073</td>\n",
       "      <td>1</td>\n",
       "    </tr>\n",
       "    <tr>\n",
       "      <th>5662</th>\n",
       "      <td>AZN</td>\n",
       "      <td>2019-12-05</td>\n",
       "      <td>37.8396</td>\n",
       "      <td>1</td>\n",
       "    </tr>\n",
       "    <tr>\n",
       "      <th>5663</th>\n",
       "      <td>AZN</td>\n",
       "      <td>2019-12-06</td>\n",
       "      <td>37.6148</td>\n",
       "      <td>1</td>\n",
       "    </tr>\n",
       "  </tbody>\n",
       "</table>\n",
       "<p>5664 rows × 4 columns</p>\n",
       "</div>"
      ],
      "text/plain": [
       "     currency       date    close  proportion\n",
       "0         USD 2017-12-29  57.6291           1\n",
       "1         USD 2017-12-30  57.6002           1\n",
       "2         USD 2017-12-31  57.6002           1\n",
       "3         USD 2018-01-01  57.6002           1\n",
       "4         USD 2018-01-02  57.6002           1\n",
       "...       ...        ...      ...         ...\n",
       "5659      AZN 2019-12-02  37.7729           1\n",
       "5660      AZN 2019-12-03  37.9662           1\n",
       "5661      AZN 2019-12-04  37.8073           1\n",
       "5662      AZN 2019-12-05  37.8396           1\n",
       "5663      AZN 2019-12-06  37.6148           1\n",
       "\n",
       "[5664 rows x 4 columns]"
      ]
     },
     "execution_count": 41,
     "metadata": {},
     "output_type": "execute_result"
    }
   ],
   "source": [
    "currency_info # смотрим саму таблицу"
   ]
  },
  {
   "cell_type": "code",
   "execution_count": 42,
   "metadata": {},
   "outputs": [
    {
     "data": {
      "text/plain": [
       "1        2832\n",
       "10       1416\n",
       "100       708\n",
       "10000     708\n",
       "Name: proportion, dtype: int64"
      ]
     },
     "execution_count": 42,
     "metadata": {},
     "output_type": "execute_result"
    }
   ],
   "source": [
    "currency_info['proportion'].value_counts() # за сколько единиц валюты продают"
   ]
  },
  {
   "cell_type": "code",
   "execution_count": 43,
   "metadata": {},
   "outputs": [
    {
     "data": {
      "text/plain": [
       "['AZN', 'BYN', 'EUR', 'KGS', 'KZT', 'UAH', 'USD', 'UZS', 'RUB']"
      ]
     },
     "execution_count": 43,
     "metadata": {},
     "output_type": "execute_result"
    }
   ],
   "source": [
    "# Работа с таблицей курсов валют\n",
    "currency_info = pd.read_csv('data/ExchangeRates.csv', sep= ',') # подгружаем таблицу с данным по курсам валют\n",
    "currency_info['date'] = pd.to_datetime(currency_info['date'], dayfirst=True) #меняем формат данных в столбце с датой с object на datetime64[ns]\n",
    "currency_info = currency_info.drop(['per', 'time', 'vol'], axis=1)    # удаляем лишние столбцы\n",
    "#currency_info.info()  # посмотреть информацию по изменившейся таблице\n",
    "#currency_info['proportion'].value_counts() #понять, какие бывают пропорции\n",
    "\n",
    "# вводим столбец курса на текущую дату с учетом пропорции, получаем итоговый курс за единицу валюты\n",
    "currency_info['rate'] = currency_info['close']/currency_info['proportion'] # делим цену закрытия на пропорцию,получаем итоговый курс\n",
    "currency_union=currency_info.pivot_table(               # создаем сводную таблицу, какой итоговый курс был на конкретную дату\n",
    "    values='rate',                                      # по значению итогового курса\n",
    "    index='date',                                       # где индексами будут даты \n",
    "    columns='currency',                                 # а столбцами названия валют в ISO-кодировке\n",
    "    fill_value=0\n",
    ")\n",
    "\n",
    "#currency_union.reset_index(inplace= True )             # Так можно столбец индексов сделать просто столбцом, а индексы будут номера строк, но это не нужно для объединения таблиц, тк объединение идет именно по индексу\n",
    "currency_union['RUB'] = 1                               # вводим дополнительный столбец с рублем, курс = 1\n",
    "list_cur = list(currency_union.columns)                 # получаем список столбцов таблицы - название валют в в ISO-кодировке\n",
    "list_cur"
   ]
  },
  {
   "cell_type": "code",
   "execution_count": 44,
   "metadata": {},
   "outputs": [
    {
     "data": {
      "text/plain": [
       "0       2019-04-16\n",
       "1       2019-04-12\n",
       "2       2019-04-16\n",
       "3       2019-04-08\n",
       "4       2019-04-22\n",
       "           ...    \n",
       "44739   2019-04-22\n",
       "44740   2019-04-22\n",
       "44741   2019-04-09\n",
       "44742   2019-04-26\n",
       "44743   2018-07-05\n",
       "Name: date, Length: 44744, dtype: datetime64[ns]"
      ]
     },
     "execution_count": 44,
     "metadata": {},
     "output_type": "execute_result"
    }
   ],
   "source": [
    "hh_database['date'] = pd.to_datetime(hh_database['Обновление резюме'], dayfirst=True).dt.date\n",
    "hh_database['date'] = pd.to_datetime(hh_database['date'])\n",
    "hh_database['date']"
   ]
  },
  {
   "cell_type": "code",
   "execution_count": 45,
   "metadata": {},
   "outputs": [
    {
     "data": {
      "text/plain": [
       "array(['USD', 'EUR', 'KZT', 'KGS', 'BYN', 'UAH', 'UZS', 'AZN'],\n",
       "      dtype=object)"
      ]
     },
     "execution_count": 45,
     "metadata": {},
     "output_type": "execute_result"
    }
   ],
   "source": [
    "currency_info.currency.unique()"
   ]
  },
  {
   "cell_type": "code",
   "execution_count": 46,
   "metadata": {},
   "outputs": [
    {
     "data": {
      "text/plain": [
       "[<matplotlib.lines.Line2D at 0x195e1138bd0>]"
      ]
     },
     "execution_count": 46,
     "metadata": {},
     "output_type": "execute_result"
    },
    {
     "data": {
      "image/png": "[encoded data removed]",
      "text/plain": [
       "<Figure size 640x480 with 1 Axes>"
      ]
     },
     "metadata": {},
     "output_type": "display_data"
    }
   ],
   "source": [
    "\n",
    "zp = hh_database[\"ЗП\"].apply(lambda x: x.split(' ')) # преобразуем каждое значение в столбце ЗП в список путем разбивания методом split по разделителю пробела\n",
    "hh_database[\"ЗП_размер\"] = zp.apply(lambda x: x[0]).astype('Float64') # создаем новый столбец с исходным размером зп и выделяем его из столбца ЗП, попутно преобразуя в число\n",
    "hh_database[\"ЗП_валюта\"] = zp.apply(lambda x: x[1]) # создаем новый столбец с исходной валютой зп и выделяем его из столбца ЗП\n",
    "\n",
    "#y= list(hh_database[\"ЗП_валюта\"].unique()) # список денежных единиц в исходной колонке с зп\n",
    "\n",
    "val = {'руб.': 'RUB', 'бел.руб.': 'BYN', 'KZT': 'KZT', 'EUR': 'EUR', 'USD': 'USD', 'грн.': 'UAH', 'сум': \"UZS\", 'KGS': 'KGS', 'AZN': 'AZN'}\n",
    "#hh_database[\"ЗП_размер\"] = \n",
    "\n",
    "hh_database[\"ЗП_валюта_ISO\"] = hh_database[\"ЗП_валюта\"].apply(lambda x: val.setdefault(x))\n",
    "hh_database[\"ЗП_валюта_ISO\"].value_counts()\n",
    "\n",
    "plt.plot(hh_database[\"ЗП_валюта_ISO\"].value_counts()) # по оси Х  - индексы серии, по У  - значения\n",
    "\n"
   ]
  },
  {
   "cell_type": "code",
   "execution_count": 47,
   "metadata": {},
   "outputs": [
    {
     "data": {
      "text/html": [
       "<div>\n",
       "<style scoped>\n",
       "    .dataframe tbody tr th:only-of-type {\n",
       "        vertical-align: middle;\n",
       "    }\n",
       "\n",
       "    .dataframe tbody tr th {\n",
       "        vertical-align: top;\n",
       "    }\n",
       "\n",
       "    .dataframe thead th {\n",
       "        text-align: right;\n",
       "    }\n",
       "</style>\n",
       "<table border=\"1\" class=\"dataframe\">\n",
       "  <thead>\n",
       "    <tr style=\"text-align: right;\">\n",
       "      <th></th>\n",
       "      <th>Пол, возраст</th>\n",
       "      <th>ЗП</th>\n",
       "      <th>Ищет работу на должность:</th>\n",
       "      <th>Город, переезд, командировки</th>\n",
       "      <th>Занятость</th>\n",
       "      <th>График</th>\n",
       "      <th>Опыт работы</th>\n",
       "      <th>Последнее/нынешнее место работы</th>\n",
       "      <th>Последняя/нынешняя должность</th>\n",
       "      <th>Образование и ВУЗ</th>\n",
       "      <th>...</th>\n",
       "      <th>ЗП_валюта_ISO</th>\n",
       "      <th>AZN</th>\n",
       "      <th>BYN</th>\n",
       "      <th>EUR</th>\n",
       "      <th>KGS</th>\n",
       "      <th>KZT</th>\n",
       "      <th>UAH</th>\n",
       "      <th>USD</th>\n",
       "      <th>UZS</th>\n",
       "      <th>RUB</th>\n",
       "    </tr>\n",
       "  </thead>\n",
       "  <tbody>\n",
       "    <tr>\n",
       "      <th>0</th>\n",
       "      <td>Мужчина ,  39 лет , родился 27 ноября 1979</td>\n",
       "      <td>29000 руб.</td>\n",
       "      <td>Системный администратор</td>\n",
       "      <td>Советск (Калининградская область) , не готов к...</td>\n",
       "      <td>частичная занятость, проектная работа, полная ...</td>\n",
       "      <td>гибкий график, полный день, сменный график, ва...</td>\n",
       "      <td>Опыт работы 16 лет 10 месяцев  Август 2010 — п...</td>\n",
       "      <td>МАОУ \"СОШ № 1 г.Немана\"</td>\n",
       "      <td>Системный администратор</td>\n",
       "      <td>Неоконченное высшее образование 2000  Балтийск...</td>\n",
       "      <td>...</td>\n",
       "      <td>RUB</td>\n",
       "      <td>37.8703</td>\n",
       "      <td>30.5559</td>\n",
       "      <td>72.7018</td>\n",
       "      <td>9.17813</td>\n",
       "      <td>0.169213</td>\n",
       "      <td>2.39893</td>\n",
       "      <td>64.2469</td>\n",
       "      <td>0.007604</td>\n",
       "      <td>1</td>\n",
       "    </tr>\n",
       "    <tr>\n",
       "      <th>1</th>\n",
       "      <td>Мужчина ,  60 лет , родился 20 марта 1959</td>\n",
       "      <td>40000 руб.</td>\n",
       "      <td>Технический писатель</td>\n",
       "      <td>Королев , не готов к переезду , готов к редким...</td>\n",
       "      <td>частичная занятость, проектная работа, полная ...</td>\n",
       "      <td>гибкий график, полный день, сменный график, уд...</td>\n",
       "      <td>Опыт работы 19 лет 5 месяцев  Январь 2000 — по...</td>\n",
       "      <td>Временный трудовой коллектив</td>\n",
       "      <td>Менеджер проекта, Аналитик, Технический писатель</td>\n",
       "      <td>Высшее образование 1981  Военно-космическая ак...</td>\n",
       "      <td>...</td>\n",
       "      <td>RUB</td>\n",
       "      <td>37.9600</td>\n",
       "      <td>30.4833</td>\n",
       "      <td>72.6551</td>\n",
       "      <td>9.20013</td>\n",
       "      <td>0.170287</td>\n",
       "      <td>2.39836</td>\n",
       "      <td>64.3991</td>\n",
       "      <td>0.007622</td>\n",
       "      <td>1</td>\n",
       "    </tr>\n",
       "    <tr>\n",
       "      <th>2</th>\n",
       "      <td>Женщина ,  36 лет , родилась 12 августа 1982</td>\n",
       "      <td>20000 руб.</td>\n",
       "      <td>Оператор</td>\n",
       "      <td>Тверь , не готова к переезду , не готова к ком...</td>\n",
       "      <td>полная занятость</td>\n",
       "      <td>полный день</td>\n",
       "      <td>Опыт работы 10 лет 3 месяца  Октябрь 2004 — Де...</td>\n",
       "      <td>ПАО Сбербанк</td>\n",
       "      <td>Кассир-операционист</td>\n",
       "      <td>Среднее специальное образование 2002 Профессио...</td>\n",
       "      <td>...</td>\n",
       "      <td>RUB</td>\n",
       "      <td>37.8703</td>\n",
       "      <td>30.5559</td>\n",
       "      <td>72.7018</td>\n",
       "      <td>9.17813</td>\n",
       "      <td>0.169213</td>\n",
       "      <td>2.39893</td>\n",
       "      <td>64.2469</td>\n",
       "      <td>0.007604</td>\n",
       "      <td>1</td>\n",
       "    </tr>\n",
       "    <tr>\n",
       "      <th>3</th>\n",
       "      <td>Мужчина ,  38 лет , родился 25 июня 1980</td>\n",
       "      <td>100000 руб.</td>\n",
       "      <td>Веб-разработчик (HTML / CSS / JS / PHP / базы ...</td>\n",
       "      <td>Саратов , не готов к переезду , готов к редким...</td>\n",
       "      <td>частичная занятость, проектная работа, полная ...</td>\n",
       "      <td>гибкий график, удаленная работа</td>\n",
       "      <td>Опыт работы 18 лет 9 месяцев  Август 2017 — Ап...</td>\n",
       "      <td>OpenSoft</td>\n",
       "      <td>Инженер-программист</td>\n",
       "      <td>Высшее образование 2002  Саратовский государст...</td>\n",
       "      <td>...</td>\n",
       "      <td>RUB</td>\n",
       "      <td>38.5542</td>\n",
       "      <td>30.5327</td>\n",
       "      <td>73.4392</td>\n",
       "      <td>9.36730</td>\n",
       "      <td>0.172088</td>\n",
       "      <td>2.44423</td>\n",
       "      <td>65.4072</td>\n",
       "      <td>0.007771</td>\n",
       "      <td>1</td>\n",
       "    </tr>\n",
       "    <tr>\n",
       "      <th>4</th>\n",
       "      <td>Женщина ,  26 лет , родилась 3 марта 1993</td>\n",
       "      <td>140000 руб.</td>\n",
       "      <td>Региональный менеджер по продажам</td>\n",
       "      <td>Москва , не готова к переезду , готова к коман...</td>\n",
       "      <td>полная занятость</td>\n",
       "      <td>полный день</td>\n",
       "      <td>Опыт работы 5 лет 7 месяцев  Региональный мене...</td>\n",
       "      <td>Мармелад</td>\n",
       "      <td>Менеджер по продажам</td>\n",
       "      <td>Высшее образование 2015 Кгу Психологии и педаг...</td>\n",
       "      <td>...</td>\n",
       "      <td>RUB</td>\n",
       "      <td>37.7013</td>\n",
       "      <td>30.5314</td>\n",
       "      <td>71.9232</td>\n",
       "      <td>9.16040</td>\n",
       "      <td>0.168680</td>\n",
       "      <td>2.38468</td>\n",
       "      <td>63.9602</td>\n",
       "      <td>0.007564</td>\n",
       "      <td>1</td>\n",
       "    </tr>\n",
       "  </tbody>\n",
       "</table>\n",
       "<p>5 rows × 35 columns</p>\n",
       "</div>"
      ],
      "text/plain": [
       "                                   Пол, возраст           ЗП  \\\n",
       "0    Мужчина ,  39 лет , родился 27 ноября 1979   29000 руб.   \n",
       "1     Мужчина ,  60 лет , родился 20 марта 1959   40000 руб.   \n",
       "2  Женщина ,  36 лет , родилась 12 августа 1982   20000 руб.   \n",
       "3      Мужчина ,  38 лет , родился 25 июня 1980  100000 руб.   \n",
       "4     Женщина ,  26 лет , родилась 3 марта 1993  140000 руб.   \n",
       "\n",
       "                           Ищет работу на должность:  \\\n",
       "0                            Системный администратор   \n",
       "1                               Технический писатель   \n",
       "2                                           Оператор   \n",
       "3  Веб-разработчик (HTML / CSS / JS / PHP / базы ...   \n",
       "4                  Региональный менеджер по продажам   \n",
       "\n",
       "                        Город, переезд, командировки  \\\n",
       "0  Советск (Калининградская область) , не готов к...   \n",
       "1  Королев , не готов к переезду , готов к редким...   \n",
       "2  Тверь , не готова к переезду , не готова к ком...   \n",
       "3  Саратов , не готов к переезду , готов к редким...   \n",
       "4  Москва , не готова к переезду , готова к коман...   \n",
       "\n",
       "                                           Занятость  \\\n",
       "0  частичная занятость, проектная работа, полная ...   \n",
       "1  частичная занятость, проектная работа, полная ...   \n",
       "2                                   полная занятость   \n",
       "3  частичная занятость, проектная работа, полная ...   \n",
       "4                                   полная занятость   \n",
       "\n",
       "                                              График  \\\n",
       "0  гибкий график, полный день, сменный график, ва...   \n",
       "1  гибкий график, полный день, сменный график, уд...   \n",
       "2                                        полный день   \n",
       "3                    гибкий график, удаленная работа   \n",
       "4                                        полный день   \n",
       "\n",
       "                                         Опыт работы  \\\n",
       "0  Опыт работы 16 лет 10 месяцев  Август 2010 — п...   \n",
       "1  Опыт работы 19 лет 5 месяцев  Январь 2000 — по...   \n",
       "2  Опыт работы 10 лет 3 месяца  Октябрь 2004 — Де...   \n",
       "3  Опыт работы 18 лет 9 месяцев  Август 2017 — Ап...   \n",
       "4  Опыт работы 5 лет 7 месяцев  Региональный мене...   \n",
       "\n",
       "  Последнее/нынешнее место работы  \\\n",
       "0         МАОУ \"СОШ № 1 г.Немана\"   \n",
       "1    Временный трудовой коллектив   \n",
       "2                    ПАО Сбербанк   \n",
       "3                        OpenSoft   \n",
       "4                        Мармелад   \n",
       "\n",
       "                       Последняя/нынешняя должность  \\\n",
       "0                           Системный администратор   \n",
       "1  Менеджер проекта, Аналитик, Технический писатель   \n",
       "2                               Кассир-операционист   \n",
       "3                               Инженер-программист   \n",
       "4                              Менеджер по продажам   \n",
       "\n",
       "                                   Образование и ВУЗ  ... ЗП_валюта_ISO  \\\n",
       "0  Неоконченное высшее образование 2000  Балтийск...  ...           RUB   \n",
       "1  Высшее образование 1981  Военно-космическая ак...  ...           RUB   \n",
       "2  Среднее специальное образование 2002 Профессио...  ...           RUB   \n",
       "3  Высшее образование 2002  Саратовский государст...  ...           RUB   \n",
       "4  Высшее образование 2015 Кгу Психологии и педаг...  ...           RUB   \n",
       "\n",
       "       AZN      BYN      EUR      KGS       KZT      UAH      USD       UZS  \\\n",
       "0  37.8703  30.5559  72.7018  9.17813  0.169213  2.39893  64.2469  0.007604   \n",
       "1  37.9600  30.4833  72.6551  9.20013  0.170287  2.39836  64.3991  0.007622   \n",
       "2  37.8703  30.5559  72.7018  9.17813  0.169213  2.39893  64.2469  0.007604   \n",
       "3  38.5542  30.5327  73.4392  9.36730  0.172088  2.44423  65.4072  0.007771   \n",
       "4  37.7013  30.5314  71.9232  9.16040  0.168680  2.38468  63.9602  0.007564   \n",
       "\n",
       "   RUB  \n",
       "0    1  \n",
       "1    1  \n",
       "2    1  \n",
       "3    1  \n",
       "4    1  \n",
       "\n",
       "[5 rows x 35 columns]"
      ]
     },
     "execution_count": 47,
     "metadata": {},
     "output_type": "execute_result"
    }
   ],
   "source": [
    "hh_union = hh_database.join(\n",
    "    currency_union,\n",
    "    on = 'date',\n",
    "    how='left'\n",
    ")\n",
    "hh_union.head()\n"
   ]
  },
  {
   "cell_type": "code",
   "execution_count": 48,
   "metadata": {},
   "outputs": [],
   "source": [
    "\n",
    "hh_union['ЗП_запрос'] = 0"
   ]
  },
  {
   "cell_type": "code",
   "execution_count": 49,
   "metadata": {},
   "outputs": [
    {
     "name": "stdout",
     "output_type": "stream",
     "text": [
      "<class 'pandas.core.frame.DataFrame'>\n",
      "RangeIndex: 44744 entries, 0 to 44743\n",
      "Data columns (total 36 columns):\n",
      " #   Column                           Non-Null Count  Dtype         \n",
      "---  ------                           --------------  -----         \n",
      " 0   Пол, возраст                     44744 non-null  object        \n",
      " 1   ЗП                               44744 non-null  object        \n",
      " 2   Ищет работу на должность:        44744 non-null  object        \n",
      " 3   Город, переезд, командировки     44744 non-null  object        \n",
      " 4   Занятость                        44744 non-null  object        \n",
      " 5   График                           44744 non-null  object        \n",
      " 6   Опыт работы                      44576 non-null  object        \n",
      " 7   Последнее/нынешнее место работы  44743 non-null  object        \n",
      " 8   Последняя/нынешняя должность     44742 non-null  object        \n",
      " 9   Образование и ВУЗ                44744 non-null  object        \n",
      " 10  Обновление резюме                44744 non-null  object        \n",
      " 11  Авто                             44744 non-null  object        \n",
      " 12  стажировка                       44744 non-null  bool          \n",
      " 13  волонтерство                     44744 non-null  bool          \n",
      " 14  полная занятость                 44744 non-null  bool          \n",
      " 15  проектная работа                 44744 non-null  bool          \n",
      " 16  частичная занятость              44744 non-null  bool          \n",
      " 17  вахтовый метод                   44744 non-null  bool          \n",
      " 18  полный день                      44744 non-null  bool          \n",
      " 19  удаленная работа                 44744 non-null  bool          \n",
      " 20  гибкий график                    44744 non-null  bool          \n",
      " 21  сменный график                   44744 non-null  bool          \n",
      " 22  date                             44744 non-null  datetime64[ns]\n",
      " 23  ЗП_размер                        44744 non-null  Float64       \n",
      " 24  ЗП_валюта                        44744 non-null  object        \n",
      " 25  ЗП_валюта_ISO                    44744 non-null  object        \n",
      " 26  AZN                              44744 non-null  float64       \n",
      " 27  BYN                              44744 non-null  float64       \n",
      " 28  EUR                              44744 non-null  float64       \n",
      " 29  KGS                              44744 non-null  float64       \n",
      " 30  KZT                              44744 non-null  float64       \n",
      " 31  UAH                              44744 non-null  float64       \n",
      " 32  USD                              44744 non-null  float64       \n",
      " 33  UZS                              44744 non-null  float64       \n",
      " 34  RUB                              44744 non-null  int64         \n",
      " 35  ЗП_запрос                        44744 non-null  int64         \n",
      "dtypes: Float64(1), bool(10), datetime64[ns](1), float64(8), int64(2), object(14)\n",
      "memory usage: 9.3+ MB\n"
     ]
    }
   ],
   "source": [
    "hh_union.info()"
   ]
  },
  {
   "cell_type": "code",
   "execution_count": 50,
   "metadata": {},
   "outputs": [
    {
     "name": "stderr",
     "output_type": "stream",
     "text": [
      "C:\\Users\\Людмила\\AppData\\Local\\Temp\\ipykernel_6508\\2490510801.py:5: SettingWithCopyWarning:\n",
      "\n",
      "\n",
      "A value is trying to be set on a copy of a slice from a DataFrame\n",
      "\n",
      "See the caveats in the documentation: https://pandas.pydata.org/pandas-docs/stable/user_guide/indexing.html#returning-a-view-versus-a-copy\n",
      "\n"
     ]
    }
   ],
   "source": [
    "for i in hh_union.index:\n",
    "    #print (hh_union['ЗП_валюта_ISO'].iloc[i])\n",
    "    for j in list_cur:\n",
    "        if hh_union['ЗП_валюта_ISO'].iloc[i] == j:\n",
    "            hh_union['ЗП_запрос'].iloc[i] = hh_union['ЗП_размер'].iloc[i]*hh_union[j].iloc[i]\n",
    "            \n",
    "    \n",
    "    #print(i)\n",
    "\n",
    "   "
   ]
  },
  {
   "cell_type": "code",
   "execution_count": 51,
   "metadata": {},
   "outputs": [
    {
     "data": {
      "text/plain": [
       "59019.0"
      ]
     },
     "execution_count": 51,
     "metadata": {},
     "output_type": "execute_result"
    }
   ],
   "source": [
    "hh_union['ЗП_запрос'].astype('float64')\n",
    "hh_union['ЗП_запрос'].median()"
   ]
  },
  {
   "cell_type": "code",
   "execution_count": 52,
   "metadata": {},
   "outputs": [
    {
     "data": {
      "text/plain": [
       "8623     24513.32\n",
       "13187    37701.30\n",
       "31965    26390.91\n",
       "Name: ЗП_запрос, dtype: float64"
      ]
     },
     "execution_count": 52,
     "metadata": {},
     "output_type": "execute_result"
    }
   ],
   "source": [
    "mask = hh_union['ЗП_валюта_ISO'] == 'AZN'\n",
    "hh_union[mask]['ЗП_запрос']"
   ]
  },
  {
   "cell_type": "code",
   "execution_count": 53,
   "metadata": {},
   "outputs": [
    {
     "name": "stdout",
     "output_type": "stream",
     "text": [
      "650 AZN 2019-04-25 00:00:00\n",
      "37.7128\n"
     ]
    }
   ],
   "source": [
    "print(hh_union['ЗП'].iloc[8623], hh_union['date'].iloc[8623])\n",
    "print(currency_union['AZN'].loc['2019-04-25'])"
   ]
  },
  {
   "cell_type": "code",
   "execution_count": 54,
   "metadata": {},
   "outputs": [
    {
     "name": "stdout",
     "output_type": "stream",
     "text": [
      "1000 AZN 2019-04-22 00:00:00\n",
      "37.7013\n"
     ]
    }
   ],
   "source": [
    "print(hh_union['ЗП'].iloc[13187], hh_union['date'].iloc[13187])\n",
    "print(currency_union['AZN'].loc['2019-04-22'])"
   ]
  },
  {
   "cell_type": "code",
   "execution_count": 55,
   "metadata": {},
   "outputs": [
    {
     "name": "stdout",
     "output_type": "stream",
     "text": [
      "700 AZN 2019-04-22 00:00:00\n",
      "37.7013\n"
     ]
    }
   ],
   "source": [
    "print(hh_union['ЗП'].iloc[31965], hh_union['date'].iloc[31965])\n",
    "print(currency_union['AZN'].loc['2019-04-22'])"
   ]
  },
  {
   "cell_type": "code",
   "execution_count": 56,
   "metadata": {},
   "outputs": [
    {
     "name": "stdout",
     "output_type": "stream",
     "text": [
      "<class 'pandas.core.frame.DataFrame'>\n",
      "RangeIndex: 44744 entries, 0 to 44743\n",
      "Data columns (total 36 columns):\n",
      " #   Column                           Non-Null Count  Dtype         \n",
      "---  ------                           --------------  -----         \n",
      " 0   Пол, возраст                     44744 non-null  object        \n",
      " 1   ЗП                               44744 non-null  object        \n",
      " 2   Ищет работу на должность:        44744 non-null  object        \n",
      " 3   Город, переезд, командировки     44744 non-null  object        \n",
      " 4   Занятость                        44744 non-null  object        \n",
      " 5   График                           44744 non-null  object        \n",
      " 6   Опыт работы                      44576 non-null  object        \n",
      " 7   Последнее/нынешнее место работы  44743 non-null  object        \n",
      " 8   Последняя/нынешняя должность     44742 non-null  object        \n",
      " 9   Образование и ВУЗ                44744 non-null  object        \n",
      " 10  Обновление резюме                44744 non-null  object        \n",
      " 11  Авто                             44744 non-null  object        \n",
      " 12  стажировка                       44744 non-null  bool          \n",
      " 13  волонтерство                     44744 non-null  bool          \n",
      " 14  полная занятость                 44744 non-null  bool          \n",
      " 15  проектная работа                 44744 non-null  bool          \n",
      " 16  частичная занятость              44744 non-null  bool          \n",
      " 17  вахтовый метод                   44744 non-null  bool          \n",
      " 18  полный день                      44744 non-null  bool          \n",
      " 19  удаленная работа                 44744 non-null  bool          \n",
      " 20  гибкий график                    44744 non-null  bool          \n",
      " 21  сменный график                   44744 non-null  bool          \n",
      " 22  date                             44744 non-null  datetime64[ns]\n",
      " 23  ЗП_размер                        44744 non-null  Float64       \n",
      " 24  ЗП_валюта                        44744 non-null  object        \n",
      " 25  ЗП_валюта_ISO                    44744 non-null  object        \n",
      " 26  AZN                              44744 non-null  float64       \n",
      " 27  BYN                              44744 non-null  float64       \n",
      " 28  EUR                              44744 non-null  float64       \n",
      " 29  KGS                              44744 non-null  float64       \n",
      " 30  KZT                              44744 non-null  float64       \n",
      " 31  UAH                              44744 non-null  float64       \n",
      " 32  USD                              44744 non-null  float64       \n",
      " 33  UZS                              44744 non-null  float64       \n",
      " 34  RUB                              44744 non-null  int64         \n",
      " 35  ЗП_запрос                        44744 non-null  float64       \n",
      "dtypes: Float64(1), bool(10), datetime64[ns](1), float64(9), int64(1), object(14)\n",
      "memory usage: 9.3+ MB\n"
     ]
    }
   ],
   "source": [
    "hh_union.info()"
   ]
  },
  {
   "cell_type": "code",
   "execution_count": 57,
   "metadata": {},
   "outputs": [],
   "source": [
    "hh_union_new = hh_union.drop(['Город, переезд, командировки', 'Занятость', 'График', 'Образование и ВУЗ', 'ЗП', 'ЗП_размер', 'ЗП_валюта', 'ЗП_валюта_ISO', \n",
    "                              'AZN', 'BYN', 'EUR', 'KGS', 'KZT', 'UAH', 'USD', 'UZS', 'RUB' ], axis=1)"
   ]
  },
  {
   "cell_type": "code",
   "execution_count": 58,
   "metadata": {},
   "outputs": [
    {
     "name": "stdout",
     "output_type": "stream",
     "text": [
      "<class 'pandas.core.frame.DataFrame'>\n",
      "RangeIndex: 44744 entries, 0 to 44743\n",
      "Data columns (total 19 columns):\n",
      " #   Column                           Non-Null Count  Dtype         \n",
      "---  ------                           --------------  -----         \n",
      " 0   Пол, возраст                     44744 non-null  object        \n",
      " 1   Ищет работу на должность:        44744 non-null  object        \n",
      " 2   Опыт работы                      44576 non-null  object        \n",
      " 3   Последнее/нынешнее место работы  44743 non-null  object        \n",
      " 4   Последняя/нынешняя должность     44742 non-null  object        \n",
      " 5   Обновление резюме                44744 non-null  object        \n",
      " 6   Авто                             44744 non-null  object        \n",
      " 7   стажировка                       44744 non-null  bool          \n",
      " 8   волонтерство                     44744 non-null  bool          \n",
      " 9   полная занятость                 44744 non-null  bool          \n",
      " 10  проектная работа                 44744 non-null  bool          \n",
      " 11  частичная занятость              44744 non-null  bool          \n",
      " 12  вахтовый метод                   44744 non-null  bool          \n",
      " 13  полный день                      44744 non-null  bool          \n",
      " 14  удаленная работа                 44744 non-null  bool          \n",
      " 15  гибкий график                    44744 non-null  bool          \n",
      " 16  сменный график                   44744 non-null  bool          \n",
      " 17  date                             44744 non-null  datetime64[ns]\n",
      " 18  ЗП_запрос                        44744 non-null  float64       \n",
      "dtypes: bool(10), datetime64[ns](1), float64(1), object(7)\n",
      "memory usage: 3.5+ MB\n"
     ]
    }
   ],
   "source": [
    "hh_union_new.info()"
   ]
  },
  {
   "cell_type": "code",
   "execution_count": 59,
   "metadata": {},
   "outputs": [
    {
     "data": {
      "application/vnd.plotly.v1+json": {
       "config": {
        "plotlyServerURL": "https://plot.ly"
       },
       "data": [
        {
         "hovertemplate": "x=%{x}<br>y=%{y}<extra></extra>",
         "legendgroup": "",
         "marker": {
          "color": "#636efa",
          "symbol": "circle"
         },
         "mode": "markers",
         "name": "",
         "orientation": "v",
         "showlegend": false,
         "type": "scatter",
         "x": [
          0,
          0.1,
          0.2,
          0.30000000000000004,
          0.4,
          0.5,
          0.6000000000000001,
          0.7000000000000001,
          0.8,
          0.9,
          1,
          1.1,
          1.2000000000000002,
          1.3,
          1.4000000000000001,
          1.5,
          1.6,
          1.7000000000000002,
          1.8,
          1.9000000000000001,
          2,
          2.1,
          2.2,
          2.3000000000000003,
          2.4000000000000004,
          2.5,
          2.6,
          2.7,
          2.8000000000000003,
          2.9000000000000004,
          3,
          3.1,
          3.2,
          3.3000000000000003,
          3.4000000000000004,
          3.5,
          3.6,
          3.7,
          3.8000000000000003,
          3.9000000000000004,
          4,
          4.1000000000000005,
          4.2,
          4.3,
          4.4,
          4.5,
          4.6000000000000005,
          4.7,
          4.800000000000001,
          4.9
         ],
         "xaxis": "x",
         "y": [
          0,
          0.010000000000000002,
          0.04000000000000001,
          0.09000000000000002,
          0.16000000000000003,
          0.25,
          0.3600000000000001,
          0.4900000000000001,
          0.6400000000000001,
          0.81,
          1,
          1.2100000000000002,
          1.4400000000000004,
          1.6900000000000002,
          1.9600000000000004,
          2.25,
          2.5600000000000005,
          2.8900000000000006,
          3.24,
          3.6100000000000003,
          4,
          4.41,
          4.840000000000001,
          5.290000000000001,
          5.760000000000002,
          6.25,
          6.760000000000001,
          7.290000000000001,
          7.840000000000002,
          8.410000000000002,
          9,
          9.610000000000001,
          10.240000000000002,
          10.890000000000002,
          11.560000000000002,
          12.25,
          12.96,
          13.690000000000001,
          14.440000000000001,
          15.210000000000003,
          16,
          16.810000000000006,
          17.64,
          18.49,
          19.360000000000003,
          20.25,
          21.160000000000004,
          22.090000000000003,
          23.040000000000006,
          24.010000000000005
         ],
         "yaxis": "y"
        }
       ],
       "layout": {
        "legend": {
         "tracegroupgap": 0
        },
        "margin": {
         "t": 60
        },
        "template": {
         "data": {
          "bar": [
           {
            "error_x": {
             "color": "#2a3f5f"
            },
            "error_y": {
             "color": "#2a3f5f"
            },
            "marker": {
             "line": {
              "color": "#E5ECF6",
              "width": 0.5
             },
             "pattern": {
              "fillmode": "overlay",
              "size": 10,
              "solidity": 0.2
             }
            },
            "type": "bar"
           }
          ],
          "barpolar": [
           {
            "marker": {
             "line": {
              "color": "#E5ECF6",
              "width": 0.5
             },
             "pattern": {
              "fillmode": "overlay",
              "size": 10,
              "solidity": 0.2
             }
            },
            "type": "barpolar"
           }
          ],
          "carpet": [
           {
            "aaxis": {
             "endlinecolor": "#2a3f5f",
             "gridcolor": "white",
             "linecolor": "white",
             "minorgridcolor": "white",
             "startlinecolor": "#2a3f5f"
            },
            "baxis": {
             "endlinecolor": "#2a3f5f",
             "gridcolor": "white",
             "linecolor": "white",
             "minorgridcolor": "white",
             "startlinecolor": "#2a3f5f"
            },
            "type": "carpet"
           }
          ],
          "choropleth": [
           {
            "colorbar": {
             "outlinewidth": 0,
             "ticks": ""
            },
            "type": "choropleth"
           }
          ],
          "contour": [
           {
            "colorbar": {
             "outlinewidth": 0,
             "ticks": ""
            },
            "colorscale": [
             [
              0,
              "#0d0887"
             ],
             [
              0.1111111111111111,
              "#46039f"
             ],
             [
              0.2222222222222222,
              "#7201a8"
             ],
             [
              0.3333333333333333,
              "#9c179e"
             ],
             [
              0.4444444444444444,
              "#bd3786"
             ],
             [
              0.5555555555555556,
              "#d8576b"
             ],
             [
              0.6666666666666666,
              "#ed7953"
             ],
             [
              0.7777777777777778,
              "#fb9f3a"
             ],
             [
              0.8888888888888888,
              "#fdca26"
             ],
             [
              1,
              "#f0f921"
             ]
            ],
            "type": "contour"
           }
          ],
          "contourcarpet": [
           {
            "colorbar": {
             "outlinewidth": 0,
             "ticks": ""
            },
            "type": "contourcarpet"
           }
          ],
          "heatmap": [
           {
            "colorbar": {
             "outlinewidth": 0,
             "ticks": ""
            },
            "colorscale": [
             [
              0,
              "#0d0887"
             ],
             [
              0.1111111111111111,
              "#46039f"
             ],
             [
              0.2222222222222222,
              "#7201a8"
             ],
             [
              0.3333333333333333,
              "#9c179e"
             ],
             [
              0.4444444444444444,
              "#bd3786"
             ],
             [
              0.5555555555555556,
              "#d8576b"
             ],
             [
              0.6666666666666666,
              "#ed7953"
             ],
             [
              0.7777777777777778,
              "#fb9f3a"
             ],
             [
              0.8888888888888888,
              "#fdca26"
             ],
             [
              1,
              "#f0f921"
             ]
            ],
            "type": "heatmap"
           }
          ],
          "heatmapgl": [
           {
            "colorbar": {
             "outlinewidth": 0,
             "ticks": ""
            },
            "colorscale": [
             [
              0,
              "#0d0887"
             ],
             [
              0.1111111111111111,
              "#46039f"
             ],
             [
              0.2222222222222222,
              "#7201a8"
             ],
             [
              0.3333333333333333,
              "#9c179e"
             ],
             [
              0.4444444444444444,
              "#bd3786"
             ],
             [
              0.5555555555555556,
              "#d8576b"
             ],
             [
              0.6666666666666666,
              "#ed7953"
             ],
             [
              0.7777777777777778,
              "#fb9f3a"
             ],
             [
              0.8888888888888888,
              "#fdca26"
             ],
             [
              1,
              "#f0f921"
             ]
            ],
            "type": "heatmapgl"
           }
          ],
          "histogram": [
           {
            "marker": {
             "pattern": {
              "fillmode": "overlay",
              "size": 10,
              "solidity": 0.2
             }
            },
            "type": "histogram"
           }
          ],
          "histogram2d": [
           {
            "colorbar": {
             "outlinewidth": 0,
             "ticks": ""
            },
            "colorscale": [
             [
              0,
              "#0d0887"
             ],
             [
              0.1111111111111111,
              "#46039f"
             ],
             [
              0.2222222222222222,
              "#7201a8"
             ],
             [
              0.3333333333333333,
              "#9c179e"
             ],
             [
              0.4444444444444444,
              "#bd3786"
             ],
             [
              0.5555555555555556,
              "#d8576b"
             ],
             [
              0.6666666666666666,
              "#ed7953"
             ],
             [
              0.7777777777777778,
              "#fb9f3a"
             ],
             [
              0.8888888888888888,
              "#fdca26"
             ],
             [
              1,
              "#f0f921"
             ]
            ],
            "type": "histogram2d"
           }
          ],
          "histogram2dcontour": [
           {
            "colorbar": {
             "outlinewidth": 0,
             "ticks": ""
            },
            "colorscale": [
             [
              0,
              "#0d0887"
             ],
             [
              0.1111111111111111,
              "#46039f"
             ],
             [
              0.2222222222222222,
              "#7201a8"
             ],
             [
              0.3333333333333333,
              "#9c179e"
             ],
             [
              0.4444444444444444,
              "#bd3786"
             ],
             [
              0.5555555555555556,
              "#d8576b"
             ],
             [
              0.6666666666666666,
              "#ed7953"
             ],
             [
              0.7777777777777778,
              "#fb9f3a"
             ],
             [
              0.8888888888888888,
              "#fdca26"
             ],
             [
              1,
              "#f0f921"
             ]
            ],
            "type": "histogram2dcontour"
           }
          ],
          "mesh3d": [
           {
            "colorbar": {
             "outlinewidth": 0,
             "ticks": ""
            },
            "type": "mesh3d"
           }
          ],
          "parcoords": [
           {
            "line": {
             "colorbar": {
              "outlinewidth": 0,
              "ticks": ""
             }
            },
            "type": "parcoords"
           }
          ],
          "pie": [
           {
            "automargin": true,
            "type": "pie"
           }
          ],
          "scatter": [
           {
            "fillpattern": {
             "fillmode": "overlay",
             "size": 10,
             "solidity": 0.2
            },
            "type": "scatter"
           }
          ],
          "scatter3d": [
           {
            "line": {
             "colorbar": {
              "outlinewidth": 0,
              "ticks": ""
             }
            },
            "marker": {
             "colorbar": {
              "outlinewidth": 0,
              "ticks": ""
             }
            },
            "type": "scatter3d"
           }
          ],
          "scattercarpet": [
           {
            "marker": {
             "colorbar": {
              "outlinewidth": 0,
              "ticks": ""
             }
            },
            "type": "scattercarpet"
           }
          ],
          "scattergeo": [
           {
            "marker": {
             "colorbar": {
              "outlinewidth": 0,
              "ticks": ""
             }
            },
            "type": "scattergeo"
           }
          ],
          "scattergl": [
           {
            "marker": {
             "colorbar": {
              "outlinewidth": 0,
              "ticks": ""
             }
            },
            "type": "scattergl"
           }
          ],
          "scattermapbox": [
           {
            "marker": {
             "colorbar": {
              "outlinewidth": 0,
              "ticks": ""
             }
            },
            "type": "scattermapbox"
           }
          ],
          "scatterpolar": [
           {
            "marker": {
             "colorbar": {
              "outlinewidth": 0,
              "ticks": ""
             }
            },
            "type": "scatterpolar"
           }
          ],
          "scatterpolargl": [
           {
            "marker": {
             "colorbar": {
              "outlinewidth": 0,
              "ticks": ""
             }
            },
            "type": "scatterpolargl"
           }
          ],
          "scatterternary": [
           {
            "marker": {
             "colorbar": {
              "outlinewidth": 0,
              "ticks": ""
             }
            },
            "type": "scatterternary"
           }
          ],
          "surface": [
           {
            "colorbar": {
             "outlinewidth": 0,
             "ticks": ""
            },
            "colorscale": [
             [
              0,
              "#0d0887"
             ],
             [
              0.1111111111111111,
              "#46039f"
             ],
             [
              0.2222222222222222,
              "#7201a8"
             ],
             [
              0.3333333333333333,
              "#9c179e"
             ],
             [
              0.4444444444444444,
              "#bd3786"
             ],
             [
              0.5555555555555556,
              "#d8576b"
             ],
             [
              0.6666666666666666,
              "#ed7953"
             ],
             [
              0.7777777777777778,
              "#fb9f3a"
             ],
             [
              0.8888888888888888,
              "#fdca26"
             ],
             [
              1,
              "#f0f921"
             ]
            ],
            "type": "surface"
           }
          ],
          "table": [
           {
            "cells": {
             "fill": {
              "color": "#EBF0F8"
             },
             "line": {
              "color": "white"
             }
            },
            "header": {
             "fill": {
              "color": "#C8D4E3"
             },
             "line": {
              "color": "white"
             }
            },
            "type": "table"
           }
          ]
         },
         "layout": {
          "annotationdefaults": {
           "arrowcolor": "#2a3f5f",
           "arrowhead": 0,
           "arrowwidth": 1
          },
          "autotypenumbers": "strict",
          "coloraxis": {
           "colorbar": {
            "outlinewidth": 0,
            "ticks": ""
           }
          },
          "colorscale": {
           "diverging": [
            [
             0,
             "#8e0152"
            ],
            [
             0.1,
             "#c51b7d"
            ],
            [
             0.2,
             "#de77ae"
            ],
            [
             0.3,
             "#f1b6da"
            ],
            [
             0.4,
             "#fde0ef"
            ],
            [
             0.5,
             "#f7f7f7"
            ],
            [
             0.6,
             "#e6f5d0"
            ],
            [
             0.7,
             "#b8e186"
            ],
            [
             0.8,
             "#7fbc41"
            ],
            [
             0.9,
             "#4d9221"
            ],
            [
             1,
             "#276419"
            ]
           ],
           "sequential": [
            [
             0,
             "#0d0887"
            ],
            [
             0.1111111111111111,
             "#46039f"
            ],
            [
             0.2222222222222222,
             "#7201a8"
            ],
            [
             0.3333333333333333,
             "#9c179e"
            ],
            [
             0.4444444444444444,
             "#bd3786"
            ],
            [
             0.5555555555555556,
             "#d8576b"
            ],
            [
             0.6666666666666666,
             "#ed7953"
            ],
            [
             0.7777777777777778,
             "#fb9f3a"
            ],
            [
             0.8888888888888888,
             "#fdca26"
            ],
            [
             1,
             "#f0f921"
            ]
           ],
           "sequentialminus": [
            [
             0,
             "#0d0887"
            ],
            [
             0.1111111111111111,
             "#46039f"
            ],
            [
             0.2222222222222222,
             "#7201a8"
            ],
            [
             0.3333333333333333,
             "#9c179e"
            ],
            [
             0.4444444444444444,
             "#bd3786"
            ],
            [
             0.5555555555555556,
             "#d8576b"
            ],
            [
             0.6666666666666666,
             "#ed7953"
            ],
            [
             0.7777777777777778,
             "#fb9f3a"
            ],
            [
             0.8888888888888888,
             "#fdca26"
            ],
            [
             1,
             "#f0f921"
            ]
           ]
          },
          "colorway": [
           "#636efa",
           "#EF553B",
           "#00cc96",
           "#ab63fa",
           "#FFA15A",
           "#19d3f3",
           "#FF6692",
           "#B6E880",
           "#FF97FF",
           "#FECB52"
          ],
          "font": {
           "color": "#2a3f5f"
          },
          "geo": {
           "bgcolor": "white",
           "lakecolor": "white",
           "landcolor": "#E5ECF6",
           "showlakes": true,
           "showland": true,
           "subunitcolor": "white"
          },
          "hoverlabel": {
           "align": "left"
          },
          "hovermode": "closest",
          "mapbox": {
           "style": "light"
          },
          "paper_bgcolor": "white",
          "plot_bgcolor": "#E5ECF6",
          "polar": {
           "angularaxis": {
            "gridcolor": "white",
            "linecolor": "white",
            "ticks": ""
           },
           "bgcolor": "#E5ECF6",
           "radialaxis": {
            "gridcolor": "white",
            "linecolor": "white",
            "ticks": ""
           }
          },
          "scene": {
           "xaxis": {
            "backgroundcolor": "#E5ECF6",
            "gridcolor": "white",
            "gridwidth": 2,
            "linecolor": "white",
            "showbackground": true,
            "ticks": "",
            "zerolinecolor": "white"
           },
           "yaxis": {
            "backgroundcolor": "#E5ECF6",
            "gridcolor": "white",
            "gridwidth": 2,
            "linecolor": "white",
            "showbackground": true,
            "ticks": "",
            "zerolinecolor": "white"
           },
           "zaxis": {
            "backgroundcolor": "#E5ECF6",
            "gridcolor": "white",
            "gridwidth": 2,
            "linecolor": "white",
            "showbackground": true,
            "ticks": "",
            "zerolinecolor": "white"
           }
          },
          "shapedefaults": {
           "line": {
            "color": "#2a3f5f"
           }
          },
          "ternary": {
           "aaxis": {
            "gridcolor": "white",
            "linecolor": "white",
            "ticks": ""
           },
           "baxis": {
            "gridcolor": "white",
            "linecolor": "white",
            "ticks": ""
           },
           "bgcolor": "#E5ECF6",
           "caxis": {
            "gridcolor": "white",
            "linecolor": "white",
            "ticks": ""
           }
          },
          "title": {
           "x": 0.05
          },
          "xaxis": {
           "automargin": true,
           "gridcolor": "white",
           "linecolor": "white",
           "ticks": "",
           "title": {
            "standoff": 15
           },
           "zerolinecolor": "white",
           "zerolinewidth": 2
          },
          "yaxis": {
           "automargin": true,
           "gridcolor": "white",
           "linecolor": "white",
           "ticks": "",
           "title": {
            "standoff": 15
           },
           "zerolinecolor": "white",
           "zerolinewidth": 2
          }
         }
        },
        "xaxis": {
         "anchor": "y",
         "domain": [
          0,
          1
         ],
         "title": {
          "text": "x"
         }
        },
        "yaxis": {
         "anchor": "x",
         "domain": [
          0,
          1
         ],
         "title": {
          "text": "y"
         }
        }
       }
      }
     },
     "metadata": {},
     "output_type": "display_data"
    }
   ],
   "source": [
    "x = np.arange(0, 5, 0.1)\n",
    "def f(x):\n",
    "    return x**2\n",
    "\n",
    "px.scatter(x=x, y=f(x)).show()"
   ]
  }
 ],
 "metadata": {
  "kernelspec": {
   "display_name": "Python 3",
   "language": "python",
   "name": "python3"
  },
  "language_info": {
   "codemirror_mode": {
    "name": "ipython",
    "version": 3
   },
   "file_extension": ".py",
   "mimetype": "text/x-python",
   "name": "python",
   "nbconvert_exporter": "python",
   "pygments_lexer": "ipython3",
   "version": "3.11.0"
  },
  "orig_nbformat": 4
 },
 "nbformat": 4,
 "nbformat_minor": 2
}
