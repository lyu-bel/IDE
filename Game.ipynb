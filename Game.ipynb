{
 "cells": [
  {
   "cell_type": "code",
   "execution_count": 2,
   "metadata": {},
   "outputs": [
    {
     "ename": "IndentationError",
     "evalue": "unindent does not match any outer indentation level (<tokenize>, line 20)",
     "output_type": "error",
     "traceback": [
      "\u001b[1;36m  File \u001b[1;32m<tokenize>:20\u001b[1;36m\u001b[0m\n\u001b[1;33m    print(number, predict_number)\u001b[0m\n\u001b[1;37m    ^\u001b[0m\n\u001b[1;31mIndentationError\u001b[0m\u001b[1;31m:\u001b[0m unindent does not match any outer indentation level\n"
     ]
    }
   ],
   "source": [
    "#guess the number\n",
    "import numpy as np\n",
    "n = 100\n",
    "nd=0\n",
    "kd=n\n",
    "number = np.random.randint(1, n+1) # загадываем число\n",
    "count = 0\n",
    "predict_number=50\n",
    "while True:\n",
    "    count +=1\n",
    "    if number==1 or number==100 or predict_number==number:\n",
    "        print(f\"Вы угадали число! Это число = {number}, за {count} попыток\") \n",
    "        break\n",
    "    if predict_number>number:\n",
    "        predict_number=predict_number+(kd-predict_number)//2\n",
    "        nd=predict_number\n",
    "    if predict_number<number:\n",
    "       predict_number=predict_number-(predict_number-nd)//2\n",
    "       kd=predict_number\n",
    "  print(number, predict_number)  "
   ]
  }
 ],
 "metadata": {
  "kernelspec": {
   "display_name": "Python 3",
   "language": "python",
   "name": "python3"
  },
  "language_info": {
   "codemirror_mode": {
    "name": "ipython",
    "version": 3
   },
   "file_extension": ".py",
   "mimetype": "text/x-python",
   "name": "python",
   "nbconvert_exporter": "python",
   "pygments_lexer": "ipython3",
   "version": "3.11.0"
  },
  "orig_nbformat": 4,
  "vscode": {
   "interpreter": {
    "hash": "e1d16d5a1ec97294322526250a12683f22a7478b9e5179e33780abaace6694ec"
   }
  }
 },
 "nbformat": 4,
 "nbformat_minor": 2
}
