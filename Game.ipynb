{
 "cells": [
  {
   "cell_type": "code",
   "execution_count": 19,
   "metadata": {},
   "outputs": [
    {
     "name": "stdout",
     "output_type": "stream",
     "text": [
      "3 1\n"
     ]
    },
    {
     "ename": "KeyboardInterrupt",
     "evalue": "",
     "output_type": "error",
     "traceback": [
      "\u001b[1;31m---------------------------------------------------------------------------\u001b[0m",
      "\u001b[1;31mKeyboardInterrupt\u001b[0m                         Traceback (most recent call last)",
      "Cell \u001b[1;32mIn [19], line 7\u001b[0m\n\u001b[0;32m      5\u001b[0m predict_number\u001b[39m=\u001b[39mnumber\u001b[39m/\u001b[39m\u001b[39m/\u001b[39m\u001b[39m2\u001b[39m\n\u001b[0;32m      6\u001b[0m \u001b[39mprint\u001b[39m (number, predict_number)\n\u001b[1;32m----> 7\u001b[0m \u001b[39mwhile\u001b[39;00m \u001b[39mTrue\u001b[39;00m:\n\u001b[0;32m      8\u001b[0m     count \u001b[39m+\u001b[39m\u001b[39m=\u001b[39m \u001b[39m1\u001b[39m\n\u001b[0;32m      9\u001b[0m     \u001b[39mif\u001b[39;00m number\u001b[39m!=\u001b[39mpredict_number:\n",
      "\u001b[1;31mKeyboardInterrupt\u001b[0m: "
     ]
    }
   ],
   "source": [
    "#guess the number\n",
    "import numpy as np\n",
    "n = 100\n",
    "nd=0\n",
    "kd=n\n",
    "number = np.random.randint(1, n+1) # загадываем число\n",
    "count = 0\n",
    "predict_number=50\n",
    "while True:\n",
    "    count +=1\n",
    "    if number==1 or number==100 or predict_number==number:\n",
    "        print(f\"Вы угадали число! Это число = {number}, за {count} попыток\") \n",
    "        break\n",
    "    if predict_number>number:\n",
    "        predict_number=predict_number+(kd-predict_number)//2\n",
    "        nd=predict_number\n",
    "    if predict_number<number:\n",
    "       predict_number=predict_number-(predict_number-nd)//2\n",
    "       kd=predict_number\n",
    "  print(number, predict_number)  "
   ]
  }
 ],
 "metadata": {
  "kernelspec": {
   "display_name": "Python 3",
   "language": "python",
   "name": "python3"
  },
  "language_info": {
   "codemirror_mode": {
    "name": "ipython",
    "version": 3
   },
   "file_extension": ".py",
   "mimetype": "text/x-python",
   "name": "python",
   "nbconvert_exporter": "python",
   "pygments_lexer": "ipython3",
   "version": "3.11.0 (main, Oct 24 2022, 18:26:48) [MSC v.1933 64 bit (AMD64)]"
  },
  "orig_nbformat": 4,
  "vscode": {
   "interpreter": {
    "hash": "e1d16d5a1ec97294322526250a12683f22a7478b9e5179e33780abaace6694ec"
   }
  }
 },
 "nbformat": 4,
 "nbformat_minor": 2
}
